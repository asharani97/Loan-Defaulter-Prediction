{
 "cells": [
  {
   "cell_type": "code",
   "execution_count": 3,
   "metadata": {},
   "outputs": [],
   "source": [
    "import h2o"
   ]
  },
  {
   "cell_type": "code",
   "execution_count": 11,
   "metadata": {},
   "outputs": [
    {
     "name": "stdout",
     "output_type": "stream",
     "text": [
      "Checking whether there is an H2O instance running at http://localhost:54323 ..... not found.\n",
      "Attempting to start a local H2O server...\n",
      "; Java HotSpot(TM) 64-Bit Server VM (build 25.121-b13, mixed mode)\n",
      "  Starting server from C:\\ProgramData\\Anaconda3\\lib\\site-packages\\h2o\\backend\\bin\\h2o.jar\n",
      "  Ice root: C:\\Users\\dbda\\AppData\\Local\\Temp\\tmpttpft8oq\n",
      "  JVM stdout: C:\\Users\\dbda\\AppData\\Local\\Temp\\tmpttpft8oq\\h2o_dbda_started_from_python.out\n",
      "  JVM stderr: C:\\Users\\dbda\\AppData\\Local\\Temp\\tmpttpft8oq\\h2o_dbda_started_from_python.err\n",
      "  Server is running at http://127.0.0.1:54323\n",
      "Connecting to H2O server at http://127.0.0.1:54323 ... successful.\n"
     ]
    },
    {
     "data": {
      "text/html": [
       "<div style=\"overflow:auto\"><table style=\"width:50%\"><tr><td>H2O cluster uptime:</td>\n",
       "<td>01 secs</td></tr>\n",
       "<tr><td>H2O cluster timezone:</td>\n",
       "<td>Asia/Kolkata</td></tr>\n",
       "<tr><td>H2O data parsing timezone:</td>\n",
       "<td>UTC</td></tr>\n",
       "<tr><td>H2O cluster version:</td>\n",
       "<td>3.26.0.1</td></tr>\n",
       "<tr><td>H2O cluster version age:</td>\n",
       "<td>8 days </td></tr>\n",
       "<tr><td>H2O cluster name:</td>\n",
       "<td>H2O_from_python_dbda_i5xrky</td></tr>\n",
       "<tr><td>H2O cluster total nodes:</td>\n",
       "<td>1</td></tr>\n",
       "<tr><td>H2O cluster free memory:</td>\n",
       "<td>1.754 Gb</td></tr>\n",
       "<tr><td>H2O cluster total cores:</td>\n",
       "<td>8</td></tr>\n",
       "<tr><td>H2O cluster allowed cores:</td>\n",
       "<td>8</td></tr>\n",
       "<tr><td>H2O cluster status:</td>\n",
       "<td>accepting new members, healthy</td></tr>\n",
       "<tr><td>H2O connection url:</td>\n",
       "<td>http://127.0.0.1:54323</td></tr>\n",
       "<tr><td>H2O connection proxy:</td>\n",
       "<td>None</td></tr>\n",
       "<tr><td>H2O internal security:</td>\n",
       "<td>False</td></tr>\n",
       "<tr><td>H2O API Extensions:</td>\n",
       "<td>Amazon S3, Algos, AutoML, Core V3, Core V4</td></tr>\n",
       "<tr><td>Python version:</td>\n",
       "<td>3.6.5 final</td></tr></table></div>"
      ],
      "text/plain": [
       "--------------------------  ------------------------------------------\n",
       "H2O cluster uptime:         01 secs\n",
       "H2O cluster timezone:       Asia/Kolkata\n",
       "H2O data parsing timezone:  UTC\n",
       "H2O cluster version:        3.26.0.1\n",
       "H2O cluster version age:    8 days\n",
       "H2O cluster name:           H2O_from_python_dbda_i5xrky\n",
       "H2O cluster total nodes:    1\n",
       "H2O cluster free memory:    1.754 Gb\n",
       "H2O cluster total cores:    8\n",
       "H2O cluster allowed cores:  8\n",
       "H2O cluster status:         accepting new members, healthy\n",
       "H2O connection url:         http://127.0.0.1:54323\n",
       "H2O connection proxy:\n",
       "H2O internal security:      False\n",
       "H2O API Extensions:         Amazon S3, Algos, AutoML, Core V3, Core V4\n",
       "Python version:             3.6.5 final\n",
       "--------------------------  ------------------------------------------"
      ]
     },
     "metadata": {},
     "output_type": "display_data"
    }
   ],
   "source": [
    "h2o.init(ip=\"localhost\", port=54323)"
   ]
  },
  {
   "cell_type": "code",
   "execution_count": 17,
   "metadata": {},
   "outputs": [],
   "source": [
    "from h2o.automl import H2OAutoML\n",
    "import pandas as pd"
   ]
  },
  {
   "cell_type": "code",
   "execution_count": 13,
   "metadata": {},
   "outputs": [
    {
     "name": "stdout",
     "output_type": "stream",
     "text": [
      "[WARNING] in <ipython-input-13-808a9fd9fd9e> line 1:\n",
      "    >>> h2o.cluster_info()\n",
      "        ^^^^ Deprecated, use ``h2o.cluster().show_status()``.\n"
     ]
    },
    {
     "data": {
      "text/html": [
       "<div style=\"overflow:auto\"><table style=\"width:50%\"><tr><td>H2O cluster uptime:</td>\n",
       "<td>11 secs</td></tr>\n",
       "<tr><td>H2O cluster timezone:</td>\n",
       "<td>Asia/Kolkata</td></tr>\n",
       "<tr><td>H2O data parsing timezone:</td>\n",
       "<td>UTC</td></tr>\n",
       "<tr><td>H2O cluster version:</td>\n",
       "<td>3.26.0.1</td></tr>\n",
       "<tr><td>H2O cluster version age:</td>\n",
       "<td>8 days </td></tr>\n",
       "<tr><td>H2O cluster name:</td>\n",
       "<td>H2O_from_python_dbda_i5xrky</td></tr>\n",
       "<tr><td>H2O cluster total nodes:</td>\n",
       "<td>1</td></tr>\n",
       "<tr><td>H2O cluster free memory:</td>\n",
       "<td>1.746 Gb</td></tr>\n",
       "<tr><td>H2O cluster total cores:</td>\n",
       "<td>8</td></tr>\n",
       "<tr><td>H2O cluster allowed cores:</td>\n",
       "<td>8</td></tr>\n",
       "<tr><td>H2O cluster status:</td>\n",
       "<td>locked, healthy</td></tr>\n",
       "<tr><td>H2O connection url:</td>\n",
       "<td>http://127.0.0.1:54323</td></tr>\n",
       "<tr><td>H2O connection proxy:</td>\n",
       "<td>None</td></tr>\n",
       "<tr><td>H2O internal security:</td>\n",
       "<td>False</td></tr>\n",
       "<tr><td>H2O API Extensions:</td>\n",
       "<td>Amazon S3, Algos, AutoML, Core V3, Core V4</td></tr>\n",
       "<tr><td>Python version:</td>\n",
       "<td>3.6.5 final</td></tr></table></div>"
      ],
      "text/plain": [
       "--------------------------  ------------------------------------------\n",
       "H2O cluster uptime:         11 secs\n",
       "H2O cluster timezone:       Asia/Kolkata\n",
       "H2O data parsing timezone:  UTC\n",
       "H2O cluster version:        3.26.0.1\n",
       "H2O cluster version age:    8 days\n",
       "H2O cluster name:           H2O_from_python_dbda_i5xrky\n",
       "H2O cluster total nodes:    1\n",
       "H2O cluster free memory:    1.746 Gb\n",
       "H2O cluster total cores:    8\n",
       "H2O cluster allowed cores:  8\n",
       "H2O cluster status:         locked, healthy\n",
       "H2O connection url:         http://127.0.0.1:54323\n",
       "H2O connection proxy:\n",
       "H2O internal security:      False\n",
       "H2O API Extensions:         Amazon S3, Algos, AutoML, Core V3, Core V4\n",
       "Python version:             3.6.5 final\n",
       "--------------------------  ------------------------------------------"
      ]
     },
     "metadata": {},
     "output_type": "display_data"
    }
   ],
   "source": [
    "h2o.cluster_info()"
   ]
  },
  {
   "cell_type": "code",
   "execution_count": 18,
   "metadata": {},
   "outputs": [],
   "source": [
    "train=pd.read_csv(\"F:/Project/Imputed/imputed_train.csv\")"
   ]
  },
  {
   "cell_type": "code",
   "execution_count": 19,
   "metadata": {},
   "outputs": [
    {
     "data": {
      "text/html": [
       "<div>\n",
       "<style scoped>\n",
       "    .dataframe tbody tr th:only-of-type {\n",
       "        vertical-align: middle;\n",
       "    }\n",
       "\n",
       "    .dataframe tbody tr th {\n",
       "        vertical-align: top;\n",
       "    }\n",
       "\n",
       "    .dataframe thead th {\n",
       "        text-align: right;\n",
       "    }\n",
       "</style>\n",
       "<table border=\"1\" class=\"dataframe\">\n",
       "  <thead>\n",
       "    <tr style=\"text-align: right;\">\n",
       "      <th></th>\n",
       "      <th>AMT_ANNUITY</th>\n",
       "      <th>AMT_ANNUITY_x</th>\n",
       "      <th>AMT_ANNUITY_y</th>\n",
       "      <th>AMT_APPLICATION</th>\n",
       "      <th>AMT_BALANCE</th>\n",
       "      <th>AMT_CREDIT_LIMIT_ACTUAL</th>\n",
       "      <th>AMT_CREDIT_MAX_OVERDUE</th>\n",
       "      <th>AMT_CREDIT_SUM</th>\n",
       "      <th>AMT_CREDIT_SUM_DEBT</th>\n",
       "      <th>AMT_CREDIT_SUM_LIMIT</th>\n",
       "      <th>...</th>\n",
       "      <th>WEEKDAY_APPR_PROCESS_START_WEDNESDAY</th>\n",
       "      <th>WEEKDAY_APPR_PROCESS_START_WEDNESDAY.1</th>\n",
       "      <th>YEARS_BEGINEXPLUATATION_AVG</th>\n",
       "      <th>YEARS_BEGINEXPLUATATION_MEDI</th>\n",
       "      <th>YEARS_BEGINEXPLUATATION_MODE</th>\n",
       "      <th>YEARS_BUILD_AVG</th>\n",
       "      <th>YEARS_BUILD_MEDI</th>\n",
       "      <th>YEARS_BUILD_MODE</th>\n",
       "      <th>TARGET</th>\n",
       "      <th>SK_ID_CURR</th>\n",
       "    </tr>\n",
       "  </thead>\n",
       "  <tbody>\n",
       "    <tr>\n",
       "      <th>0</th>\n",
       "      <td>0.000000</td>\n",
       "      <td>24700.5</td>\n",
       "      <td>9251.775</td>\n",
       "      <td>179055.00</td>\n",
       "      <td>26793.606316</td>\n",
       "      <td>149727.272727</td>\n",
       "      <td>1312.010357</td>\n",
       "      <td>111388.838727</td>\n",
       "      <td>70223.142857</td>\n",
       "      <td>3198.8565</td>\n",
       "      <td>...</td>\n",
       "      <td>0.0</td>\n",
       "      <td>1</td>\n",
       "      <td>0.9722</td>\n",
       "      <td>0.9722</td>\n",
       "      <td>0.9722</td>\n",
       "      <td>0.6192</td>\n",
       "      <td>0.6243</td>\n",
       "      <td>0.6341</td>\n",
       "      <td>1</td>\n",
       "      <td>100002</td>\n",
       "    </tr>\n",
       "    <tr>\n",
       "      <th>1</th>\n",
       "      <td>5273.497207</td>\n",
       "      <td>35698.5</td>\n",
       "      <td>56553.990</td>\n",
       "      <td>435436.50</td>\n",
       "      <td>26793.606316</td>\n",
       "      <td>149727.272727</td>\n",
       "      <td>0.000000</td>\n",
       "      <td>254350.125000</td>\n",
       "      <td>0.000000</td>\n",
       "      <td>202500.0000</td>\n",
       "      <td>...</td>\n",
       "      <td>0.0</td>\n",
       "      <td>0</td>\n",
       "      <td>0.9851</td>\n",
       "      <td>0.9851</td>\n",
       "      <td>0.9851</td>\n",
       "      <td>0.7960</td>\n",
       "      <td>0.7987</td>\n",
       "      <td>0.8040</td>\n",
       "      <td>0</td>\n",
       "      <td>100003</td>\n",
       "    </tr>\n",
       "    <tr>\n",
       "      <th>2</th>\n",
       "      <td>5273.497207</td>\n",
       "      <td>6750.0</td>\n",
       "      <td>5357.250</td>\n",
       "      <td>24282.00</td>\n",
       "      <td>26793.606316</td>\n",
       "      <td>149727.272727</td>\n",
       "      <td>0.000000</td>\n",
       "      <td>94518.900000</td>\n",
       "      <td>0.000000</td>\n",
       "      <td>0.0000</td>\n",
       "      <td>...</td>\n",
       "      <td>0.0</td>\n",
       "      <td>0</td>\n",
       "      <td>0.9816</td>\n",
       "      <td>0.9816</td>\n",
       "      <td>0.9816</td>\n",
       "      <td>0.7552</td>\n",
       "      <td>0.7585</td>\n",
       "      <td>0.7648</td>\n",
       "      <td>0</td>\n",
       "      <td>100004</td>\n",
       "    </tr>\n",
       "    <tr>\n",
       "      <th>3</th>\n",
       "      <td>5273.497207</td>\n",
       "      <td>29686.5</td>\n",
       "      <td>23651.175</td>\n",
       "      <td>272203.26</td>\n",
       "      <td>0.000000</td>\n",
       "      <td>270000.000000</td>\n",
       "      <td>0.000000</td>\n",
       "      <td>188810.835268</td>\n",
       "      <td>36886.500000</td>\n",
       "      <td>0.0000</td>\n",
       "      <td>...</td>\n",
       "      <td>0.0</td>\n",
       "      <td>1</td>\n",
       "      <td>0.9816</td>\n",
       "      <td>0.9816</td>\n",
       "      <td>0.9816</td>\n",
       "      <td>0.7552</td>\n",
       "      <td>0.7585</td>\n",
       "      <td>0.7648</td>\n",
       "      <td>0</td>\n",
       "      <td>100006</td>\n",
       "    </tr>\n",
       "    <tr>\n",
       "      <th>4</th>\n",
       "      <td>5273.497207</td>\n",
       "      <td>21865.5</td>\n",
       "      <td>12278.805</td>\n",
       "      <td>150530.25</td>\n",
       "      <td>26793.606316</td>\n",
       "      <td>149727.272727</td>\n",
       "      <td>0.000000</td>\n",
       "      <td>146250.000000</td>\n",
       "      <td>0.000000</td>\n",
       "      <td>0.0000</td>\n",
       "      <td>...</td>\n",
       "      <td>0.0</td>\n",
       "      <td>0</td>\n",
       "      <td>0.9816</td>\n",
       "      <td>0.9816</td>\n",
       "      <td>0.9816</td>\n",
       "      <td>0.7552</td>\n",
       "      <td>0.7585</td>\n",
       "      <td>0.7648</td>\n",
       "      <td>0</td>\n",
       "      <td>100007</td>\n",
       "    </tr>\n",
       "  </tbody>\n",
       "</table>\n",
       "<p>5 rows × 466 columns</p>\n",
       "</div>"
      ],
      "text/plain": [
       "   AMT_ANNUITY  AMT_ANNUITY_x  AMT_ANNUITY_y  AMT_APPLICATION   AMT_BALANCE  \\\n",
       "0     0.000000        24700.5       9251.775        179055.00  26793.606316   \n",
       "1  5273.497207        35698.5      56553.990        435436.50  26793.606316   \n",
       "2  5273.497207         6750.0       5357.250         24282.00  26793.606316   \n",
       "3  5273.497207        29686.5      23651.175        272203.26      0.000000   \n",
       "4  5273.497207        21865.5      12278.805        150530.25  26793.606316   \n",
       "\n",
       "   AMT_CREDIT_LIMIT_ACTUAL  AMT_CREDIT_MAX_OVERDUE  AMT_CREDIT_SUM  \\\n",
       "0            149727.272727             1312.010357   111388.838727   \n",
       "1            149727.272727                0.000000   254350.125000   \n",
       "2            149727.272727                0.000000    94518.900000   \n",
       "3            270000.000000                0.000000   188810.835268   \n",
       "4            149727.272727                0.000000   146250.000000   \n",
       "\n",
       "   AMT_CREDIT_SUM_DEBT  AMT_CREDIT_SUM_LIMIT     ...      \\\n",
       "0         70223.142857             3198.8565     ...       \n",
       "1             0.000000           202500.0000     ...       \n",
       "2             0.000000                0.0000     ...       \n",
       "3         36886.500000                0.0000     ...       \n",
       "4             0.000000                0.0000     ...       \n",
       "\n",
       "   WEEKDAY_APPR_PROCESS_START_WEDNESDAY  \\\n",
       "0                                   0.0   \n",
       "1                                   0.0   \n",
       "2                                   0.0   \n",
       "3                                   0.0   \n",
       "4                                   0.0   \n",
       "\n",
       "   WEEKDAY_APPR_PROCESS_START_WEDNESDAY.1  YEARS_BEGINEXPLUATATION_AVG  \\\n",
       "0                                       1                       0.9722   \n",
       "1                                       0                       0.9851   \n",
       "2                                       0                       0.9816   \n",
       "3                                       1                       0.9816   \n",
       "4                                       0                       0.9816   \n",
       "\n",
       "   YEARS_BEGINEXPLUATATION_MEDI  YEARS_BEGINEXPLUATATION_MODE  \\\n",
       "0                        0.9722                        0.9722   \n",
       "1                        0.9851                        0.9851   \n",
       "2                        0.9816                        0.9816   \n",
       "3                        0.9816                        0.9816   \n",
       "4                        0.9816                        0.9816   \n",
       "\n",
       "   YEARS_BUILD_AVG  YEARS_BUILD_MEDI  YEARS_BUILD_MODE  TARGET  SK_ID_CURR  \n",
       "0           0.6192            0.6243            0.6341       1      100002  \n",
       "1           0.7960            0.7987            0.8040       0      100003  \n",
       "2           0.7552            0.7585            0.7648       0      100004  \n",
       "3           0.7552            0.7585            0.7648       0      100006  \n",
       "4           0.7552            0.7585            0.7648       0      100007  \n",
       "\n",
       "[5 rows x 466 columns]"
      ]
     },
     "execution_count": 19,
     "metadata": {},
     "output_type": "execute_result"
    }
   ],
   "source": [
    "train.head()"
   ]
  },
  {
   "cell_type": "code",
   "execution_count": 20,
   "metadata": {},
   "outputs": [
    {
     "name": "stdout",
     "output_type": "stream",
     "text": [
      "Parse progress: |█████████████████████████████████████████████████████████| 100%\n"
     ]
    }
   ],
   "source": [
    "train=h2o.H2OFrame(train)"
   ]
  },
  {
   "cell_type": "code",
   "execution_count": 31,
   "metadata": {},
   "outputs": [],
   "source": [
    "test=pd.read_csv(\"F:/Project/Imputed/imputed_test.csv\")"
   ]
  },
  {
   "cell_type": "code",
   "execution_count": 32,
   "metadata": {},
   "outputs": [
    {
     "name": "stdout",
     "output_type": "stream",
     "text": [
      "Parse progress: |█████████████████████████████████████████████████████████| 100%\n"
     ]
    }
   ],
   "source": [
    "test=h2o.H2OFrame(test)"
   ]
  },
  {
   "cell_type": "code",
   "execution_count": 38,
   "metadata": {},
   "outputs": [],
   "source": [
    "y = \"TARGET\"\n",
    "x=df2.col_names[0:144]"
   ]
  },
  {
   "cell_type": "code",
   "execution_count": 41,
   "metadata": {},
   "outputs": [],
   "source": [
    "x = train.drop('TARGET')"
   ]
  },
  {
   "cell_type": "code",
   "execution_count": 47,
   "metadata": {},
   "outputs": [],
   "source": [
    "y = \"TARGET\"\n",
    "x=train.col_names[0:144]"
   ]
  },
  {
   "cell_type": "code",
   "execution_count": 50,
   "metadata": {},
   "outputs": [],
   "source": [
    "train[y] = train[y].asfactor()"
   ]
  },
  {
   "cell_type": "code",
   "execution_count": 51,
   "metadata": {},
   "outputs": [],
   "source": [
    "aml = H2OAutoML(max_models=20, seed=1)"
   ]
  },
  {
   "cell_type": "code",
   "execution_count": 52,
   "metadata": {},
   "outputs": [
    {
     "name": "stdout",
     "output_type": "stream",
     "text": [
      "AutoML progress: |████████████████████████████████████████████████████████| 100%\n"
     ]
    }
   ],
   "source": [
    "aml.train(x=x, y=y, training_frame=train)"
   ]
  },
  {
   "cell_type": "code",
   "execution_count": 53,
   "metadata": {},
   "outputs": [
    {
     "data": {
      "text/html": [
       "<table>\n",
       "<thead>\n",
       "<tr><th>model_id                                           </th><th style=\"text-align: right;\">     auc</th><th style=\"text-align: right;\">  logloss</th><th style=\"text-align: right;\">  mean_per_class_error</th><th style=\"text-align: right;\">    rmse</th><th style=\"text-align: right;\">      mse</th></tr>\n",
       "</thead>\n",
       "<tbody>\n",
       "<tr><td>StackedEnsemble_AllModels_AutoML_20190724_182734   </td><td style=\"text-align: right;\">0.76699 </td><td style=\"text-align: right;\"> 0.248275</td><td style=\"text-align: right;\">              0.339998</td><td style=\"text-align: right;\">0.26085 </td><td style=\"text-align: right;\">0.0680426</td></tr>\n",
       "<tr><td>GBM_2_AutoML_20190724_182734                       </td><td style=\"text-align: right;\">0.765301</td><td style=\"text-align: right;\"> 0.244404</td><td style=\"text-align: right;\">              0.338155</td><td style=\"text-align: right;\">0.259776</td><td style=\"text-align: right;\">0.0674836</td></tr>\n",
       "<tr><td>GBM_1_AutoML_20190724_182734                       </td><td style=\"text-align: right;\">0.764558</td><td style=\"text-align: right;\"> 0.24501 </td><td style=\"text-align: right;\">              0.33229 </td><td style=\"text-align: right;\">0.260111</td><td style=\"text-align: right;\">0.0676578</td></tr>\n",
       "<tr><td>StackedEnsemble_BestOfFamily_AutoML_20190724_182734</td><td style=\"text-align: right;\">0.763775</td><td style=\"text-align: right;\"> 0.248964</td><td style=\"text-align: right;\">              0.337077</td><td style=\"text-align: right;\">0.26121 </td><td style=\"text-align: right;\">0.0682309</td></tr>\n",
       "<tr><td>GBM_3_AutoML_20190724_182734                       </td><td style=\"text-align: right;\">0.76324 </td><td style=\"text-align: right;\"> 0.245252</td><td style=\"text-align: right;\">              0.336467</td><td style=\"text-align: right;\">0.260236</td><td style=\"text-align: right;\">0.067723 </td></tr>\n",
       "<tr><td>GBM_4_AutoML_20190724_182734                       </td><td style=\"text-align: right;\">0.759494</td><td style=\"text-align: right;\"> 0.246781</td><td style=\"text-align: right;\">              0.336219</td><td style=\"text-align: right;\">0.261036</td><td style=\"text-align: right;\">0.0681399</td></tr>\n",
       "<tr><td>GBM_5_AutoML_20190724_182734                       </td><td style=\"text-align: right;\">0.758929</td><td style=\"text-align: right;\"> 0.246315</td><td style=\"text-align: right;\">              0.354632</td><td style=\"text-align: right;\">0.260562</td><td style=\"text-align: right;\">0.0678925</td></tr>\n",
       "<tr><td>GLM_grid_1_AutoML_20190724_182734_model_1          </td><td style=\"text-align: right;\">0.754154</td><td style=\"text-align: right;\"> 0.248111</td><td style=\"text-align: right;\">              0.356206</td><td style=\"text-align: right;\">0.261349</td><td style=\"text-align: right;\">0.0683034</td></tr>\n",
       "<tr><td>DRF_1_AutoML_20190724_182734                       </td><td style=\"text-align: right;\">0.731545</td><td style=\"text-align: right;\"> 0.253492</td><td style=\"text-align: right;\">              0.364936</td><td style=\"text-align: right;\">0.263236</td><td style=\"text-align: right;\">0.0692932</td></tr>\n",
       "<tr><td>XRT_1_AutoML_20190724_182734                       </td><td style=\"text-align: right;\">0.730471</td><td style=\"text-align: right;\"> 0.253749</td><td style=\"text-align: right;\">              0.361142</td><td style=\"text-align: right;\">0.263312</td><td style=\"text-align: right;\">0.069333 </td></tr>\n",
       "<tr><td>GBM_grid_1_AutoML_20190724_182734_model_1          </td><td style=\"text-align: right;\">0.726143</td><td style=\"text-align: right;\"> 0.273757</td><td style=\"text-align: right;\">              0.362554</td><td style=\"text-align: right;\">0.270415</td><td style=\"text-align: right;\">0.073124 </td></tr>\n",
       "<tr><td>GBM_grid_1_AutoML_20190724_182734_model_2          </td><td style=\"text-align: right;\">0.703348</td><td style=\"text-align: right;\"> 0.265058</td><td style=\"text-align: right;\">              0.365059</td><td style=\"text-align: right;\">0.267617</td><td style=\"text-align: right;\">0.0716188</td></tr>\n",
       "<tr><td>DeepLearning_1_AutoML_20190724_182734              </td><td style=\"text-align: right;\">0.699341</td><td style=\"text-align: right;\"> 0.260837</td><td style=\"text-align: right;\">              0.370003</td><td style=\"text-align: right;\">0.265247</td><td style=\"text-align: right;\">0.0703561</td></tr>\n",
       "</tbody>\n",
       "</table>"
      ]
     },
     "metadata": {},
     "output_type": "display_data"
    },
    {
     "data": {
      "text/plain": []
     },
     "execution_count": 53,
     "metadata": {},
     "output_type": "execute_result"
    }
   ],
   "source": [
    "lb = aml.leaderboard\n",
    "lb.head(rows=lb.nrows)"
   ]
  },
  {
   "cell_type": "code",
   "execution_count": 55,
   "metadata": {},
   "outputs": [
    {
     "name": "stdout",
     "output_type": "stream",
     "text": [
      "stackedensemble prediction progress: |████████████████████████████████████| 100%\n"
     ]
    }
   ],
   "source": [
    "pred = aml.predict(test)"
   ]
  },
  {
   "cell_type": "code",
   "execution_count": 58,
   "metadata": {},
   "outputs": [
    {
     "data": {
      "text/html": [
       "<table>\n",
       "<thead>\n",
       "<tr><th style=\"text-align: right;\">  predict</th><th style=\"text-align: right;\">      p0</th><th style=\"text-align: right;\">       p1</th></tr>\n",
       "</thead>\n",
       "<tbody>\n",
       "<tr><td style=\"text-align: right;\">        0</td><td style=\"text-align: right;\">0.947058</td><td style=\"text-align: right;\">0.0529421</td></tr>\n",
       "<tr><td style=\"text-align: right;\">        0</td><td style=\"text-align: right;\">0.911905</td><td style=\"text-align: right;\">0.0880954</td></tr>\n",
       "<tr><td style=\"text-align: right;\">        0</td><td style=\"text-align: right;\">0.96345 </td><td style=\"text-align: right;\">0.0365498</td></tr>\n",
       "<tr><td style=\"text-align: right;\">        0</td><td style=\"text-align: right;\">0.960467</td><td style=\"text-align: right;\">0.0395329</td></tr>\n",
       "<tr><td style=\"text-align: right;\">        0</td><td style=\"text-align: right;\">0.91694 </td><td style=\"text-align: right;\">0.0830597</td></tr>\n",
       "<tr><td style=\"text-align: right;\">        0</td><td style=\"text-align: right;\">0.961049</td><td style=\"text-align: right;\">0.0389512</td></tr>\n",
       "<tr><td style=\"text-align: right;\">        0</td><td style=\"text-align: right;\">0.963988</td><td style=\"text-align: right;\">0.0360116</td></tr>\n",
       "<tr><td style=\"text-align: right;\">        0</td><td style=\"text-align: right;\">0.955896</td><td style=\"text-align: right;\">0.0441042</td></tr>\n",
       "<tr><td style=\"text-align: right;\">        0</td><td style=\"text-align: right;\">0.960816</td><td style=\"text-align: right;\">0.039184 </td></tr>\n",
       "<tr><td style=\"text-align: right;\">        1</td><td style=\"text-align: right;\">0.824967</td><td style=\"text-align: right;\">0.175033 </td></tr>\n",
       "</tbody>\n",
       "</table>"
      ]
     },
     "metadata": {},
     "output_type": "display_data"
    },
    {
     "data": {
      "text/plain": []
     },
     "execution_count": 58,
     "metadata": {},
     "output_type": "execute_result"
    }
   ],
   "source": [
    "pred"
   ]
  },
  {
   "cell_type": "code",
   "execution_count": 62,
   "metadata": {},
   "outputs": [],
   "source": [
    "pred=pred.as_data_frame"
   ]
  },
  {
   "cell_type": "code",
   "execution_count": 66,
   "metadata": {},
   "outputs": [
    {
     "ename": "AttributeError",
     "evalue": "'H2OAutoML' object has no attribute 'predict_proba'",
     "output_type": "error",
     "traceback": [
      "\u001b[1;31m---------------------------------------------------------------------------\u001b[0m",
      "\u001b[1;31mAttributeError\u001b[0m                            Traceback (most recent call last)",
      "\u001b[1;32m<ipython-input-66-01b77489f4ad>\u001b[0m in \u001b[0;36m<module>\u001b[1;34m()\u001b[0m\n\u001b[1;32m----> 1\u001b[1;33m \u001b[0mpred_prob\u001b[0m \u001b[1;33m=\u001b[0m \u001b[0maml\u001b[0m\u001b[1;33m.\u001b[0m\u001b[0mpredict_proba\u001b[0m\u001b[1;33m(\u001b[0m\u001b[0mtest\u001b[0m\u001b[1;33m)\u001b[0m\u001b[1;33m[\u001b[0m\u001b[1;33m:\u001b[0m\u001b[1;33m,\u001b[0m\u001b[1;36m1\u001b[0m\u001b[1;33m]\u001b[0m\u001b[1;33m\u001b[0m\u001b[0m\n\u001b[0m",
      "\u001b[1;31mAttributeError\u001b[0m: 'H2OAutoML' object has no attribute 'predict_proba'"
     ]
    }
   ],
   "source": [
    "pred_prob = aml.predict_proba(test)[:,1]"
   ]
  },
  {
   "cell_type": "code",
   "execution_count": 67,
   "metadata": {},
   "outputs": [
    {
     "name": "stdout",
     "output_type": "stream",
     "text": [
      "[WARNING] in <ipython-input-67-1edf85295eae> line 1:\n",
      "    >>> h2o.shutdown()\n",
      "        ^^^^ Deprecated, use ``h2o.cluster().shutdown()``.\n",
      "H2O session _sid_824e closed.\n"
     ]
    }
   ],
   "source": [
    "h2o.shutdown()"
   ]
  }
 ],
 "metadata": {
  "kernelspec": {
   "display_name": "Python 3",
   "language": "python",
   "name": "python3"
  },
  "language_info": {
   "codemirror_mode": {
    "name": "ipython",
    "version": 3
   },
   "file_extension": ".py",
   "mimetype": "text/x-python",
   "name": "python",
   "nbconvert_exporter": "python",
   "pygments_lexer": "ipython3",
   "version": "3.6.5"
  }
 },
 "nbformat": 4,
 "nbformat_minor": 2
}
