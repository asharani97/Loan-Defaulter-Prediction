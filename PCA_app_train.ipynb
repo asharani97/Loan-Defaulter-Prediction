{
 "cells": [
  {
   "cell_type": "code",
   "execution_count": 1,
   "metadata": {},
   "outputs": [],
   "source": [
    "# numpy and pandas for data manipulation\n",
    "import numpy as np\n",
    "import pandas as pd \n",
    "\n",
    "# sklearn preprocessing for dealing with categorical variables\n",
    "from sklearn.preprocessing import LabelEncoder\n",
    "\n",
    "# File system manangement\n",
    "import os\n",
    "\n",
    "# Suppress warnings \n",
    "import warnings\n",
    "warnings.filterwarnings('ignore')\n",
    "\n",
    "# matplotlib and seaborn for plotting\n",
    "import matplotlib.pyplot as plt\n",
    "import seaborn as sns"
   ]
  },
  {
   "cell_type": "code",
   "execution_count": 2,
   "metadata": {},
   "outputs": [],
   "source": [
    "app_train = pd.read_csv('C:/Users/WIN10/Desktop/Cdac_Home Credit Project/application_train.csv')"
   ]
  },
  {
   "cell_type": "code",
   "execution_count": 3,
   "metadata": {},
   "outputs": [],
   "source": [
    "app_train['DAYS_EMPLOYED'].replace(365243, np.nan, inplace=True)\n",
    "\n",
    "# app_train[['DAYS_FIRST_DRAWING',\n",
    "#         'DAYS_FIRST_DUE',\n",
    "#         'DAYS_LAST_DUE_1ST_VERSION',\n",
    "#         'DAYS_LAST_DUE',\n",
    "#         'DAYS_TERMINATION']].replace(365243, np.nan, inplace=True)"
   ]
  },
  {
   "cell_type": "code",
   "execution_count": 4,
   "metadata": {},
   "outputs": [],
   "source": [
    "def replace_XNA_XAP(table):\n",
    "\n",
    "    # Replace all values of 'XNA', 'XAP' with np.nan\n",
    "    table.replace(to_replace = {'XNA': np.nan, 'XAP': np.nan}, value = None, inplace = True)\n",
    "    \n",
    "    return table"
   ]
  },
  {
   "cell_type": "markdown",
   "metadata": {},
   "source": [
    "train_sk_id_curr = pd.DataFrame()\n",
    "train_labels = pd.DataFrame()"
   ]
  },
  {
   "cell_type": "code",
   "execution_count": 5,
   "metadata": {},
   "outputs": [],
   "source": [
    "train_sk_id_curr = app_train['SK_ID_CURR']\n",
    "train_labels = app_train['TARGET']"
   ]
  },
  {
   "cell_type": "code",
   "execution_count": 6,
   "metadata": {},
   "outputs": [],
   "source": [
    "app_train = replace_XNA_XAP(app_train)"
   ]
  },
  {
   "cell_type": "code",
   "execution_count": 7,
   "metadata": {},
   "outputs": [],
   "source": [
    "app_train=app_train.drop(['TARGET','SK_ID_CURR'],axis=1)\n",
    "#app_train=app_train.drop('SK_ID_CURR',axis=1)"
   ]
  },
  {
   "cell_type": "code",
   "execution_count": 8,
   "metadata": {},
   "outputs": [],
   "source": [
    "def missing_values(df):\n",
    "    \n",
    "    total_missing = df.isnull().sum()/df.shape[0]\n",
    "    percent_missing = total_missing*100\n",
    "    return percent_missing.sort_values(ascending=False).round(1)"
   ]
  },
  {
   "cell_type": "code",
   "execution_count": 9,
   "metadata": {},
   "outputs": [],
   "source": [
    "app_train_mis_values = missing_values(app_train)"
   ]
  },
  {
   "cell_type": "code",
   "execution_count": 10,
   "metadata": {},
   "outputs": [],
   "source": [
    "df_app_train_miss_values= pd.DataFrame({'columns': app_train_mis_values.index, 'missing percent': app_train_mis_values.values})"
   ]
  },
  {
   "cell_type": "code",
   "execution_count": 11,
   "metadata": {},
   "outputs": [
    {
     "data": {
      "text/plain": [
       "['COMMONAREA_MEDI',\n",
       " 'COMMONAREA_MODE',\n",
       " 'COMMONAREA_AVG',\n",
       " 'NONLIVINGAPARTMENTS_MODE',\n",
       " 'NONLIVINGAPARTMENTS_MEDI',\n",
       " 'NONLIVINGAPARTMENTS_AVG',\n",
       " 'FONDKAPREMONT_MODE',\n",
       " 'LIVINGAPARTMENTS_MODE',\n",
       " 'LIVINGAPARTMENTS_MEDI',\n",
       " 'LIVINGAPARTMENTS_AVG',\n",
       " 'FLOORSMIN_AVG',\n",
       " 'FLOORSMIN_MEDI',\n",
       " 'FLOORSMIN_MODE',\n",
       " 'YEARS_BUILD_MEDI',\n",
       " 'YEARS_BUILD_MODE',\n",
       " 'YEARS_BUILD_AVG',\n",
       " 'OWN_CAR_AGE',\n",
       " 'LANDAREA_MODE',\n",
       " 'LANDAREA_AVG',\n",
       " 'LANDAREA_MEDI',\n",
       " 'BASEMENTAREA_MODE',\n",
       " 'BASEMENTAREA_AVG',\n",
       " 'BASEMENTAREA_MEDI',\n",
       " 'EXT_SOURCE_1',\n",
       " 'NONLIVINGAREA_MODE',\n",
       " 'NONLIVINGAREA_AVG',\n",
       " 'NONLIVINGAREA_MEDI',\n",
       " 'ELEVATORS_AVG',\n",
       " 'ELEVATORS_MEDI',\n",
       " 'ELEVATORS_MODE',\n",
       " 'WALLSMATERIAL_MODE',\n",
       " 'APARTMENTS_MEDI',\n",
       " 'APARTMENTS_MODE',\n",
       " 'APARTMENTS_AVG',\n",
       " 'ENTRANCES_MODE',\n",
       " 'ENTRANCES_AVG',\n",
       " 'ENTRANCES_MEDI',\n",
       " 'LIVINGAREA_MODE',\n",
       " 'LIVINGAREA_AVG',\n",
       " 'LIVINGAREA_MEDI',\n",
       " 'HOUSETYPE_MODE',\n",
       " 'FLOORSMAX_MEDI',\n",
       " 'FLOORSMAX_MODE',\n",
       " 'FLOORSMAX_AVG',\n",
       " 'YEARS_BEGINEXPLUATATION_MEDI',\n",
       " 'YEARS_BEGINEXPLUATATION_AVG',\n",
       " 'YEARS_BEGINEXPLUATATION_MODE',\n",
       " 'TOTALAREA_MODE',\n",
       " 'EMERGENCYSTATE_MODE']"
      ]
     },
     "execution_count": 11,
     "metadata": {},
     "output_type": "execute_result"
    }
   ],
   "source": [
    "drop_columns = df_app_train_miss_values[df_app_train_miss_values['missing percent'] >= 40]['columns'].tolist()\n",
    "drop_columns"
   ]
  },
  {
   "cell_type": "code",
   "execution_count": 12,
   "metadata": {},
   "outputs": [],
   "source": [
    "app_train = app_train.drop(drop_columns, axis=1)"
   ]
  },
  {
   "cell_type": "code",
   "execution_count": 13,
   "metadata": {},
   "outputs": [],
   "source": [
    "cat_features = [f for f in app_train.columns if app_train[f].dtype == 'object']"
   ]
  },
  {
   "cell_type": "code",
   "execution_count": 14,
   "metadata": {},
   "outputs": [],
   "source": [
    "cat_df=app_train[cat_features]\n",
    "cat_cols = cat_df.columns"
   ]
  },
  {
   "cell_type": "code",
   "execution_count": 15,
   "metadata": {},
   "outputs": [],
   "source": [
    "from sklearn.impute import SimpleImputer\n",
    "cat_imputer = SimpleImputer(strategy = 'most_frequent')\n",
    "cat_imputer.fit(cat_df)\n",
    "cat_df = cat_imputer.transform(cat_df)"
   ]
  },
  {
   "cell_type": "code",
   "execution_count": 16,
   "metadata": {},
   "outputs": [],
   "source": [
    "cat_df=pd.DataFrame(data=cat_df,columns=cat_cols)"
   ]
  },
  {
   "cell_type": "code",
   "execution_count": 17,
   "metadata": {},
   "outputs": [],
   "source": [
    "cat_df['SK_ID_CURR'] = train_sk_id_curr"
   ]
  },
  {
   "cell_type": "code",
   "execution_count": 18,
   "metadata": {},
   "outputs": [
    {
     "data": {
      "text/html": [
       "<div>\n",
       "<style scoped>\n",
       "    .dataframe tbody tr th:only-of-type {\n",
       "        vertical-align: middle;\n",
       "    }\n",
       "\n",
       "    .dataframe tbody tr th {\n",
       "        vertical-align: top;\n",
       "    }\n",
       "\n",
       "    .dataframe thead th {\n",
       "        text-align: right;\n",
       "    }\n",
       "</style>\n",
       "<table border=\"1\" class=\"dataframe\">\n",
       "  <thead>\n",
       "    <tr style=\"text-align: right;\">\n",
       "      <th></th>\n",
       "      <th>NAME_CONTRACT_TYPE</th>\n",
       "      <th>CODE_GENDER</th>\n",
       "      <th>FLAG_OWN_CAR</th>\n",
       "      <th>FLAG_OWN_REALTY</th>\n",
       "      <th>NAME_TYPE_SUITE</th>\n",
       "      <th>NAME_INCOME_TYPE</th>\n",
       "      <th>NAME_EDUCATION_TYPE</th>\n",
       "      <th>NAME_FAMILY_STATUS</th>\n",
       "      <th>NAME_HOUSING_TYPE</th>\n",
       "      <th>OCCUPATION_TYPE</th>\n",
       "      <th>WEEKDAY_APPR_PROCESS_START</th>\n",
       "      <th>ORGANIZATION_TYPE</th>\n",
       "      <th>SK_ID_CURR</th>\n",
       "    </tr>\n",
       "  </thead>\n",
       "  <tbody>\n",
       "    <tr>\n",
       "      <th>0</th>\n",
       "      <td>Cash loans</td>\n",
       "      <td>M</td>\n",
       "      <td>N</td>\n",
       "      <td>Y</td>\n",
       "      <td>Unaccompanied</td>\n",
       "      <td>Working</td>\n",
       "      <td>Secondary / secondary special</td>\n",
       "      <td>Single / not married</td>\n",
       "      <td>House / apartment</td>\n",
       "      <td>Laborers</td>\n",
       "      <td>WEDNESDAY</td>\n",
       "      <td>Business Entity Type 3</td>\n",
       "      <td>100002</td>\n",
       "    </tr>\n",
       "    <tr>\n",
       "      <th>1</th>\n",
       "      <td>Cash loans</td>\n",
       "      <td>F</td>\n",
       "      <td>N</td>\n",
       "      <td>N</td>\n",
       "      <td>Family</td>\n",
       "      <td>State servant</td>\n",
       "      <td>Higher education</td>\n",
       "      <td>Married</td>\n",
       "      <td>House / apartment</td>\n",
       "      <td>Core staff</td>\n",
       "      <td>MONDAY</td>\n",
       "      <td>School</td>\n",
       "      <td>100003</td>\n",
       "    </tr>\n",
       "    <tr>\n",
       "      <th>2</th>\n",
       "      <td>Revolving loans</td>\n",
       "      <td>M</td>\n",
       "      <td>Y</td>\n",
       "      <td>Y</td>\n",
       "      <td>Unaccompanied</td>\n",
       "      <td>Working</td>\n",
       "      <td>Secondary / secondary special</td>\n",
       "      <td>Single / not married</td>\n",
       "      <td>House / apartment</td>\n",
       "      <td>Laborers</td>\n",
       "      <td>MONDAY</td>\n",
       "      <td>Government</td>\n",
       "      <td>100004</td>\n",
       "    </tr>\n",
       "    <tr>\n",
       "      <th>3</th>\n",
       "      <td>Cash loans</td>\n",
       "      <td>F</td>\n",
       "      <td>N</td>\n",
       "      <td>Y</td>\n",
       "      <td>Unaccompanied</td>\n",
       "      <td>Working</td>\n",
       "      <td>Secondary / secondary special</td>\n",
       "      <td>Civil marriage</td>\n",
       "      <td>House / apartment</td>\n",
       "      <td>Laborers</td>\n",
       "      <td>WEDNESDAY</td>\n",
       "      <td>Business Entity Type 3</td>\n",
       "      <td>100006</td>\n",
       "    </tr>\n",
       "    <tr>\n",
       "      <th>4</th>\n",
       "      <td>Cash loans</td>\n",
       "      <td>M</td>\n",
       "      <td>N</td>\n",
       "      <td>Y</td>\n",
       "      <td>Unaccompanied</td>\n",
       "      <td>Working</td>\n",
       "      <td>Secondary / secondary special</td>\n",
       "      <td>Single / not married</td>\n",
       "      <td>House / apartment</td>\n",
       "      <td>Core staff</td>\n",
       "      <td>THURSDAY</td>\n",
       "      <td>Religion</td>\n",
       "      <td>100007</td>\n",
       "    </tr>\n",
       "  </tbody>\n",
       "</table>\n",
       "</div>"
      ],
      "text/plain": [
       "  NAME_CONTRACT_TYPE CODE_GENDER FLAG_OWN_CAR FLAG_OWN_REALTY NAME_TYPE_SUITE  \\\n",
       "0         Cash loans           M            N               Y   Unaccompanied   \n",
       "1         Cash loans           F            N               N          Family   \n",
       "2    Revolving loans           M            Y               Y   Unaccompanied   \n",
       "3         Cash loans           F            N               Y   Unaccompanied   \n",
       "4         Cash loans           M            N               Y   Unaccompanied   \n",
       "\n",
       "  NAME_INCOME_TYPE            NAME_EDUCATION_TYPE    NAME_FAMILY_STATUS  \\\n",
       "0          Working  Secondary / secondary special  Single / not married   \n",
       "1    State servant               Higher education               Married   \n",
       "2          Working  Secondary / secondary special  Single / not married   \n",
       "3          Working  Secondary / secondary special        Civil marriage   \n",
       "4          Working  Secondary / secondary special  Single / not married   \n",
       "\n",
       "   NAME_HOUSING_TYPE OCCUPATION_TYPE WEEKDAY_APPR_PROCESS_START  \\\n",
       "0  House / apartment        Laborers                  WEDNESDAY   \n",
       "1  House / apartment      Core staff                     MONDAY   \n",
       "2  House / apartment        Laborers                     MONDAY   \n",
       "3  House / apartment        Laborers                  WEDNESDAY   \n",
       "4  House / apartment      Core staff                   THURSDAY   \n",
       "\n",
       "        ORGANIZATION_TYPE  SK_ID_CURR  \n",
       "0  Business Entity Type 3      100002  \n",
       "1                  School      100003  \n",
       "2              Government      100004  \n",
       "3  Business Entity Type 3      100006  \n",
       "4                Religion      100007  "
      ]
     },
     "execution_count": 18,
     "metadata": {},
     "output_type": "execute_result"
    }
   ],
   "source": [
    "cat_df.head()"
   ]
  },
  {
   "cell_type": "code",
   "execution_count": 19,
   "metadata": {},
   "outputs": [],
   "source": [
    "num_features = [f for f in app_train.columns if app_train[f].dtype != 'object']"
   ]
  },
  {
   "cell_type": "code",
   "execution_count": 20,
   "metadata": {},
   "outputs": [],
   "source": [
    "num_df=app_train[num_features]\n",
    "num_cols = num_df.columns"
   ]
  },
  {
   "cell_type": "code",
   "execution_count": 21,
   "metadata": {},
   "outputs": [],
   "source": [
    "num_imputer = SimpleImputer(strategy = 'median')\n",
    "num_imputer.fit(num_df)\n",
    "num_df = num_imputer.transform(num_df)"
   ]
  },
  {
   "cell_type": "code",
   "execution_count": 22,
   "metadata": {},
   "outputs": [],
   "source": [
    "num_df=pd.DataFrame(data=num_df,columns=num_cols)"
   ]
  },
  {
   "cell_type": "code",
   "execution_count": 23,
   "metadata": {},
   "outputs": [],
   "source": [
    "num_df['SK_ID_CURR']=train_sk_id_curr"
   ]
  },
  {
   "cell_type": "code",
   "execution_count": 24,
   "metadata": {},
   "outputs": [],
   "source": [
    "app_train = num_df.merge(cat_df,on='SK_ID_CURR')"
   ]
  },
  {
   "cell_type": "code",
   "execution_count": 25,
   "metadata": {},
   "outputs": [],
   "source": [
    "app_train = pd.get_dummies(app_train,drop_first=True)"
   ]
  },
  {
   "cell_type": "code",
   "execution_count": 26,
   "metadata": {},
   "outputs": [],
   "source": [
    "cols = app_train.columns"
   ]
  },
  {
   "cell_type": "code",
   "execution_count": 27,
   "metadata": {},
   "outputs": [
    {
     "name": "stderr",
     "output_type": "stream",
     "text": [
      "C:\\Users\\WIN10\\Anaconda3\\lib\\site-packages\\sklearn\\preprocessing\\data.py:625: DataConversionWarning: Data with input dtype uint8, int64, float64 were all converted to float64 by StandardScaler.\n",
      "  return self.partial_fit(X, y)\n",
      "C:\\Users\\WIN10\\Anaconda3\\lib\\site-packages\\sklearn\\base.py:462: DataConversionWarning: Data with input dtype uint8, int64, float64 were all converted to float64 by StandardScaler.\n",
      "  return self.fit(X, **fit_params).transform(X)\n"
     ]
    }
   ],
   "source": [
    "from sklearn.preprocessing import StandardScaler\n",
    "scaler = StandardScaler()\n",
    "app_train = scaler.fit_transform(app_train)"
   ]
  },
  {
   "cell_type": "code",
   "execution_count": 28,
   "metadata": {},
   "outputs": [],
   "source": [
    "from sklearn.decomposition import PCA\n",
    "pca = PCA()\n",
    "principalComponents = pca.fit_transform(app_train)"
   ]
  },
  {
   "cell_type": "code",
   "execution_count": 29,
   "metadata": {},
   "outputs": [
    {
     "data": {
      "image/png": "[encoded data removed]",
      "text/plain": [
       "<Figure size 432x288 with 1 Axes>"
      ]
     },
     "metadata": {},
     "output_type": "display_data"
    }
   ],
   "source": [
    "plt.style.use('fivethirtyeight')\n",
    "y = np.cumsum(pca.explained_variance_ratio_ * 100)\n",
    "x = np.arange(1,171)\n",
    "plt.plot(x,y)\n",
    "plt.show()"
   ]
  },
  {
   "cell_type": "code",
   "execution_count": 30,
   "metadata": {},
   "outputs": [],
   "source": [
    "n_pcs = pca.components_.shape[0]"
   ]
  },
  {
   "cell_type": "code",
   "execution_count": 31,
   "metadata": {},
   "outputs": [
    {
     "data": {
      "text/plain": [
       "170"
      ]
     },
     "execution_count": 31,
     "metadata": {},
     "output_type": "execute_result"
    }
   ],
   "source": [
    "n_pcs"
   ]
  },
  {
   "cell_type": "code",
   "execution_count": 32,
   "metadata": {},
   "outputs": [],
   "source": [
    "most_important = [np.abs(pca.components_[i]).argmax() for i in range(n_pcs)]"
   ]
  },
  {
   "cell_type": "code",
   "execution_count": 33,
   "metadata": {},
   "outputs": [
    {
     "data": {
      "text/plain": [
       "170"
      ]
     },
     "execution_count": 33,
     "metadata": {},
     "output_type": "execute_result"
    }
   ],
   "source": [
    "len(most_important)"
   ]
  },
  {
   "cell_type": "code",
   "execution_count": 34,
   "metadata": {},
   "outputs": [],
   "source": [
    "initial_feature_names = cols"
   ]
  },
  {
   "cell_type": "code",
   "execution_count": 35,
   "metadata": {},
   "outputs": [],
   "source": [
    "most_important_names = [initial_feature_names[most_important[i]] for i in range(n_pcs)]"
   ]
  },
  {
   "cell_type": "code",
   "execution_count": 36,
   "metadata": {},
   "outputs": [
    {
     "data": {
      "text/plain": [
       "['NAME_INCOME_TYPE_Pensioner',\n",
       " 'AMT_GOODS_PRICE',\n",
       " 'NAME_FAMILY_STATUS_Married',\n",
       " 'CODE_GENDER_M',\n",
       " 'OBS_60_CNT_SOCIAL_CIRCLE',\n",
       " 'FLAG_DOCUMENT_3',\n",
       " 'REGION_RATING_CLIENT',\n",
       " 'NAME_INCOME_TYPE_State servant',\n",
       " 'NAME_HOUSING_TYPE_House / apartment',\n",
       " 'NAME_TYPE_SUITE_Unaccompanied',\n",
       " 'NAME_TYPE_SUITE_Unaccompanied',\n",
       " 'OCCUPATION_TYPE_Medicine staff',\n",
       " 'OCCUPATION_TYPE_Security staff',\n",
       " 'OCCUPATION_TYPE_Core staff',\n",
       " 'NAME_INCOME_TYPE_Working',\n",
       " 'DAYS_LAST_PHONE_CHANGE',\n",
       " 'NAME_INCOME_TYPE_Commercial associate',\n",
       " 'ORGANIZATION_TYPE_Services',\n",
       " 'DEF_60_CNT_SOCIAL_CIRCLE',\n",
       " 'DEF_60_CNT_SOCIAL_CIRCLE',\n",
       " 'AMT_REQ_CREDIT_BUREAU_DAY',\n",
       " 'NAME_CONTRACT_TYPE_Revolving loans',\n",
       " 'ORGANIZATION_TYPE_Restaurant',\n",
       " 'ORGANIZATION_TYPE_Restaurant',\n",
       " 'REG_CITY_NOT_LIVE_CITY',\n",
       " 'WEEKDAY_APPR_PROCESS_START_TUESDAY',\n",
       " 'WEEKDAY_APPR_PROCESS_START_WEDNESDAY',\n",
       " 'WEEKDAY_APPR_PROCESS_START_THURSDAY',\n",
       " 'WEEKDAY_APPR_PROCESS_START_THURSDAY',\n",
       " 'ORGANIZATION_TYPE_Realtor',\n",
       " 'NAME_FAMILY_STATUS_Separated',\n",
       " 'WEEKDAY_APPR_PROCESS_START_SATURDAY',\n",
       " 'OCCUPATION_TYPE_Cleaning staff',\n",
       " 'OCCUPATION_TYPE_High skill tech staff',\n",
       " 'EXT_SOURCE_3',\n",
       " 'FLAG_DOCUMENT_7',\n",
       " 'ORGANIZATION_TYPE_Military',\n",
       " 'NAME_EDUCATION_TYPE_Lower secondary',\n",
       " 'WEEKDAY_APPR_PROCESS_START_SUNDAY',\n",
       " 'NAME_FAMILY_STATUS_Separated',\n",
       " 'ORGANIZATION_TYPE_Trade: type 7',\n",
       " 'NAME_TYPE_SUITE_Spouse, partner',\n",
       " 'WEEKDAY_APPR_PROCESS_START_SUNDAY',\n",
       " 'ORGANIZATION_TYPE_Other',\n",
       " 'WEEKDAY_APPR_PROCESS_START_SUNDAY',\n",
       " 'WEEKDAY_APPR_PROCESS_START_SUNDAY',\n",
       " 'OCCUPATION_TYPE_Secretaries',\n",
       " 'OCCUPATION_TYPE_Secretaries',\n",
       " 'ORGANIZATION_TYPE_Other',\n",
       " 'FLAG_DOCUMENT_17',\n",
       " 'ORGANIZATION_TYPE_Business Entity Type 2',\n",
       " 'NAME_TYPE_SUITE_Other_B',\n",
       " 'ORGANIZATION_TYPE_Business Entity Type 2',\n",
       " 'ORGANIZATION_TYPE_Business Entity Type 2',\n",
       " 'ORGANIZATION_TYPE_Legal Services',\n",
       " 'ORGANIZATION_TYPE_Industry: type 9',\n",
       " 'ORGANIZATION_TYPE_Transport: type 4',\n",
       " 'ORGANIZATION_TYPE_Industry: type 3',\n",
       " 'OCCUPATION_TYPE_IT staff',\n",
       " 'FLAG_DOCUMENT_2',\n",
       " 'FLAG_DOCUMENT_19',\n",
       " 'ORGANIZATION_TYPE_Transport: type 4',\n",
       " 'ORGANIZATION_TYPE_Industry: type 5',\n",
       " 'ORGANIZATION_TYPE_Business Entity Type 1',\n",
       " 'ORGANIZATION_TYPE_Industry: type 3',\n",
       " 'ORGANIZATION_TYPE_Industry: type 3',\n",
       " 'ORGANIZATION_TYPE_Industry: type 11',\n",
       " 'OCCUPATION_TYPE_HR staff',\n",
       " 'ORGANIZATION_TYPE_Trade: type 1',\n",
       " 'FLAG_DOCUMENT_12',\n",
       " 'NAME_TYPE_SUITE_Group of people',\n",
       " 'FLAG_DOCUMENT_12',\n",
       " 'ORGANIZATION_TYPE_Industry: type 7',\n",
       " 'ORGANIZATION_TYPE_Industry: type 11',\n",
       " 'ORGANIZATION_TYPE_Hotel',\n",
       " 'ORGANIZATION_TYPE_Emergency',\n",
       " 'ORGANIZATION_TYPE_Industry: type 6',\n",
       " 'ORGANIZATION_TYPE_Industry: type 7',\n",
       " 'ORGANIZATION_TYPE_Industry: type 13',\n",
       " 'ORGANIZATION_TYPE_Trade: type 5',\n",
       " 'ORGANIZATION_TYPE_Industry: type 1',\n",
       " 'ORGANIZATION_TYPE_Industry: type 5',\n",
       " 'ORGANIZATION_TYPE_Industry: type 2',\n",
       " 'ORGANIZATION_TYPE_Industry: type 6',\n",
       " 'ORGANIZATION_TYPE_Culture',\n",
       " 'ORGANIZATION_TYPE_Industry: type 10',\n",
       " 'ORGANIZATION_TYPE_Industry: type 12',\n",
       " 'ORGANIZATION_TYPE_Industry: type 10',\n",
       " 'FLAG_DOCUMENT_10',\n",
       " 'ORGANIZATION_TYPE_Industry: type 13',\n",
       " 'NAME_INCOME_TYPE_Student',\n",
       " 'SK_ID_CURR',\n",
       " 'ORGANIZATION_TYPE_Religion',\n",
       " 'ORGANIZATION_TYPE_Industry: type 6',\n",
       " 'NAME_TYPE_SUITE_Group of people',\n",
       " 'NAME_TYPE_SUITE_Other_B',\n",
       " 'SK_ID_CURR',\n",
       " 'NAME_TYPE_SUITE_Other_B',\n",
       " 'FLAG_DOCUMENT_2',\n",
       " 'NAME_TYPE_SUITE_Group of people',\n",
       " 'AMT_REQ_CREDIT_BUREAU_QRT',\n",
       " 'FLAG_DOCUMENT_15',\n",
       " 'FLAG_MOBIL',\n",
       " 'NAME_INCOME_TYPE_Student',\n",
       " 'FLAG_DOCUMENT_2',\n",
       " 'FLAG_DOCUMENT_21',\n",
       " 'ORGANIZATION_TYPE_Police',\n",
       " 'NAME_HOUSING_TYPE_Municipal apartment',\n",
       " 'AMT_REQ_CREDIT_BUREAU_MON',\n",
       " 'OCCUPATION_TYPE_Low-skill Laborers',\n",
       " 'AMT_REQ_CREDIT_BUREAU_MON',\n",
       " 'OCCUPATION_TYPE_Low-skill Laborers',\n",
       " 'OCCUPATION_TYPE_Secretaries',\n",
       " 'OCCUPATION_TYPE_Secretaries',\n",
       " 'OCCUPATION_TYPE_Secretaries',\n",
       " 'FLAG_EMAIL',\n",
       " 'FLAG_DOCUMENT_20',\n",
       " 'NAME_HOUSING_TYPE_Rented apartment',\n",
       " 'AMT_REQ_CREDIT_BUREAU_QRT',\n",
       " 'OCCUPATION_TYPE_Cleaning staff',\n",
       " 'OCCUPATION_TYPE_High skill tech staff',\n",
       " 'NAME_HOUSING_TYPE_Office apartment',\n",
       " 'AMT_INCOME_TOTAL',\n",
       " 'FLAG_DOCUMENT_7',\n",
       " 'FLAG_DOCUMENT_11',\n",
       " 'DAYS_ID_PUBLISH',\n",
       " 'FLAG_DOCUMENT_11',\n",
       " 'DAYS_REGISTRATION',\n",
       " 'ORGANIZATION_TYPE_Realtor',\n",
       " 'ORGANIZATION_TYPE_Realtor',\n",
       " 'DAYS_REGISTRATION',\n",
       " 'AMT_REQ_CREDIT_BUREAU_YEAR',\n",
       " 'HOUR_APPR_PROCESS_START',\n",
       " 'ORGANIZATION_TYPE_Restaurant',\n",
       " 'DAYS_ID_PUBLISH',\n",
       " 'EXT_SOURCE_2',\n",
       " 'FLAG_OWN_CAR_Y',\n",
       " 'DAYS_EMPLOYED',\n",
       " 'OCCUPATION_TYPE_Sales staff',\n",
       " 'AMT_REQ_CREDIT_BUREAU_DAY',\n",
       " 'FLAG_OWN_REALTY_Y',\n",
       " 'ORGANIZATION_TYPE_Services',\n",
       " 'REG_CITY_NOT_LIVE_CITY',\n",
       " 'FLAG_WORK_PHONE',\n",
       " 'ORGANIZATION_TYPE_Self-employed',\n",
       " 'REGION_POPULATION_RELATIVE',\n",
       " 'CODE_GENDER_M',\n",
       " 'CODE_GENDER_M',\n",
       " 'OCCUPATION_TYPE_Security staff',\n",
       " 'CODE_GENDER_M',\n",
       " 'ORGANIZATION_TYPE_Medicine',\n",
       " 'DAYS_BIRTH',\n",
       " 'AMT_ANNUITY',\n",
       " 'NAME_FAMILY_STATUS_Married',\n",
       " 'WEEKDAY_APPR_PROCESS_START_TUESDAY',\n",
       " 'DEF_30_CNT_SOCIAL_CIRCLE',\n",
       " 'REG_CITY_NOT_WORK_CITY',\n",
       " 'REG_REGION_NOT_WORK_REGION',\n",
       " 'REGION_RATING_CLIENT',\n",
       " 'OCCUPATION_TYPE_Laborers',\n",
       " 'FLAG_DOCUMENT_3',\n",
       " 'NAME_TYPE_SUITE_Unaccompanied',\n",
       " 'NAME_HOUSING_TYPE_House / apartment',\n",
       " 'AMT_GOODS_PRICE',\n",
       " 'ORGANIZATION_TYPE_Business Entity Type 3',\n",
       " 'OBS_60_CNT_SOCIAL_CIRCLE',\n",
       " 'NAME_EDUCATION_TYPE_Secondary / secondary special',\n",
       " 'FLAG_EMP_PHONE',\n",
       " 'NAME_INCOME_TYPE_Working',\n",
       " 'CNT_FAM_MEMBERS']"
      ]
     },
     "execution_count": 36,
     "metadata": {},
     "output_type": "execute_result"
    }
   ],
   "source": [
    "most_important_names"
   ]
  }
 ],
 "metadata": {
  "kernelspec": {
   "display_name": "Python 3",
   "language": "python",
   "name": "python3"
  },
  "language_info": {
   "codemirror_mode": {
    "name": "ipython",
    "version": 3
   },
   "file_extension": ".py",
   "mimetype": "text/x-python",
   "name": "python",
   "nbconvert_exporter": "python",
   "pygments_lexer": "ipython3",
   "version": "3.7.1"
  }
 },
 "nbformat": 4,
 "nbformat_minor": 2
}
