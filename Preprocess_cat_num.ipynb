{
 "cells": [
  {
   "cell_type": "code",
   "execution_count": 1,
   "metadata": {},
   "outputs": [
    {
     "name": "stdout",
     "output_type": "stream",
     "text": [
      "Ran\n"
     ]
    }
   ],
   "source": [
    "import pandas as pd\n",
    "import io\n",
    "import numpy as np\n",
    "import os\n",
    "import matplotlib.pyplot as plt\n",
    "import seaborn as sns\n",
    "from catboost import CatBoostClassifier\n",
    "import pickle\n",
    "from scipy import stats\n",
    "print ('Ran')"
   ]
  },
  {
   "cell_type": "code",
   "execution_count": 2,
   "metadata": {},
   "outputs": [],
   "source": [
    "app_train = pd.read_csv('D:/Project_Data/application_train.csv')\n",
    "prev_app = pd.read_csv('D:/Project_Data/previous_application.csv')"
   ]
  },
  {
   "cell_type": "code",
   "execution_count": 3,
   "metadata": {},
   "outputs": [],
   "source": [
    "cat_features = [f for f in prev_app.columns if prev_app[f].dtype == 'object']"
   ]
  },
  {
   "cell_type": "code",
   "execution_count": 4,
   "metadata": {},
   "outputs": [],
   "source": [
    "categorical_var = [x for x in prev_app.columns if x in cat_features + ['SK_ID_CURR']]"
   ]
  },
  {
   "cell_type": "code",
   "execution_count": 5,
   "metadata": {},
   "outputs": [],
   "source": [
    "continuous_var = [x for x in prev_app.columns if x not in categorical_var]"
   ]
  },
  {
   "cell_type": "code",
   "execution_count": 6,
   "metadata": {},
   "outputs": [
    {
     "name": "stderr",
     "output_type": "stream",
     "text": [
      "C:\\Users\\dbda\\Anaconda3\\lib\\site-packages\\scipy\\stats\\stats.py:248: RuntimeWarning: The input array could not be properly checked for nan values. nan values will be ignored.\n",
      "  \"values. nan values will be ignored.\", RuntimeWarning)\n"
     ]
    }
   ],
   "source": [
    "agg_previous_application_1 = prev_app.groupby('SK_ID_CURR').agg({k: lambda x: stats.mode(x)[0] for k in categorical_var})"
   ]
  },
  {
   "cell_type": "code",
   "execution_count": 7,
   "metadata": {},
   "outputs": [
    {
     "data": {
      "text/html": [
       "<div>\n",
       "<style scoped>\n",
       "    .dataframe tbody tr th:only-of-type {\n",
       "        vertical-align: middle;\n",
       "    }\n",
       "\n",
       "    .dataframe tbody tr th {\n",
       "        vertical-align: top;\n",
       "    }\n",
       "\n",
       "    .dataframe thead th {\n",
       "        text-align: right;\n",
       "    }\n",
       "</style>\n",
       "<table border=\"1\" class=\"dataframe\">\n",
       "  <thead>\n",
       "    <tr style=\"text-align: right;\">\n",
       "      <th></th>\n",
       "      <th>SK_ID_CURR</th>\n",
       "      <th>NAME_CONTRACT_TYPE</th>\n",
       "      <th>WEEKDAY_APPR_PROCESS_START</th>\n",
       "      <th>FLAG_LAST_APPL_PER_CONTRACT</th>\n",
       "      <th>NAME_CASH_LOAN_PURPOSE</th>\n",
       "      <th>NAME_CONTRACT_STATUS</th>\n",
       "      <th>NAME_PAYMENT_TYPE</th>\n",
       "      <th>CODE_REJECT_REASON</th>\n",
       "      <th>NAME_TYPE_SUITE</th>\n",
       "      <th>NAME_CLIENT_TYPE</th>\n",
       "      <th>NAME_GOODS_CATEGORY</th>\n",
       "      <th>NAME_PORTFOLIO</th>\n",
       "      <th>NAME_PRODUCT_TYPE</th>\n",
       "      <th>CHANNEL_TYPE</th>\n",
       "      <th>NAME_SELLER_INDUSTRY</th>\n",
       "      <th>NAME_YIELD_GROUP</th>\n",
       "      <th>PRODUCT_COMBINATION</th>\n",
       "    </tr>\n",
       "    <tr>\n",
       "      <th>SK_ID_CURR</th>\n",
       "      <th></th>\n",
       "      <th></th>\n",
       "      <th></th>\n",
       "      <th></th>\n",
       "      <th></th>\n",
       "      <th></th>\n",
       "      <th></th>\n",
       "      <th></th>\n",
       "      <th></th>\n",
       "      <th></th>\n",
       "      <th></th>\n",
       "      <th></th>\n",
       "      <th></th>\n",
       "      <th></th>\n",
       "      <th></th>\n",
       "      <th></th>\n",
       "      <th></th>\n",
       "    </tr>\n",
       "  </thead>\n",
       "  <tbody>\n",
       "    <tr>\n",
       "      <th>100001</th>\n",
       "      <td>100001</td>\n",
       "      <td>Consumer loans</td>\n",
       "      <td>FRIDAY</td>\n",
       "      <td>Y</td>\n",
       "      <td>XAP</td>\n",
       "      <td>Approved</td>\n",
       "      <td>Cash through the bank</td>\n",
       "      <td>XAP</td>\n",
       "      <td>Family</td>\n",
       "      <td>Refreshed</td>\n",
       "      <td>Mobile</td>\n",
       "      <td>POS</td>\n",
       "      <td>XNA</td>\n",
       "      <td>Country-wide</td>\n",
       "      <td>Connectivity</td>\n",
       "      <td>high</td>\n",
       "      <td>POS mobile with interest</td>\n",
       "    </tr>\n",
       "    <tr>\n",
       "      <th>100002</th>\n",
       "      <td>100002</td>\n",
       "      <td>Consumer loans</td>\n",
       "      <td>SATURDAY</td>\n",
       "      <td>Y</td>\n",
       "      <td>XAP</td>\n",
       "      <td>Approved</td>\n",
       "      <td>XNA</td>\n",
       "      <td>XAP</td>\n",
       "      <td>0</td>\n",
       "      <td>New</td>\n",
       "      <td>Vehicles</td>\n",
       "      <td>POS</td>\n",
       "      <td>XNA</td>\n",
       "      <td>Stone</td>\n",
       "      <td>Auto technology</td>\n",
       "      <td>low_normal</td>\n",
       "      <td>POS other with interest</td>\n",
       "    </tr>\n",
       "    <tr>\n",
       "      <th>100003</th>\n",
       "      <td>100003</td>\n",
       "      <td>Consumer loans</td>\n",
       "      <td>FRIDAY</td>\n",
       "      <td>Y</td>\n",
       "      <td>XAP</td>\n",
       "      <td>Approved</td>\n",
       "      <td>Cash through the bank</td>\n",
       "      <td>XAP</td>\n",
       "      <td>Family</td>\n",
       "      <td>Refreshed</td>\n",
       "      <td>Consumer Electronics</td>\n",
       "      <td>POS</td>\n",
       "      <td>XNA</td>\n",
       "      <td>Country-wide</td>\n",
       "      <td>Consumer electronics</td>\n",
       "      <td>middle</td>\n",
       "      <td>Cash X-Sell: low</td>\n",
       "    </tr>\n",
       "    <tr>\n",
       "      <th>100004</th>\n",
       "      <td>100004</td>\n",
       "      <td>Consumer loans</td>\n",
       "      <td>FRIDAY</td>\n",
       "      <td>Y</td>\n",
       "      <td>XAP</td>\n",
       "      <td>Approved</td>\n",
       "      <td>Cash through the bank</td>\n",
       "      <td>XAP</td>\n",
       "      <td>Unaccompanied</td>\n",
       "      <td>New</td>\n",
       "      <td>Mobile</td>\n",
       "      <td>POS</td>\n",
       "      <td>XNA</td>\n",
       "      <td>Regional / Local</td>\n",
       "      <td>Connectivity</td>\n",
       "      <td>middle</td>\n",
       "      <td>POS mobile without interest</td>\n",
       "    </tr>\n",
       "    <tr>\n",
       "      <th>100005</th>\n",
       "      <td>100005</td>\n",
       "      <td>Cash loans</td>\n",
       "      <td>FRIDAY</td>\n",
       "      <td>Y</td>\n",
       "      <td>XAP</td>\n",
       "      <td>Approved</td>\n",
       "      <td>Cash through the bank</td>\n",
       "      <td>XAP</td>\n",
       "      <td>0</td>\n",
       "      <td>New</td>\n",
       "      <td>Mobile</td>\n",
       "      <td>POS</td>\n",
       "      <td>XNA</td>\n",
       "      <td>Country-wide</td>\n",
       "      <td>Connectivity</td>\n",
       "      <td>XNA</td>\n",
       "      <td>Cash</td>\n",
       "    </tr>\n",
       "  </tbody>\n",
       "</table>\n",
       "</div>"
      ],
      "text/plain": [
       "            SK_ID_CURR NAME_CONTRACT_TYPE WEEKDAY_APPR_PROCESS_START  \\\n",
       "SK_ID_CURR                                                             \n",
       "100001          100001     Consumer loans                     FRIDAY   \n",
       "100002          100002     Consumer loans                   SATURDAY   \n",
       "100003          100003     Consumer loans                     FRIDAY   \n",
       "100004          100004     Consumer loans                     FRIDAY   \n",
       "100005          100005         Cash loans                     FRIDAY   \n",
       "\n",
       "           FLAG_LAST_APPL_PER_CONTRACT NAME_CASH_LOAN_PURPOSE  \\\n",
       "SK_ID_CURR                                                      \n",
       "100001                               Y                    XAP   \n",
       "100002                               Y                    XAP   \n",
       "100003                               Y                    XAP   \n",
       "100004                               Y                    XAP   \n",
       "100005                               Y                    XAP   \n",
       "\n",
       "           NAME_CONTRACT_STATUS      NAME_PAYMENT_TYPE CODE_REJECT_REASON  \\\n",
       "SK_ID_CURR                                                                  \n",
       "100001                 Approved  Cash through the bank                XAP   \n",
       "100002                 Approved                    XNA                XAP   \n",
       "100003                 Approved  Cash through the bank                XAP   \n",
       "100004                 Approved  Cash through the bank                XAP   \n",
       "100005                 Approved  Cash through the bank                XAP   \n",
       "\n",
       "           NAME_TYPE_SUITE NAME_CLIENT_TYPE   NAME_GOODS_CATEGORY  \\\n",
       "SK_ID_CURR                                                          \n",
       "100001              Family        Refreshed                Mobile   \n",
       "100002                   0              New              Vehicles   \n",
       "100003              Family        Refreshed  Consumer Electronics   \n",
       "100004       Unaccompanied              New                Mobile   \n",
       "100005                   0              New                Mobile   \n",
       "\n",
       "           NAME_PORTFOLIO NAME_PRODUCT_TYPE      CHANNEL_TYPE  \\\n",
       "SK_ID_CURR                                                      \n",
       "100001                POS               XNA      Country-wide   \n",
       "100002                POS               XNA             Stone   \n",
       "100003                POS               XNA      Country-wide   \n",
       "100004                POS               XNA  Regional / Local   \n",
       "100005                POS               XNA      Country-wide   \n",
       "\n",
       "            NAME_SELLER_INDUSTRY NAME_YIELD_GROUP          PRODUCT_COMBINATION  \n",
       "SK_ID_CURR                                                                      \n",
       "100001              Connectivity             high     POS mobile with interest  \n",
       "100002           Auto technology       low_normal      POS other with interest  \n",
       "100003      Consumer electronics           middle             Cash X-Sell: low  \n",
       "100004              Connectivity           middle  POS mobile without interest  \n",
       "100005              Connectivity              XNA                         Cash  "
      ]
     },
     "execution_count": 7,
     "metadata": {},
     "output_type": "execute_result"
    }
   ],
   "source": [
    "agg_previous_application_1.head()"
   ]
  },
  {
   "cell_type": "code",
   "execution_count": null,
   "metadata": {},
   "outputs": [],
   "source": [
    "agg_previous_application_2 = prev_app.groupby('SK_ID_CURR').agg({k:lambda x: x.mean() for k in continuous_var})"
   ]
  },
  {
   "cell_type": "code",
   "execution_count": null,
   "metadata": {},
   "outputs": [],
   "source": [
    "agg_previous_application_2.shape"
   ]
  },
  {
   "cell_type": "code",
   "execution_count": null,
   "metadata": {},
   "outputs": [],
   "source": [
    "agg_previous_application_1.head(20)"
   ]
  },
  {
   "cell_type": "code",
   "execution_count": null,
   "metadata": {},
   "outputs": [],
   "source": [
    "agg_previous_application_2.head(20)"
   ]
  },
  {
   "cell_type": "code",
   "execution_count": null,
   "metadata": {},
   "outputs": [],
   "source": [
    "prev_app=pd.merge(agg_previous_application_1, agg_previous_application_2, left_index=True, right_index=True)"
   ]
  },
  {
   "cell_type": "code",
   "execution_count": null,
   "metadata": {},
   "outputs": [],
   "source": [
    "prev_app.head(20)"
   ]
  },
  {
   "cell_type": "code",
   "execution_count": null,
   "metadata": {},
   "outputs": [],
   "source": [
    "app_train.shape"
   ]
  },
  {
   "cell_type": "code",
   "execution_count": null,
   "metadata": {},
   "outputs": [],
   "source": [
    "prev_app.shape"
   ]
  },
  {
   "cell_type": "code",
   "execution_count": null,
   "metadata": {},
   "outputs": [],
   "source": [
    "prev_app.drop(['SK_ID_PREV'],axis=1,inplace=True)"
   ]
  },
  {
   "cell_type": "code",
   "execution_count": null,
   "metadata": {},
   "outputs": [],
   "source": [
    "data_train = app_train.merge(prev_app,how='left', left_on='SK_ID_CURR',right_index=True)"
   ]
  },
  {
   "cell_type": "code",
   "execution_count": null,
   "metadata": {},
   "outputs": [],
   "source": [
    "data_train.shape"
   ]
  },
  {
   "cell_type": "code",
   "execution_count": null,
   "metadata": {},
   "outputs": [],
   "source": [
    "data_train.to_csv('merge_train_prev.csv', index = False)"
   ]
  }
 ],
 "metadata": {
  "kernelspec": {
   "display_name": "Python 3",
   "language": "python",
   "name": "python3"
  },
  "language_info": {
   "codemirror_mode": {
    "name": "ipython",
    "version": 3
   },
   "file_extension": ".py",
   "mimetype": "text/x-python",
   "name": "python",
   "nbconvert_exporter": "python",
   "pygments_lexer": "ipython3",
   "version": "3.7.3"
  }
 },
 "nbformat": 4,
 "nbformat_minor": 2
}
