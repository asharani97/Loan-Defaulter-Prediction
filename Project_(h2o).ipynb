{
  "nbformat": 4,
  "nbformat_minor": 0,
  "metadata": {
    "colab": {
      "name": "Project (h2o)",
      "version": "0.3.2",
      "provenance": []
    },
    "kernelspec": {
      "name": "python3",
      "display_name": "Python 3"
    },
    "accelerator": "GPU"
  },
  "cells": [
    {
      "cell_type": "code",
      "metadata": {
        "id": "w7lfKzK3W8D0",
        "colab_type": "code",
        "outputId": "43786085-196a-446d-ef6f-c7b3d4329961",
        "colab": {
          "base_uri": "https://localhost:8080/",
          "height": 323
        }
      },
      "source": [
        "pip install h2o\n"
      ],
      "execution_count": 1,
      "outputs": [
        {
          "output_type": "stream",
          "text": [
            "Collecting h2o\n",
            "\u001b[?25l  Downloading https://files.pythonhosted.org/packages/ab/ad/471e35326428e62fd92997a3036bba277d22c849f17ee0c5cdf1fcd899ed/h2o-3.26.0.1.tar.gz (122.6MB)\n",
            "\u001b[K     |████████████████████████████████| 122.6MB 91.0MB/s \n",
            "\u001b[?25hRequirement already satisfied: requests in /usr/local/lib/python3.6/dist-packages (from h2o) (2.21.0)\n",
            "Requirement already satisfied: tabulate in /usr/local/lib/python3.6/dist-packages (from h2o) (0.8.3)\n",
            "Requirement already satisfied: future in /usr/local/lib/python3.6/dist-packages (from h2o) (0.16.0)\n",
            "Collecting colorama>=0.3.8 (from h2o)\n",
            "  Downloading https://files.pythonhosted.org/packages/4f/a6/728666f39bfff1719fc94c481890b2106837da9318031f71a8424b662e12/colorama-0.4.1-py2.py3-none-any.whl\n",
            "Requirement already satisfied: chardet<3.1.0,>=3.0.2 in /usr/local/lib/python3.6/dist-packages (from requests->h2o) (3.0.4)\n",
            "Requirement already satisfied: urllib3<1.25,>=1.21.1 in /usr/local/lib/python3.6/dist-packages (from requests->h2o) (1.24.3)\n",
            "Requirement already satisfied: idna<2.9,>=2.5 in /usr/local/lib/python3.6/dist-packages (from requests->h2o) (2.8)\n",
            "Requirement already satisfied: certifi>=2017.4.17 in /usr/local/lib/python3.6/dist-packages (from requests->h2o) (2019.6.16)\n",
            "Building wheels for collected packages: h2o\n",
            "  Building wheel for h2o (setup.py) ... \u001b[?25l\u001b[?25hdone\n",
            "  Stored in directory: /root/.cache/pip/wheels/b9/4e/5a/a9ceca2e02e26efba8fe4e50ac397e3c14e9f192593a606a04\n",
            "Successfully built h2o\n",
            "Installing collected packages: colorama, h2o\n",
            "Successfully installed colorama-0.4.1 h2o-3.26.0.1\n"
          ],
          "name": "stdout"
        }
      ]
    },
    {
      "cell_type": "code",
      "metadata": {
        "id": "WlGQ9FAgXKkD",
        "colab_type": "code",
        "colab": {}
      },
      "source": [
        "import h2o\n"
      ],
      "execution_count": 0,
      "outputs": []
    },
    {
      "cell_type": "code",
      "metadata": {
        "id": "BWRxjTA9Xh9K",
        "colab_type": "code",
        "outputId": "63d65230-28c3-4fea-ce6c-ae17fb171555",
        "colab": {
          "base_uri": "https://localhost:8080/",
          "height": 528
        }
      },
      "source": [
        "h2o.init()"
      ],
      "execution_count": 3,
      "outputs": [
        {
          "output_type": "stream",
          "text": [
            "Checking whether there is an H2O instance running at http://localhost:54321 ..... not found.\n",
            "Attempting to start a local H2O server...\n",
            "  Java Version: openjdk version \"11.0.3\" 2019-04-16; OpenJDK Runtime Environment (build 11.0.3+7-Ubuntu-1ubuntu218.04.1); OpenJDK 64-Bit Server VM (build 11.0.3+7-Ubuntu-1ubuntu218.04.1, mixed mode, sharing)\n",
            "  Starting server from /usr/local/lib/python3.6/dist-packages/h2o/backend/bin/h2o.jar\n",
            "  Ice root: /tmp/tmpckajbjkw\n",
            "  JVM stdout: /tmp/tmpckajbjkw/h2o_unknownUser_started_from_python.out\n",
            "  JVM stderr: /tmp/tmpckajbjkw/h2o_unknownUser_started_from_python.err\n",
            "  Server is running at http://127.0.0.1:54321\n",
            "Connecting to H2O server at http://127.0.0.1:54321 ... successful.\n"
          ],
          "name": "stdout"
        },
        {
          "output_type": "display_data",
          "data": {
            "text/html": [
              "<div style=\"overflow:auto\"><table style=\"width:50%\"><tr><td>H2O cluster uptime:</td>\n",
              "<td>02 secs</td></tr>\n",
              "<tr><td>H2O cluster timezone:</td>\n",
              "<td>Etc/UTC</td></tr>\n",
              "<tr><td>H2O data parsing timezone:</td>\n",
              "<td>UTC</td></tr>\n",
              "<tr><td>H2O cluster version:</td>\n",
              "<td>3.26.0.1</td></tr>\n",
              "<tr><td>H2O cluster version age:</td>\n",
              "<td>2 days </td></tr>\n",
              "<tr><td>H2O cluster name:</td>\n",
              "<td>H2O_from_python_unknownUser_lrsu1h</td></tr>\n",
              "<tr><td>H2O cluster total nodes:</td>\n",
              "<td>1</td></tr>\n",
              "<tr><td>H2O cluster free memory:</td>\n",
              "<td>2.938 Gb</td></tr>\n",
              "<tr><td>H2O cluster total cores:</td>\n",
              "<td>2</td></tr>\n",
              "<tr><td>H2O cluster allowed cores:</td>\n",
              "<td>2</td></tr>\n",
              "<tr><td>H2O cluster status:</td>\n",
              "<td>accepting new members, healthy</td></tr>\n",
              "<tr><td>H2O connection url:</td>\n",
              "<td>http://127.0.0.1:54321</td></tr>\n",
              "<tr><td>H2O connection proxy:</td>\n",
              "<td>None</td></tr>\n",
              "<tr><td>H2O internal security:</td>\n",
              "<td>False</td></tr>\n",
              "<tr><td>H2O API Extensions:</td>\n",
              "<td>Amazon S3, XGBoost, Algos, AutoML, Core V3, Core V4</td></tr>\n",
              "<tr><td>Python version:</td>\n",
              "<td>3.6.8 final</td></tr></table></div>"
            ],
            "text/plain": [
              "--------------------------  ---------------------------------------------------\n",
              "H2O cluster uptime:         02 secs\n",
              "H2O cluster timezone:       Etc/UTC\n",
              "H2O data parsing timezone:  UTC\n",
              "H2O cluster version:        3.26.0.1\n",
              "H2O cluster version age:    2 days\n",
              "H2O cluster name:           H2O_from_python_unknownUser_lrsu1h\n",
              "H2O cluster total nodes:    1\n",
              "H2O cluster free memory:    2.938 Gb\n",
              "H2O cluster total cores:    2\n",
              "H2O cluster allowed cores:  2\n",
              "H2O cluster status:         accepting new members, healthy\n",
              "H2O connection url:         http://127.0.0.1:54321\n",
              "H2O connection proxy:\n",
              "H2O internal security:      False\n",
              "H2O API Extensions:         Amazon S3, XGBoost, Algos, AutoML, Core V3, Core V4\n",
              "Python version:             3.6.8 final\n",
              "--------------------------  ---------------------------------------------------"
            ]
          },
          "metadata": {
            "tags": []
          }
        }
      ]
    },
    {
      "cell_type": "code",
      "metadata": {
        "id": "X3RBkNXCsK4z",
        "colab_type": "code",
        "outputId": "ae6e7951-4908-4a33-cb13-35236e023c90",
        "colab": {
          "base_uri": "https://localhost:8080/",
          "height": 406
        }
      },
      "source": [
        "h2o.cluster_info()"
      ],
      "execution_count": 4,
      "outputs": [
        {
          "output_type": "stream",
          "text": [
            "[WARNING] in <ipython-input-4-808a9fd9fd9e> line 1:\n",
            "    >>> h2o.cluster_info()\n",
            "        ^^^^ Deprecated, use ``h2o.cluster().show_status()``.\n"
          ],
          "name": "stdout"
        },
        {
          "output_type": "display_data",
          "data": {
            "text/html": [
              "<div style=\"overflow:auto\"><table style=\"width:50%\"><tr><td>H2O cluster uptime:</td>\n",
              "<td>19 secs</td></tr>\n",
              "<tr><td>H2O cluster timezone:</td>\n",
              "<td>Etc/UTC</td></tr>\n",
              "<tr><td>H2O data parsing timezone:</td>\n",
              "<td>UTC</td></tr>\n",
              "<tr><td>H2O cluster version:</td>\n",
              "<td>3.26.0.1</td></tr>\n",
              "<tr><td>H2O cluster version age:</td>\n",
              "<td>2 days </td></tr>\n",
              "<tr><td>H2O cluster name:</td>\n",
              "<td>H2O_from_python_unknownUser_lrsu1h</td></tr>\n",
              "<tr><td>H2O cluster total nodes:</td>\n",
              "<td>1</td></tr>\n",
              "<tr><td>H2O cluster free memory:</td>\n",
              "<td>2.938 Gb</td></tr>\n",
              "<tr><td>H2O cluster total cores:</td>\n",
              "<td>2</td></tr>\n",
              "<tr><td>H2O cluster allowed cores:</td>\n",
              "<td>2</td></tr>\n",
              "<tr><td>H2O cluster status:</td>\n",
              "<td>locked, healthy</td></tr>\n",
              "<tr><td>H2O connection url:</td>\n",
              "<td>http://127.0.0.1:54321</td></tr>\n",
              "<tr><td>H2O connection proxy:</td>\n",
              "<td>None</td></tr>\n",
              "<tr><td>H2O internal security:</td>\n",
              "<td>False</td></tr>\n",
              "<tr><td>H2O API Extensions:</td>\n",
              "<td>Amazon S3, XGBoost, Algos, AutoML, Core V3, Core V4</td></tr>\n",
              "<tr><td>Python version:</td>\n",
              "<td>3.6.8 final</td></tr></table></div>"
            ],
            "text/plain": [
              "--------------------------  ---------------------------------------------------\n",
              "H2O cluster uptime:         19 secs\n",
              "H2O cluster timezone:       Etc/UTC\n",
              "H2O data parsing timezone:  UTC\n",
              "H2O cluster version:        3.26.0.1\n",
              "H2O cluster version age:    2 days\n",
              "H2O cluster name:           H2O_from_python_unknownUser_lrsu1h\n",
              "H2O cluster total nodes:    1\n",
              "H2O cluster free memory:    2.938 Gb\n",
              "H2O cluster total cores:    2\n",
              "H2O cluster allowed cores:  2\n",
              "H2O cluster status:         locked, healthy\n",
              "H2O connection url:         http://127.0.0.1:54321\n",
              "H2O connection proxy:\n",
              "H2O internal security:      False\n",
              "H2O API Extensions:         Amazon S3, XGBoost, Algos, AutoML, Core V3, Core V4\n",
              "Python version:             3.6.8 final\n",
              "--------------------------  ---------------------------------------------------"
            ]
          },
          "metadata": {
            "tags": []
          }
        }
      ]
    },
    {
      "cell_type": "code",
      "metadata": {
        "id": "k82L0FXA-QyW",
        "colab_type": "code",
        "outputId": "9b7412a4-f240-40c5-982d-1a4f0d055c09",
        "colab": {
          "resources": {
            "http://localhost:8080/nbextensions/google.colab/files.js": {
              "data": "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",
              "ok": true,
              "headers": [
                [
                  "content-type",
                  "application/javascript"
                ]
              ],
              "status": 200,
              "status_text": ""
            }
          },
          "base_uri": "https://localhost:8080/",
          "height": 74
        }
      },
      "source": [
        "from google.colab import files\n",
        "uploaded=files.upload()"
      ],
      "execution_count": 16,
      "outputs": [
        {
          "output_type": "display_data",
          "data": {
            "text/html": [
              "\n",
              "     <input type=\"file\" id=\"files-e381b861-8978-4f2a-bf65-542df0d48d85\" name=\"files[]\" multiple disabled />\n",
              "     <output id=\"result-e381b861-8978-4f2a-bf65-542df0d48d85\">\n",
              "      Upload widget is only available when the cell has been executed in the\n",
              "      current browser session. Please rerun this cell to enable.\n",
              "      </output>\n",
              "      <script src=\"/nbextensions/google.colab/files.js\"></script> "
            ],
            "text/plain": [
              "<IPython.core.display.HTML object>"
            ]
          },
          "metadata": {
            "tags": []
          }
        },
        {
          "output_type": "stream",
          "text": [
            "Saving application_train.csv to application_train (1).csv\n"
          ],
          "name": "stdout"
        }
      ]
    },
    {
      "cell_type": "code",
      "metadata": {
        "id": "OVkFXwy7Ix-B",
        "colab_type": "code",
        "outputId": "de98cb48-70cf-467d-ecf2-b7acfaae1d6b",
        "colab": {
          "base_uri": "https://localhost:8080/",
          "height": 34
        }
      },
      "source": [
        "df1 = h2o.import_file(\"/content/application_train.csv\")"
      ],
      "execution_count": 12,
      "outputs": [
        {
          "output_type": "stream",
          "text": [
            "Parse progress: |█████████████████████████████████████████████████████████| 100%\n"
          ],
          "name": "stdout"
        }
      ]
    },
    {
      "cell_type": "code",
      "metadata": {
        "id": "fy6Y-d8y6y4F",
        "colab_type": "code",
        "colab": {}
      },
      "source": [
        "import io\n",
        "df=pd.read_csv(io.BytesIO(uploaded['application_train.csv']))"
      ],
      "execution_count": 0,
      "outputs": []
    },
    {
      "cell_type": "markdown",
      "metadata": {
        "id": "fjPhwjQF6yhc",
        "colab_type": "text"
      },
      "source": [
        ""
      ]
    },
    {
      "cell_type": "code",
      "metadata": {
        "id": "MLyJaP4aJDnp",
        "colab_type": "code",
        "colab": {}
      },
      "source": [
        "df1=df.dropna(axis=1)\n",
        "df1=pd.get_dummies(df1)"
      ],
      "execution_count": 0,
      "outputs": []
    },
    {
      "cell_type": "code",
      "metadata": {
        "id": "OsQEFxoEGsqQ",
        "colab_type": "code",
        "colab": {
          "base_uri": "https://localhost:8080/",
          "height": 34
        },
        "outputId": "56b9069d-2264-47a8-9e75-06ed002293b8"
      },
      "source": [
        "df2=h2o.H2OFrame(df1)"
      ],
      "execution_count": 30,
      "outputs": [
        {
          "output_type": "stream",
          "text": [
            "Parse progress: |█████████████████████████████████████████████████████████| 100%\n"
          ],
          "name": "stdout"
        }
      ]
    },
    {
      "cell_type": "code",
      "metadata": {
        "id": "NendDNxoJITi",
        "colab_type": "code",
        "outputId": "4ad497e9-96c1-4d84-f4ff-b8f919051070",
        "colab": {
          "base_uri": "https://localhost:8080/",
          "height": 142
        }
      },
      "source": [
        "h2o.ls()"
      ],
      "execution_count": 20,
      "outputs": [
        {
          "output_type": "execute_result",
          "data": {
            "text/html": [
              "<div>\n",
              "<style scoped>\n",
              "    .dataframe tbody tr th:only-of-type {\n",
              "        vertical-align: middle;\n",
              "    }\n",
              "\n",
              "    .dataframe tbody tr th {\n",
              "        vertical-align: top;\n",
              "    }\n",
              "\n",
              "    .dataframe thead th {\n",
              "        text-align: right;\n",
              "    }\n",
              "</style>\n",
              "<table border=\"1\" class=\"dataframe\">\n",
              "  <thead>\n",
              "    <tr style=\"text-align: right;\">\n",
              "      <th></th>\n",
              "      <th>key</th>\n",
              "    </tr>\n",
              "  </thead>\n",
              "  <tbody>\n",
              "    <tr>\n",
              "      <th>0</th>\n",
              "      <td>Key_Frame__upload_90a6f2716819deb1f0bc7a52aeb5...</td>\n",
              "    </tr>\n",
              "    <tr>\n",
              "      <th>1</th>\n",
              "      <td>application_train.hex</td>\n",
              "    </tr>\n",
              "    <tr>\n",
              "      <th>2</th>\n",
              "      <td>application_train1.hex</td>\n",
              "    </tr>\n",
              "  </tbody>\n",
              "</table>\n",
              "</div>"
            ],
            "text/plain": [
              "                                                 key\n",
              "0  Key_Frame__upload_90a6f2716819deb1f0bc7a52aeb5...\n",
              "1                              application_train.hex\n",
              "2                             application_train1.hex"
            ]
          },
          "metadata": {
            "tags": []
          },
          "execution_count": 20
        }
      ]
    },
    {
      "cell_type": "code",
      "metadata": {
        "id": "SOL1RGaYHCCW",
        "colab_type": "code",
        "colab": {
          "base_uri": "https://localhost:8080/",
          "height": 1000
        },
        "outputId": "e19c9e22-9a62-4485-9ab4-999800c0eb06"
      },
      "source": [
        "df2.summary()\n",
        "df2.col_names"
      ],
      "execution_count": 36,
      "outputs": [
        {
          "output_type": "display_data",
          "data": {
            "text/html": [
              "<table>\n",
              "<thead>\n",
              "<tr><th>       </th><th>SK_ID_CURR        </th><th>TARGET             </th><th>CNT_CHILDREN      </th><th>AMT_INCOME_TOTAL  </th><th>AMT_CREDIT       </th><th>REGION_POPULATION_RELATIVE  </th><th>DAYS_BIRTH         </th><th>DAYS_EMPLOYED     </th><th>DAYS_REGISTRATION  </th><th>DAYS_ID_PUBLISH    </th><th>FLAG_MOBIL           </th><th>FLAG_EMP_PHONE     </th><th>FLAG_WORK_PHONE   </th><th>FLAG_CONT_MOBILE   </th><th>FLAG_PHONE         </th><th>FLAG_EMAIL        </th><th>REGION_RATING_CLIENT  </th><th>REGION_RATING_CLIENT_W_CITY  </th><th>HOUR_APPR_PROCESS_START  </th><th>REG_REGION_NOT_LIVE_REGION  </th><th>REG_REGION_NOT_WORK_REGION  </th><th>LIVE_REGION_NOT_WORK_REGION  </th><th>REG_CITY_NOT_LIVE_CITY  </th><th>REG_CITY_NOT_WORK_CITY  </th><th>LIVE_CITY_NOT_WORK_CITY  </th><th>FLAG_DOCUMENT_2       </th><th>FLAG_DOCUMENT_3   </th><th>FLAG_DOCUMENT_4      </th><th>FLAG_DOCUMENT_5     </th><th>FLAG_DOCUMENT_6   </th><th>FLAG_DOCUMENT_7       </th><th>FLAG_DOCUMENT_8    </th><th>FLAG_DOCUMENT_9    </th><th>FLAG_DOCUMENT_10     </th><th>FLAG_DOCUMENT_11    </th><th>FLAG_DOCUMENT_12     </th><th>FLAG_DOCUMENT_13    </th><th>FLAG_DOCUMENT_14     </th><th>FLAG_DOCUMENT_15     </th><th>FLAG_DOCUMENT_16    </th><th>FLAG_DOCUMENT_17     </th><th>FLAG_DOCUMENT_18    </th><th>FLAG_DOCUMENT_19     </th><th>FLAG_DOCUMENT_20     </th><th>FLAG_DOCUMENT_21     </th><th>NAME_CONTRACT_TYPE_Cash loans  </th><th>NAME_CONTRACT_TYPE_Revolving loans  </th><th>CODE_GENDER_F     </th><th>CODE_GENDER_M      </th><th>CODE_GENDER_XNA       </th><th>FLAG_OWN_CAR_N    </th><th>FLAG_OWN_CAR_Y    </th><th>FLAG_OWN_REALTY_N  </th><th>FLAG_OWN_REALTY_Y  </th><th>NAME_INCOME_TYPE_Businessman  </th><th>NAME_INCOME_TYPE_Commercial associate  </th><th>NAME_INCOME_TYPE_Maternity leave  </th><th>NAME_INCOME_TYPE_Pensioner  </th><th>NAME_INCOME_TYPE_State servant  </th><th>NAME_INCOME_TYPE_Student  </th><th>NAME_INCOME_TYPE_Unemployed  </th><th>NAME_INCOME_TYPE_Working  </th><th>NAME_EDUCATION_TYPE_Academic degree  </th><th>NAME_EDUCATION_TYPE_Higher education  </th><th>NAME_EDUCATION_TYPE_Incomplete higher  </th><th>NAME_EDUCATION_TYPE_Lower secondary  </th><th>NAME_EDUCATION_TYPE_Secondary / secondary special  </th><th>NAME_FAMILY_STATUS_Civil marriage  </th><th>NAME_FAMILY_STATUS_Married  </th><th>NAME_FAMILY_STATUS_Separated  </th><th>NAME_FAMILY_STATUS_Single / not married  </th><th>NAME_FAMILY_STATUS_Unknown  </th><th>NAME_FAMILY_STATUS_Widow  </th><th>NAME_HOUSING_TYPE_Co-op apartment  </th><th>NAME_HOUSING_TYPE_House / apartment  </th><th>NAME_HOUSING_TYPE_Municipal apartment  </th><th>NAME_HOUSING_TYPE_Office apartment  </th><th>NAME_HOUSING_TYPE_Rented apartment  </th><th>NAME_HOUSING_TYPE_With parents  </th><th>WEEKDAY_APPR_PROCESS_START_FRIDAY  </th><th>WEEKDAY_APPR_PROCESS_START_MONDAY  </th><th>WEEKDAY_APPR_PROCESS_START_SATURDAY  </th><th>WEEKDAY_APPR_PROCESS_START_SUNDAY  </th><th>WEEKDAY_APPR_PROCESS_START_THURSDAY  </th><th>WEEKDAY_APPR_PROCESS_START_TUESDAY  </th><th>WEEKDAY_APPR_PROCESS_START_WEDNESDAY  </th><th>ORGANIZATION_TYPE_Advertising  </th><th>ORGANIZATION_TYPE_Agriculture  </th><th>ORGANIZATION_TYPE_Bank  </th><th>ORGANIZATION_TYPE_Business Entity Type 1  </th><th>ORGANIZATION_TYPE_Business Entity Type 2  </th><th>ORGANIZATION_TYPE_Business Entity Type 3  </th><th>ORGANIZATION_TYPE_Cleaning  </th><th>ORGANIZATION_TYPE_Construction  </th><th>ORGANIZATION_TYPE_Culture  </th><th>ORGANIZATION_TYPE_Electricity  </th><th>ORGANIZATION_TYPE_Emergency  </th><th>ORGANIZATION_TYPE_Government  </th><th>ORGANIZATION_TYPE_Hotel  </th><th>ORGANIZATION_TYPE_Housing  </th><th>ORGANIZATION_TYPE_Industry: type 1  </th><th>ORGANIZATION_TYPE_Industry: type 10  </th><th>ORGANIZATION_TYPE_Industry: type 11  </th><th>ORGANIZATION_TYPE_Industry: type 12  </th><th>ORGANIZATION_TYPE_Industry: type 13  </th><th>ORGANIZATION_TYPE_Industry: type 2  </th><th>ORGANIZATION_TYPE_Industry: type 3  </th><th>ORGANIZATION_TYPE_Industry: type 4  </th><th>ORGANIZATION_TYPE_Industry: type 5  </th><th>ORGANIZATION_TYPE_Industry: type 6  </th><th>ORGANIZATION_TYPE_Industry: type 7  </th><th>ORGANIZATION_TYPE_Industry: type 8  </th><th>ORGANIZATION_TYPE_Industry: type 9  </th><th>ORGANIZATION_TYPE_Insurance  </th><th>ORGANIZATION_TYPE_Kindergarten  </th><th>ORGANIZATION_TYPE_Legal Services  </th><th>ORGANIZATION_TYPE_Medicine  </th><th>ORGANIZATION_TYPE_Military  </th><th>ORGANIZATION_TYPE_Mobile  </th><th>ORGANIZATION_TYPE_Other  </th><th>ORGANIZATION_TYPE_Police  </th><th>ORGANIZATION_TYPE_Postal  </th><th>ORGANIZATION_TYPE_Realtor  </th><th>ORGANIZATION_TYPE_Religion  </th><th>ORGANIZATION_TYPE_Restaurant  </th><th>ORGANIZATION_TYPE_School  </th><th>ORGANIZATION_TYPE_Security  </th><th>ORGANIZATION_TYPE_Security Ministries  </th><th>ORGANIZATION_TYPE_Self-employed  </th><th>ORGANIZATION_TYPE_Services  </th><th>ORGANIZATION_TYPE_Telecom  </th><th>ORGANIZATION_TYPE_Trade: type 1  </th><th>ORGANIZATION_TYPE_Trade: type 2  </th><th>ORGANIZATION_TYPE_Trade: type 3  </th><th>ORGANIZATION_TYPE_Trade: type 4  </th><th>ORGANIZATION_TYPE_Trade: type 5  </th><th>ORGANIZATION_TYPE_Trade: type 6  </th><th>ORGANIZATION_TYPE_Trade: type 7  </th><th>ORGANIZATION_TYPE_Transport: type 1  </th><th>ORGANIZATION_TYPE_Transport: type 2  </th><th>ORGANIZATION_TYPE_Transport: type 3  </th><th>ORGANIZATION_TYPE_Transport: type 4  </th><th>ORGANIZATION_TYPE_University  </th><th>ORGANIZATION_TYPE_XNA  </th></tr>\n",
              "</thead>\n",
              "<tbody>\n",
              "<tr><td>type   </td><td>int               </td><td>int                </td><td>int               </td><td>real              </td><td>real             </td><td>real                        </td><td>int                </td><td>int               </td><td>real               </td><td>int                </td><td>int                  </td><td>int                </td><td>int               </td><td>int                </td><td>int                </td><td>int               </td><td>int                   </td><td>int                          </td><td>int                      </td><td>int                         </td><td>int                         </td><td>int                          </td><td>int                     </td><td>int                     </td><td>int                      </td><td>int                   </td><td>int               </td><td>int                  </td><td>int                 </td><td>int               </td><td>int                   </td><td>int                </td><td>int                </td><td>int                  </td><td>int                 </td><td>int                  </td><td>int                 </td><td>int                  </td><td>int                  </td><td>int                 </td><td>int                  </td><td>int                 </td><td>int                  </td><td>int                  </td><td>int                  </td><td>int                            </td><td>int                                 </td><td>int               </td><td>int                </td><td>int                   </td><td>int               </td><td>int               </td><td>int                </td><td>int                </td><td>int                           </td><td>int                                    </td><td>int                               </td><td>int                         </td><td>int                             </td><td>int                       </td><td>int                          </td><td>int                       </td><td>int                                  </td><td>int                                   </td><td>int                                    </td><td>int                                  </td><td>int                                                </td><td>int                                </td><td>int                         </td><td>int                           </td><td>int                                      </td><td>int                         </td><td>int                       </td><td>int                                </td><td>int                                  </td><td>int                                    </td><td>int                                 </td><td>int                                 </td><td>int                             </td><td>int                                </td><td>int                                </td><td>int                                  </td><td>int                                </td><td>int                                  </td><td>int                                 </td><td>int                                   </td><td>int                            </td><td>int                            </td><td>int                     </td><td>int                                       </td><td>int                                       </td><td>int                                       </td><td>int                         </td><td>int                             </td><td>int                        </td><td>int                            </td><td>int                          </td><td>int                           </td><td>int                      </td><td>int                        </td><td>int                                 </td><td>int                                  </td><td>int                                  </td><td>int                                  </td><td>int                                  </td><td>int                                 </td><td>int                                 </td><td>int                                 </td><td>int                                 </td><td>int                                 </td><td>int                                 </td><td>int                                 </td><td>int                                 </td><td>int                          </td><td>int                             </td><td>int                               </td><td>int                         </td><td>int                         </td><td>int                       </td><td>int                      </td><td>int                       </td><td>int                       </td><td>int                        </td><td>int                         </td><td>int                           </td><td>int                       </td><td>int                         </td><td>int                                    </td><td>int                              </td><td>int                         </td><td>int                        </td><td>int                              </td><td>int                              </td><td>int                              </td><td>int                              </td><td>int                              </td><td>int                              </td><td>int                              </td><td>int                                  </td><td>int                                  </td><td>int                                  </td><td>int                                  </td><td>int                           </td><td>int                    </td></tr>\n",
              "<tr><td>mins   </td><td>100002.0          </td><td>0.0                </td><td>0.0               </td><td>25650.0           </td><td>45000.0          </td><td>0.00029                     </td><td>-25229.0           </td><td>-17912.0          </td><td>-24672.0           </td><td>-7197.0            </td><td>0.0                  </td><td>0.0                </td><td>0.0               </td><td>0.0                </td><td>0.0                </td><td>0.0               </td><td>1.0                   </td><td>1.0                          </td><td>0.0                      </td><td>0.0                         </td><td>0.0                         </td><td>0.0                          </td><td>0.0                     </td><td>0.0                     </td><td>0.0                      </td><td>0.0                   </td><td>0.0               </td><td>0.0                  </td><td>0.0                 </td><td>0.0               </td><td>0.0                   </td><td>0.0                </td><td>0.0                </td><td>0.0                  </td><td>0.0                 </td><td>0.0                  </td><td>0.0                 </td><td>0.0                  </td><td>0.0                  </td><td>0.0                 </td><td>0.0                  </td><td>0.0                 </td><td>0.0                  </td><td>0.0                  </td><td>0.0                  </td><td>0.0                            </td><td>0.0                                 </td><td>0.0               </td><td>0.0                </td><td>0.0                   </td><td>0.0               </td><td>0.0               </td><td>0.0                </td><td>0.0                </td><td>0.0                           </td><td>0.0                                    </td><td>0.0                               </td><td>0.0                         </td><td>0.0                             </td><td>0.0                       </td><td>0.0                          </td><td>0.0                       </td><td>0.0                                  </td><td>0.0                                   </td><td>0.0                                    </td><td>0.0                                  </td><td>0.0                                                </td><td>0.0                                </td><td>0.0                         </td><td>0.0                           </td><td>0.0                                      </td><td>0.0                         </td><td>0.0                       </td><td>0.0                                </td><td>0.0                                  </td><td>0.0                                    </td><td>0.0                                 </td><td>0.0                                 </td><td>0.0                             </td><td>0.0                                </td><td>0.0                                </td><td>0.0                                  </td><td>0.0                                </td><td>0.0                                  </td><td>0.0                                 </td><td>0.0                                   </td><td>0.0                            </td><td>0.0                            </td><td>0.0                     </td><td>0.0                                       </td><td>0.0                                       </td><td>0.0                                       </td><td>0.0                         </td><td>0.0                             </td><td>0.0                        </td><td>0.0                            </td><td>0.0                          </td><td>0.0                           </td><td>0.0                      </td><td>0.0                        </td><td>0.0                                 </td><td>0.0                                  </td><td>0.0                                  </td><td>0.0                                  </td><td>0.0                                  </td><td>0.0                                 </td><td>0.0                                 </td><td>0.0                                 </td><td>0.0                                 </td><td>0.0                                 </td><td>0.0                                 </td><td>0.0                                 </td><td>0.0                                 </td><td>0.0                          </td><td>0.0                             </td><td>0.0                               </td><td>0.0                         </td><td>0.0                         </td><td>0.0                       </td><td>0.0                      </td><td>0.0                       </td><td>0.0                       </td><td>0.0                        </td><td>0.0                         </td><td>0.0                           </td><td>0.0                       </td><td>0.0                         </td><td>0.0                                    </td><td>0.0                              </td><td>0.0                         </td><td>0.0                        </td><td>0.0                              </td><td>0.0                              </td><td>0.0                              </td><td>0.0                              </td><td>0.0                              </td><td>0.0                              </td><td>0.0                              </td><td>0.0                                  </td><td>0.0                                  </td><td>0.0                                  </td><td>0.0                                  </td><td>0.0                           </td><td>0.0                    </td></tr>\n",
              "<tr><td>mean   </td><td>278180.51857657137</td><td>0.08072881945686496</td><td>0.4170517477423572</td><td>168797.9192969845 </td><td>599025.999705702 </td><td>0.020868112057780046        </td><td>-16036.995066843137</td><td>63815.04590404896 </td><td>-4986.120327538418 </td><td>-2994.2023732484367</td><td>0.9999967480838083   </td><td>0.8198893698111612 </td><td>0.1993684778755882</td><td>0.9981334001060125 </td><td>0.28106636835755466</td><td>0.0567199222141647</td><td>2.0524631639193407    </td><td>2.0315208236453324           </td><td>12.06341886956889        </td><td>0.015144173704355291        </td><td>0.05076891558350758         </td><td>0.04065870814377372          </td><td>0.07817281333025486     </td><td>0.23045354475124466     </td><td>0.17955455252007246      </td><td>4.2274910491006824e-05</td><td>0.7100233812774177</td><td>8.129790479039775e-05</td><td>0.015114906458630749</td><td>0.0880553866365756</td><td>0.00019186305530533867</td><td>0.08137595077899652</td><td>0.00389579559755586</td><td>2.276341334131137e-05</td><td>0.003912055178513939</td><td>6.503832383231819e-06</td><td>0.003525077151711646</td><td>0.0029364803210291664</td><td>0.0012097128232811183</td><td>0.009928100133003373</td><td>0.0002666571277125046</td><td>0.008129790479039774</td><td>0.0005951006630657115</td><td>0.0005072989258920819</td><td>0.0003349473677364387</td><td>0.9047871458256778             </td><td>0.09521285417432222                 </td><td>0.6583439291602576</td><td>0.34164306317497584</td><td>1.3007664766463636e-05</td><td>0.6598918412674668</td><td>0.3401081587325332</td><td>0.30632725333402705</td><td>0.6936727466659729 </td><td>3.2519161916159095e-05        </td><td>0.2328924818949566                     </td><td>1.6259580958079547e-05            </td><td>0.18003258420024            </td><td>0.07057633710664009             </td><td>5.8534491449086374e-05    </td><td>7.154215621555002e-05        </td><td>0.5163197414076245        </td><td>0.0005333142554250092                </td><td>0.24344820185294186                   </td><td>0.0334199427012367                     </td><td>0.012409312187206312                 </td><td>0.7101892290031901                                 </td><td>0.0968258046053637                 </td><td>0.6387804013514964          </td><td>0.06429038310824653           </td><td>0.14778007941179339                      </td><td>6.503832383231819e-06       </td><td>0.05231682769071676       </td><td>0.0036486499669930506              </td><td>0.8873438673738501                   </td><td>0.03636617877084072                    </td><td>0.008510264673458836                </td><td>0.015872602931277256                </td><td>0.0482584362835801              </td><td>0.16369495725356167                </td><td>0.16491767774160923                </td><td>0.11008386691858177                  </td><td>0.052619255896537036               </td><td>0.1645176920500405                   </td><td>0.17528153464428914                 </td><td>0.16888501549538065                   </td><td>0.0013950720462032253          </td><td>0.007980202334225443           </td><td>0.008152553892381086    </td><td>0.019459466490629605                      </td><td>0.034317471570122694                      </td><td>0.22110428570034893                       </td><td>0.0008454982098201365       </td><td>0.02185612872385053             </td><td>0.0012324762366224297      </td><td>0.003089320382035114           </td><td>0.0018210730673049094        </td><td>0.03383293605757193           </td><td>0.0031413510411009687    </td><td>0.009619168094799862       </td><td>0.0033787409230889302               </td><td>0.00035445886488613416               </td><td>0.008793181382129419                 </td><td>0.0011999570747062707                </td><td>0.00021787838483826595               </td><td>0.0014893776157600866               </td><td>0.010659781276116952                </td><td>0.002851930500047153                </td><td>0.00194789779877793                 </td><td>0.0003642146134609819               </td><td>0.004250254462441994                </td><td>7.804598859878183e-05               </td><td>0.010952453733362384                </td><td>0.001941393966394698         </td><td>0.02237318339831746             </td><td>0.0009918344384428524             </td><td>0.03639869793275688         </td><td>0.008565547248716306        </td><td>0.0010308574327422433     </td><td>0.05425171782472822      </td><td>0.007612735804572845      </td><td>0.007014383225315517      </td><td>0.0012877588118799003      </td><td>0.00027641287628735233      </td><td>0.005889220223016412          </td><td>0.028919290692040286      </td><td>0.010558971874176858        </td><td>0.006419282562249806                   </td><td>0.12491260475235032              </td><td>0.005121768001795058        </td><td>0.00187635564256238        </td><td>0.0011316668346823366            </td><td>0.006178640764070228             </td><td>0.011355691341122756             </td><td>0.0002081226362634182            </td><td>0.00015934389338917958           </td><td>0.002051959116909639             </td><td>0.02546575569654419              </td><td>0.0006536351545147978                </td><td>0.007167223286321465                 </td><td>0.003860024519448085                 </td><td>0.01755384360234268                  </td><td>0.004315292786274312          </td><td>0.18007160719453938    </td></tr>\n",
              "<tr><td>maxs   </td><td>456255.0          </td><td>1.0                </td><td>19.0              </td><td>117000000.0       </td><td>4050000.0        </td><td>0.072508                    </td><td>-7489.0            </td><td>365243.0          </td><td>0.0                </td><td>0.0                </td><td>1.0                  </td><td>1.0                </td><td>1.0               </td><td>1.0                </td><td>1.0                </td><td>1.0               </td><td>3.0                   </td><td>3.0                          </td><td>23.0                     </td><td>1.0                         </td><td>1.0                         </td><td>1.0                          </td><td>1.0                     </td><td>1.0                     </td><td>1.0                      </td><td>1.0                   </td><td>1.0               </td><td>1.0                  </td><td>1.0                 </td><td>1.0               </td><td>1.0                   </td><td>1.0                </td><td>1.0                </td><td>1.0                  </td><td>1.0                 </td><td>1.0                  </td><td>1.0                 </td><td>1.0                  </td><td>1.0                  </td><td>1.0                 </td><td>1.0                  </td><td>1.0                 </td><td>1.0                  </td><td>1.0                  </td><td>1.0                  </td><td>1.0                            </td><td>1.0                                 </td><td>1.0               </td><td>1.0                </td><td>1.0                   </td><td>1.0               </td><td>1.0               </td><td>1.0                </td><td>1.0                </td><td>1.0                           </td><td>1.0                                    </td><td>1.0                               </td><td>1.0                         </td><td>1.0                             </td><td>1.0                       </td><td>1.0                          </td><td>1.0                       </td><td>1.0                                  </td><td>1.0                                   </td><td>1.0                                    </td><td>1.0                                  </td><td>1.0                                                </td><td>1.0                                </td><td>1.0                         </td><td>1.0                           </td><td>1.0                                      </td><td>1.0                         </td><td>1.0                       </td><td>1.0                                </td><td>1.0                                  </td><td>1.0                                    </td><td>1.0                                 </td><td>1.0                                 </td><td>1.0                             </td><td>1.0                                </td><td>1.0                                </td><td>1.0                                  </td><td>1.0                                </td><td>1.0                                  </td><td>1.0                                 </td><td>1.0                                   </td><td>1.0                            </td><td>1.0                            </td><td>1.0                     </td><td>1.0                                       </td><td>1.0                                       </td><td>1.0                                       </td><td>1.0                         </td><td>1.0                             </td><td>1.0                        </td><td>1.0                            </td><td>1.0                          </td><td>1.0                           </td><td>1.0                      </td><td>1.0                        </td><td>1.0                                 </td><td>1.0                                  </td><td>1.0                                  </td><td>1.0                                  </td><td>1.0                                  </td><td>1.0                                 </td><td>1.0                                 </td><td>1.0                                 </td><td>1.0                                 </td><td>1.0                                 </td><td>1.0                                 </td><td>1.0                                 </td><td>1.0                                 </td><td>1.0                          </td><td>1.0                             </td><td>1.0                               </td><td>1.0                         </td><td>1.0                         </td><td>1.0                       </td><td>1.0                      </td><td>1.0                       </td><td>1.0                       </td><td>1.0                        </td><td>1.0                         </td><td>1.0                           </td><td>1.0                       </td><td>1.0                         </td><td>1.0                                    </td><td>1.0                              </td><td>1.0                         </td><td>1.0                        </td><td>1.0                              </td><td>1.0                              </td><td>1.0                              </td><td>1.0                              </td><td>1.0                              </td><td>1.0                              </td><td>1.0                              </td><td>1.0                                  </td><td>1.0                                  </td><td>1.0                                  </td><td>1.0                                  </td><td>1.0                           </td><td>1.0                    </td></tr>\n",
              "<tr><td>sigma  </td><td>102790.17534842464</td><td>0.27241864564839396</td><td>0.7221213844376252</td><td>237123.1462788562 </td><td>402490.7769958549</td><td>0.013831280122704702        </td><td>4363.98863178556   </td><td>141275.76651872727</td><td>3522.886320963072  </td><td>1509.4504190030232 </td><td>0.0018033070153514927</td><td>0.38428019893876436</td><td>0.3995262281502265</td><td>0.04316389414243239</td><td>0.44952054685675835</td><td>0.2313070397227076</td><td>0.5090339028156798    </td><td>0.5027370329147687           </td><td>3.265832255437871        </td><td>0.12212647628215205         </td><td>0.2195258287969607          </td><td>0.19749861882842365          </td><td>0.2684437723734045      </td><td>0.4211238359138973      </td><td>0.38381661538559586      </td><td>0.006501789045489791  </td><td>0.4537519684327392</td><td>0.009016183216550892 </td><td>0.1220102228135413  </td><td>0.2833758928629899</td><td>0.013850157677017421  </td><td>0.27341204894451304</td><td>0.06229471080039369</td><td>0.004771055354069213 </td><td>0.06242406326684519 </td><td>0.0025502570915978662</td><td>0.0592677180737531  </td><td>0.05410976737642879  </td><td>0.03475993882769259  </td><td>0.09914416233784906 </td><td>0.016327488741596615 </td><td>0.08979823610939557 </td><td>0.024387465065862264 </td><td>0.02251762026844613  </td><td>0.01829853182243764  </td><td>0.29350919358553096            </td><td>0.29350919358553096                 </td><td>0.4742656761192758</td><td>0.4742613330145959 </td><td>0.003606596437993023  </td><td>0.4737460595519285</td><td>0.4737460595519285</td><td>0.4609680663599124 </td><td>0.4609680663599124 </td><td>0.005702474039113333          </td><td>0.4226749989532175                     </td><td>0.004032290844943284              </td><td>0.3842152168754201          </td><td>0.25611624520599924             </td><td>0.007650572233574078      </td><td>0.008457970830444056         </td><td>0.49973440761666726       </td><td>0.02308747636065808                  </td><td>0.4291640406781579                    </td><td>0.17973078528242212                    </td><td>0.11070393403873988                  </td><td>0.4536751671892551                                 </td><td>0.29572090313457894                </td><td>0.48035481734890556         </td><td>0.2452699031161831            </td><td>0.35488242713913165                      </td><td>0.0025502570915978662       </td><td>0.22266553047317691       </td><td>0.060293856588065006               </td><td>0.3161725058980387                   </td><td>0.1871998765275457                     </td><td>0.09185786579212739                 </td><td>0.12498285564315097                 </td><td>0.21431217644036937             </td><td>0.3699991397403145                 </td><td>0.37110683793855                   </td><td>0.3129947727026284                   </td><td>0.22327255074350022                </td><td>0.370745287273047                    </td><td>0.3802083486048087                  </td><td>0.37465093552034545                   </td><td>0.03732466142555444            </td><td>0.08897496529288078            </td><td>0.08992283387874643     </td><td>0.13813347785341462                       </td><td>0.18204364993952127                       </td><td>0.4149912536222257                        </td><td>0.0290652041068163          </td><td>0.1462139113838794              </td><td>0.03508505724566207        </td><td>0.055495824138576705           </td><td>0.04263522805615457          </td><td>0.18079926657802417           </td><td>0.055959745693585694     </td><td>0.0976046652568333         </td><td>0.05802875134929219                 </td><td>0.018823771568549502                 </td><td>0.09335892933540524                  </td><td>0.034619663129718974                 </td><td>0.014759119967595139                 </td><td>0.038563768049960076                </td><td>0.1026946183330503                  </td><td>0.05332734983373552                 </td><td>0.044092060680190844                </td><td>0.019080962898768976                </td><td>0.06505538841800713                 </td><td>0.008834033688099494                </td><td>0.10407945386611844                 </td><td>0.044018533106822195         </td><td>0.14789420269609743             </td><td>0.03147783228024913               </td><td>0.1872803961419674          </td><td>0.09215316741702027         </td><td>0.03209046765805644       </td><td>0.22651409622621232      </td><td>0.08691839060717019       </td><td>0.08345779953691915       </td><td>0.03586230153555306        </td><td>0.016623398293825045        </td><td>0.07651507267661586           </td><td>0.1675800007210173        </td><td>0.10221308116663451         </td><td>0.07986298338197634                    </td><td>0.33062032816003084              </td><td>0.0713831357159316          </td><td>0.04327633328260436        </td><td>0.033621270659965286             </td><td>0.07836124763377507              </td><td>0.10595648221710158              </td><td>0.014424978263082661             </td><td>0.01262216387965721              </td><td>0.04525212967165845              </td><td>0.15753517603135772              </td><td>0.025557974093888686                 </td><td>0.08435565978001835                  </td><td>0.062009170565500836                 </td><td>0.13132312157004455                  </td><td>0.06554910378412954           </td><td>0.38424771126230567    </td></tr>\n",
              "<tr><td>zeros  </td><td>0                 </td><td>282686             </td><td>215371            </td><td>0                 </td><td>0                </td><td>0                           </td><td>0                  </td><td>2                 </td><td>80                 </td><td>16                 </td><td>1                    </td><td>55386              </td><td>246203            </td><td>574                </td><td>221080             </td><td>290069            </td><td>0                     </td><td>0                            </td><td>40                       </td><td>302854                      </td><td>291899                      </td><td>295008                       </td><td>283472                  </td><td>236644                  </td><td>252296                   </td><td>307498                </td><td>89171             </td><td>307486               </td><td>302863              </td><td>280433            </td><td>307452                </td><td>282487             </td><td>306313             </td><td>307504               </td><td>306308              </td><td>307509               </td><td>306427              </td><td>306608               </td><td>307139               </td><td>304458              </td><td>307429               </td><td>305011              </td><td>307328               </td><td>307355               </td><td>307408               </td><td>29279                          </td><td>278232                              </td><td>105063            </td><td>202452             </td><td>307507                </td><td>104587            </td><td>202924            </td><td>213312             </td><td>94199              </td><td>307501                        </td><td>235894                                 </td><td>307506                            </td><td>252149                      </td><td>285808                          </td><td>307493                    </td><td>307489                       </td><td>148737                    </td><td>307347                               </td><td>232648                                </td><td>297234                                 </td><td>303695                               </td><td>89120                                              </td><td>277736                             </td><td>111079                      </td><td>287741                        </td><td>262067                                   </td><td>307509                      </td><td>291423                    </td><td>306389                             </td><td>34643                                </td><td>296328                                 </td><td>304894                              </td><td>302630                              </td><td>292671                          </td><td>257173                             </td><td>256797                             </td><td>273659                               </td><td>291330                             </td><td>256920                               </td><td>253610                              </td><td>255577                                </td><td>307082                         </td><td>305057                         </td><td>305004                  </td><td>301527                                    </td><td>296958                                    </td><td>239519                                    </td><td>307251                      </td><td>300790                          </td><td>307132                     </td><td>306561                         </td><td>306951                       </td><td>297107                        </td><td>306545                   </td><td>304553                     </td><td>306472                              </td><td>307402                               </td><td>304807                               </td><td>307142                               </td><td>307444                               </td><td>307053                              </td><td>304233                              </td><td>306634                              </td><td>306912                              </td><td>307399                              </td><td>306204                              </td><td>307487                              </td><td>304143                              </td><td>306914                       </td><td>300631                          </td><td>307206                            </td><td>296318                      </td><td>304877                      </td><td>307194                    </td><td>290828                   </td><td>305170                    </td><td>305354                    </td><td>307115                     </td><td>307426                      </td><td>305700                        </td><td>298618                    </td><td>304264                      </td><td>305537                                 </td><td>269099                           </td><td>305936                      </td><td>306934                     </td><td>307163                           </td><td>305611                           </td><td>304019                           </td><td>307447                           </td><td>307462                           </td><td>306880                           </td><td>299680                           </td><td>307310                               </td><td>305307                               </td><td>306324                               </td><td>302113                               </td><td>306184                        </td><td>252137                 </td></tr>\n",
              "<tr><td>missing</td><td>0                 </td><td>0                  </td><td>0                 </td><td>0                 </td><td>0                </td><td>0                           </td><td>0                  </td><td>0                 </td><td>0                  </td><td>0                  </td><td>0                    </td><td>0                  </td><td>0                 </td><td>0                  </td><td>0                  </td><td>0                 </td><td>0                     </td><td>0                            </td><td>0                        </td><td>0                           </td><td>0                           </td><td>0                            </td><td>0                       </td><td>0                       </td><td>0                        </td><td>0                     </td><td>0                 </td><td>0                    </td><td>0                   </td><td>0                 </td><td>0                     </td><td>0                  </td><td>0                  </td><td>0                    </td><td>0                   </td><td>0                    </td><td>0                   </td><td>0                    </td><td>0                    </td><td>0                   </td><td>0                    </td><td>0                   </td><td>0                    </td><td>0                    </td><td>0                    </td><td>0                              </td><td>0                                   </td><td>0                 </td><td>0                  </td><td>0                     </td><td>0                 </td><td>0                 </td><td>0                  </td><td>0                  </td><td>0                             </td><td>0                                      </td><td>0                                 </td><td>0                           </td><td>0                               </td><td>0                         </td><td>0                            </td><td>0                         </td><td>0                                    </td><td>0                                     </td><td>0                                      </td><td>0                                    </td><td>0                                                  </td><td>0                                  </td><td>0                           </td><td>0                             </td><td>0                                        </td><td>0                           </td><td>0                         </td><td>0                                  </td><td>0                                    </td><td>0                                      </td><td>0                                   </td><td>0                                   </td><td>0                               </td><td>0                                  </td><td>0                                  </td><td>0                                    </td><td>0                                  </td><td>0                                    </td><td>0                                   </td><td>0                                     </td><td>0                              </td><td>0                              </td><td>0                       </td><td>0                                         </td><td>0                                         </td><td>0                                         </td><td>0                           </td><td>0                               </td><td>0                          </td><td>0                              </td><td>0                            </td><td>0                             </td><td>0                        </td><td>0                          </td><td>0                                   </td><td>0                                    </td><td>0                                    </td><td>0                                    </td><td>0                                    </td><td>0                                   </td><td>0                                   </td><td>0                                   </td><td>0                                   </td><td>0                                   </td><td>0                                   </td><td>0                                   </td><td>0                                   </td><td>0                            </td><td>0                               </td><td>0                                 </td><td>0                           </td><td>0                           </td><td>0                         </td><td>0                        </td><td>0                         </td><td>0                         </td><td>0                          </td><td>0                           </td><td>0                             </td><td>0                         </td><td>0                           </td><td>0                                      </td><td>0                                </td><td>0                           </td><td>0                          </td><td>0                                </td><td>0                                </td><td>0                                </td><td>0                                </td><td>0                                </td><td>0                                </td><td>0                                </td><td>0                                    </td><td>0                                    </td><td>0                                    </td><td>0                                    </td><td>0                             </td><td>0                      </td></tr>\n",
              "<tr><td>0      </td><td>100002.0          </td><td>1.0                </td><td>0.0               </td><td>202500.0          </td><td>406597.5         </td><td>0.018801                    </td><td>-9461.0            </td><td>-637.0            </td><td>-3648.0            </td><td>-2120.0            </td><td>1.0                  </td><td>1.0                </td><td>0.0               </td><td>1.0                </td><td>1.0                </td><td>0.0               </td><td>2.0                   </td><td>2.0                          </td><td>10.0                     </td><td>0.0                         </td><td>0.0                         </td><td>0.0                          </td><td>0.0                     </td><td>0.0                     </td><td>0.0                      </td><td>0.0                   </td><td>1.0               </td><td>0.0                  </td><td>0.0                 </td><td>0.0               </td><td>0.0                   </td><td>0.0                </td><td>0.0                </td><td>0.0                  </td><td>0.0                 </td><td>0.0                  </td><td>0.0                 </td><td>0.0                  </td><td>0.0                  </td><td>0.0                 </td><td>0.0                  </td><td>0.0                 </td><td>0.0                  </td><td>0.0                  </td><td>0.0                  </td><td>1.0                            </td><td>0.0                                 </td><td>0.0               </td><td>1.0                </td><td>0.0                   </td><td>1.0               </td><td>0.0               </td><td>0.0                </td><td>1.0                </td><td>0.0                           </td><td>0.0                                    </td><td>0.0                               </td><td>0.0                         </td><td>0.0                             </td><td>0.0                       </td><td>0.0                          </td><td>1.0                       </td><td>0.0                                  </td><td>0.0                                   </td><td>0.0                                    </td><td>0.0                                  </td><td>1.0                                                </td><td>0.0                                </td><td>0.0                         </td><td>0.0                           </td><td>1.0                                      </td><td>0.0                         </td><td>0.0                       </td><td>0.0                                </td><td>1.0                                  </td><td>0.0                                    </td><td>0.0                                 </td><td>0.0                                 </td><td>0.0                             </td><td>0.0                                </td><td>0.0                                </td><td>0.0                                  </td><td>0.0                                </td><td>0.0                                  </td><td>0.0                                 </td><td>1.0                                   </td><td>0.0                            </td><td>0.0                            </td><td>0.0                     </td><td>0.0                                       </td><td>0.0                                       </td><td>1.0                                       </td><td>0.0                         </td><td>0.0                             </td><td>0.0                        </td><td>0.0                            </td><td>0.0                          </td><td>0.0                           </td><td>0.0                      </td><td>0.0                        </td><td>0.0                                 </td><td>0.0                                  </td><td>0.0                                  </td><td>0.0                                  </td><td>0.0                                  </td><td>0.0                                 </td><td>0.0                                 </td><td>0.0                                 </td><td>0.0                                 </td><td>0.0                                 </td><td>0.0                                 </td><td>0.0                                 </td><td>0.0                                 </td><td>0.0                          </td><td>0.0                             </td><td>0.0                               </td><td>0.0                         </td><td>0.0                         </td><td>0.0                       </td><td>0.0                      </td><td>0.0                       </td><td>0.0                       </td><td>0.0                        </td><td>0.0                         </td><td>0.0                           </td><td>0.0                       </td><td>0.0                         </td><td>0.0                                    </td><td>0.0                              </td><td>0.0                         </td><td>0.0                        </td><td>0.0                              </td><td>0.0                              </td><td>0.0                              </td><td>0.0                              </td><td>0.0                              </td><td>0.0                              </td><td>0.0                              </td><td>0.0                                  </td><td>0.0                                  </td><td>0.0                                  </td><td>0.0                                  </td><td>0.0                           </td><td>0.0                    </td></tr>\n",
              "<tr><td>1      </td><td>100003.0          </td><td>0.0                </td><td>0.0               </td><td>270000.0          </td><td>1293502.5        </td><td>0.003540999999999999        </td><td>-16765.0           </td><td>-1188.0           </td><td>-1186.0            </td><td>-291.0             </td><td>1.0                  </td><td>1.0                </td><td>0.0               </td><td>1.0                </td><td>1.0                </td><td>0.0               </td><td>1.0                   </td><td>1.0                          </td><td>11.0                     </td><td>0.0                         </td><td>0.0                         </td><td>0.0                          </td><td>0.0                     </td><td>0.0                     </td><td>0.0                      </td><td>0.0                   </td><td>1.0               </td><td>0.0                  </td><td>0.0                 </td><td>0.0               </td><td>0.0                   </td><td>0.0                </td><td>0.0                </td><td>0.0                  </td><td>0.0                 </td><td>0.0                  </td><td>0.0                 </td><td>0.0                  </td><td>0.0                  </td><td>0.0                 </td><td>0.0                  </td><td>0.0                 </td><td>0.0                  </td><td>0.0                  </td><td>0.0                  </td><td>1.0                            </td><td>0.0                                 </td><td>1.0               </td><td>0.0                </td><td>0.0                   </td><td>1.0               </td><td>0.0               </td><td>1.0                </td><td>0.0                </td><td>0.0                           </td><td>0.0                                    </td><td>0.0                               </td><td>0.0                         </td><td>1.0                             </td><td>0.0                       </td><td>0.0                          </td><td>0.0                       </td><td>0.0                                  </td><td>1.0                                   </td><td>0.0                                    </td><td>0.0                                  </td><td>0.0                                                </td><td>0.0                                </td><td>1.0                         </td><td>0.0                           </td><td>0.0                                      </td><td>0.0                         </td><td>0.0                       </td><td>0.0                                </td><td>1.0                                  </td><td>0.0                                    </td><td>0.0                                 </td><td>0.0                                 </td><td>0.0                             </td><td>0.0                                </td><td>1.0                                </td><td>0.0                                  </td><td>0.0                                </td><td>0.0                                  </td><td>0.0                                 </td><td>0.0                                   </td><td>0.0                            </td><td>0.0                            </td><td>0.0                     </td><td>0.0                                       </td><td>0.0                                       </td><td>0.0                                       </td><td>0.0                         </td><td>0.0                             </td><td>0.0                        </td><td>0.0                            </td><td>0.0                          </td><td>0.0                           </td><td>0.0                      </td><td>0.0                        </td><td>0.0                                 </td><td>0.0                                  </td><td>0.0                                  </td><td>0.0                                  </td><td>0.0                                  </td><td>0.0                                 </td><td>0.0                                 </td><td>0.0                                 </td><td>0.0                                 </td><td>0.0                                 </td><td>0.0                                 </td><td>0.0                                 </td><td>0.0                                 </td><td>0.0                          </td><td>0.0                             </td><td>0.0                               </td><td>0.0                         </td><td>0.0                         </td><td>0.0                       </td><td>0.0                      </td><td>0.0                       </td><td>0.0                       </td><td>0.0                        </td><td>0.0                         </td><td>0.0                           </td><td>1.0                       </td><td>0.0                         </td><td>0.0                                    </td><td>0.0                              </td><td>0.0                         </td><td>0.0                        </td><td>0.0                              </td><td>0.0                              </td><td>0.0                              </td><td>0.0                              </td><td>0.0                              </td><td>0.0                              </td><td>0.0                              </td><td>0.0                                  </td><td>0.0                                  </td><td>0.0                                  </td><td>0.0                                  </td><td>0.0                           </td><td>0.0                    </td></tr>\n",
              "<tr><td>2      </td><td>100004.0          </td><td>0.0                </td><td>0.0               </td><td>67500.0           </td><td>135000.0         </td><td>0.010032                    </td><td>-19046.0           </td><td>-225.0            </td><td>-4260.0            </td><td>-2531.0            </td><td>1.0                  </td><td>1.0                </td><td>1.0               </td><td>1.0                </td><td>1.0                </td><td>0.0               </td><td>2.0                   </td><td>2.0                          </td><td>9.0                      </td><td>0.0                         </td><td>0.0                         </td><td>0.0                          </td><td>0.0                     </td><td>0.0                     </td><td>0.0                      </td><td>0.0                   </td><td>0.0               </td><td>0.0                  </td><td>0.0                 </td><td>0.0               </td><td>0.0                   </td><td>0.0                </td><td>0.0                </td><td>0.0                  </td><td>0.0                 </td><td>0.0                  </td><td>0.0                 </td><td>0.0                  </td><td>0.0                  </td><td>0.0                 </td><td>0.0                  </td><td>0.0                 </td><td>0.0                  </td><td>0.0                  </td><td>0.0                  </td><td>0.0                            </td><td>1.0                                 </td><td>0.0               </td><td>1.0                </td><td>0.0                   </td><td>0.0               </td><td>1.0               </td><td>0.0                </td><td>1.0                </td><td>0.0                           </td><td>0.0                                    </td><td>0.0                               </td><td>0.0                         </td><td>0.0                             </td><td>0.0                       </td><td>0.0                          </td><td>1.0                       </td><td>0.0                                  </td><td>0.0                                   </td><td>0.0                                    </td><td>0.0                                  </td><td>1.0                                                </td><td>0.0                                </td><td>0.0                         </td><td>0.0                           </td><td>1.0                                      </td><td>0.0                         </td><td>0.0                       </td><td>0.0                                </td><td>1.0                                  </td><td>0.0                                    </td><td>0.0                                 </td><td>0.0                                 </td><td>0.0                             </td><td>0.0                                </td><td>1.0                                </td><td>0.0                                  </td><td>0.0                                </td><td>0.0                                  </td><td>0.0                                 </td><td>0.0                                   </td><td>0.0                            </td><td>0.0                            </td><td>0.0                     </td><td>0.0                                       </td><td>0.0                                       </td><td>0.0                                       </td><td>0.0                         </td><td>0.0                             </td><td>0.0                        </td><td>0.0                            </td><td>0.0                          </td><td>1.0                           </td><td>0.0                      </td><td>0.0                        </td><td>0.0                                 </td><td>0.0                                  </td><td>0.0                                  </td><td>0.0                                  </td><td>0.0                                  </td><td>0.0                                 </td><td>0.0                                 </td><td>0.0                                 </td><td>0.0                                 </td><td>0.0                                 </td><td>0.0                                 </td><td>0.0                                 </td><td>0.0                                 </td><td>0.0                          </td><td>0.0                             </td><td>0.0                               </td><td>0.0                         </td><td>0.0                         </td><td>0.0                       </td><td>0.0                      </td><td>0.0                       </td><td>0.0                       </td><td>0.0                        </td><td>0.0                         </td><td>0.0                           </td><td>0.0                       </td><td>0.0                         </td><td>0.0                                    </td><td>0.0                              </td><td>0.0                         </td><td>0.0                        </td><td>0.0                              </td><td>0.0                              </td><td>0.0                              </td><td>0.0                              </td><td>0.0                              </td><td>0.0                              </td><td>0.0                              </td><td>0.0                                  </td><td>0.0                                  </td><td>0.0                                  </td><td>0.0                                  </td><td>0.0                           </td><td>0.0                    </td></tr>\n",
              "<tr><td>3      </td><td>100006.0          </td><td>0.0                </td><td>0.0               </td><td>135000.0          </td><td>312682.5         </td><td>0.008019                    </td><td>-19005.0           </td><td>-3039.0           </td><td>-9833.0            </td><td>-2437.0            </td><td>1.0                  </td><td>1.0                </td><td>0.0               </td><td>1.0                </td><td>0.0                </td><td>0.0               </td><td>2.0                   </td><td>2.0                          </td><td>17.0                     </td><td>0.0                         </td><td>0.0                         </td><td>0.0                          </td><td>0.0                     </td><td>0.0                     </td><td>0.0                      </td><td>0.0                   </td><td>1.0               </td><td>0.0                  </td><td>0.0                 </td><td>0.0               </td><td>0.0                   </td><td>0.0                </td><td>0.0                </td><td>0.0                  </td><td>0.0                 </td><td>0.0                  </td><td>0.0                 </td><td>0.0                  </td><td>0.0                  </td><td>0.0                 </td><td>0.0                  </td><td>0.0                 </td><td>0.0                  </td><td>0.0                  </td><td>0.0                  </td><td>1.0                            </td><td>0.0                                 </td><td>1.0               </td><td>0.0                </td><td>0.0                   </td><td>1.0               </td><td>0.0               </td><td>0.0                </td><td>1.0                </td><td>0.0                           </td><td>0.0                                    </td><td>0.0                               </td><td>0.0                         </td><td>0.0                             </td><td>0.0                       </td><td>0.0                          </td><td>1.0                       </td><td>0.0                                  </td><td>0.0                                   </td><td>0.0                                    </td><td>0.0                                  </td><td>1.0                                                </td><td>1.0                                </td><td>0.0                         </td><td>0.0                           </td><td>0.0                                      </td><td>0.0                         </td><td>0.0                       </td><td>0.0                                </td><td>1.0                                  </td><td>0.0                                    </td><td>0.0                                 </td><td>0.0                                 </td><td>0.0                             </td><td>0.0                                </td><td>0.0                                </td><td>0.0                                  </td><td>0.0                                </td><td>0.0                                  </td><td>0.0                                 </td><td>1.0                                   </td><td>0.0                            </td><td>0.0                            </td><td>0.0                     </td><td>0.0                                       </td><td>0.0                                       </td><td>1.0                                       </td><td>0.0                         </td><td>0.0                             </td><td>0.0                        </td><td>0.0                            </td><td>0.0                          </td><td>0.0                           </td><td>0.0                      </td><td>0.0                        </td><td>0.0                                 </td><td>0.0                                  </td><td>0.0                                  </td><td>0.0                                  </td><td>0.0                                  </td><td>0.0                                 </td><td>0.0                                 </td><td>0.0                                 </td><td>0.0                                 </td><td>0.0                                 </td><td>0.0                                 </td><td>0.0                                 </td><td>0.0                                 </td><td>0.0                          </td><td>0.0                             </td><td>0.0                               </td><td>0.0                         </td><td>0.0                         </td><td>0.0                       </td><td>0.0                      </td><td>0.0                       </td><td>0.0                       </td><td>0.0                        </td><td>0.0                         </td><td>0.0                           </td><td>0.0                       </td><td>0.0                         </td><td>0.0                                    </td><td>0.0                              </td><td>0.0                         </td><td>0.0                        </td><td>0.0                              </td><td>0.0                              </td><td>0.0                              </td><td>0.0                              </td><td>0.0                              </td><td>0.0                              </td><td>0.0                              </td><td>0.0                                  </td><td>0.0                                  </td><td>0.0                                  </td><td>0.0                                  </td><td>0.0                           </td><td>0.0                    </td></tr>\n",
              "<tr><td>4      </td><td>100007.0          </td><td>0.0                </td><td>0.0               </td><td>121500.0          </td><td>513000.0         </td><td>0.028663                    </td><td>-19932.0           </td><td>-3038.0           </td><td>-4311.0            </td><td>-3458.0            </td><td>1.0                  </td><td>1.0                </td><td>0.0               </td><td>1.0                </td><td>0.0                </td><td>0.0               </td><td>2.0                   </td><td>2.0                          </td><td>11.0                     </td><td>0.0                         </td><td>0.0                         </td><td>0.0                          </td><td>0.0                     </td><td>1.0                     </td><td>1.0                      </td><td>0.0                   </td><td>0.0               </td><td>0.0                  </td><td>0.0                 </td><td>0.0               </td><td>0.0                   </td><td>1.0                </td><td>0.0                </td><td>0.0                  </td><td>0.0                 </td><td>0.0                  </td><td>0.0                 </td><td>0.0                  </td><td>0.0                  </td><td>0.0                 </td><td>0.0                  </td><td>0.0                 </td><td>0.0                  </td><td>0.0                  </td><td>0.0                  </td><td>1.0                            </td><td>0.0                                 </td><td>0.0               </td><td>1.0                </td><td>0.0                   </td><td>1.0               </td><td>0.0               </td><td>0.0                </td><td>1.0                </td><td>0.0                           </td><td>0.0                                    </td><td>0.0                               </td><td>0.0                         </td><td>0.0                             </td><td>0.0                       </td><td>0.0                          </td><td>1.0                       </td><td>0.0                                  </td><td>0.0                                   </td><td>0.0                                    </td><td>0.0                                  </td><td>1.0                                                </td><td>0.0                                </td><td>0.0                         </td><td>0.0                           </td><td>1.0                                      </td><td>0.0                         </td><td>0.0                       </td><td>0.0                                </td><td>1.0                                  </td><td>0.0                                    </td><td>0.0                                 </td><td>0.0                                 </td><td>0.0                             </td><td>0.0                                </td><td>0.0                                </td><td>0.0                                  </td><td>0.0                                </td><td>1.0                                  </td><td>0.0                                 </td><td>0.0                                   </td><td>0.0                            </td><td>0.0                            </td><td>0.0                     </td><td>0.0                                       </td><td>0.0                                       </td><td>0.0                                       </td><td>0.0                         </td><td>0.0                             </td><td>0.0                        </td><td>0.0                            </td><td>0.0                          </td><td>0.0                           </td><td>0.0                      </td><td>0.0                        </td><td>0.0                                 </td><td>0.0                                  </td><td>0.0                                  </td><td>0.0                                  </td><td>0.0                                  </td><td>0.0                                 </td><td>0.0                                 </td><td>0.0                                 </td><td>0.0                                 </td><td>0.0                                 </td><td>0.0                                 </td><td>0.0                                 </td><td>0.0                                 </td><td>0.0                          </td><td>0.0                             </td><td>0.0                               </td><td>0.0                         </td><td>0.0                         </td><td>0.0                       </td><td>0.0                      </td><td>0.0                       </td><td>0.0                       </td><td>0.0                        </td><td>1.0                         </td><td>0.0                           </td><td>0.0                       </td><td>0.0                         </td><td>0.0                                    </td><td>0.0                              </td><td>0.0                         </td><td>0.0                        </td><td>0.0                              </td><td>0.0                              </td><td>0.0                              </td><td>0.0                              </td><td>0.0                              </td><td>0.0                              </td><td>0.0                              </td><td>0.0                                  </td><td>0.0                                  </td><td>0.0                                  </td><td>0.0                                  </td><td>0.0                           </td><td>0.0                    </td></tr>\n",
              "<tr><td>5      </td><td>100008.0          </td><td>0.0                </td><td>0.0               </td><td>99000.0           </td><td>490495.5         </td><td>0.035792000000000004        </td><td>-16941.0           </td><td>-1588.0           </td><td>-4970.0            </td><td>-477.0             </td><td>1.0                  </td><td>1.0                </td><td>1.0               </td><td>1.0                </td><td>1.0                </td><td>0.0               </td><td>2.0                   </td><td>2.0                          </td><td>16.0                     </td><td>0.0                         </td><td>0.0                         </td><td>0.0                          </td><td>0.0                     </td><td>0.0                     </td><td>0.0                      </td><td>0.0                   </td><td>1.0               </td><td>0.0                  </td><td>0.0                 </td><td>0.0               </td><td>0.0                   </td><td>0.0                </td><td>0.0                </td><td>0.0                  </td><td>0.0                 </td><td>0.0                  </td><td>0.0                 </td><td>0.0                  </td><td>0.0                  </td><td>0.0                 </td><td>0.0                  </td><td>0.0                 </td><td>0.0                  </td><td>0.0                  </td><td>0.0                  </td><td>1.0                            </td><td>0.0                                 </td><td>0.0               </td><td>1.0                </td><td>0.0                   </td><td>1.0               </td><td>0.0               </td><td>0.0                </td><td>1.0                </td><td>0.0                           </td><td>0.0                                    </td><td>0.0                               </td><td>0.0                         </td><td>1.0                             </td><td>0.0                       </td><td>0.0                          </td><td>0.0                       </td><td>0.0                                  </td><td>0.0                                   </td><td>0.0                                    </td><td>0.0                                  </td><td>1.0                                                </td><td>0.0                                </td><td>1.0                         </td><td>0.0                           </td><td>0.0                                      </td><td>0.0                         </td><td>0.0                       </td><td>0.0                                </td><td>1.0                                  </td><td>0.0                                    </td><td>0.0                                 </td><td>0.0                                 </td><td>0.0                             </td><td>0.0                                </td><td>0.0                                </td><td>0.0                                  </td><td>0.0                                </td><td>0.0                                  </td><td>0.0                                 </td><td>1.0                                   </td><td>0.0                            </td><td>0.0                            </td><td>0.0                     </td><td>0.0                                       </td><td>0.0                                       </td><td>0.0                                       </td><td>0.0                         </td><td>0.0                             </td><td>0.0                        </td><td>0.0                            </td><td>0.0                          </td><td>0.0                           </td><td>0.0                      </td><td>0.0                        </td><td>0.0                                 </td><td>0.0                                  </td><td>0.0                                  </td><td>0.0                                  </td><td>0.0                                  </td><td>0.0                                 </td><td>0.0                                 </td><td>0.0                                 </td><td>0.0                                 </td><td>0.0                                 </td><td>0.0                                 </td><td>0.0                                 </td><td>0.0                                 </td><td>0.0                          </td><td>0.0                             </td><td>0.0                               </td><td>0.0                         </td><td>0.0                         </td><td>0.0                       </td><td>1.0                      </td><td>0.0                       </td><td>0.0                       </td><td>0.0                        </td><td>0.0                         </td><td>0.0                           </td><td>0.0                       </td><td>0.0                         </td><td>0.0                                    </td><td>0.0                              </td><td>0.0                         </td><td>0.0                        </td><td>0.0                              </td><td>0.0                              </td><td>0.0                              </td><td>0.0                              </td><td>0.0                              </td><td>0.0                              </td><td>0.0                              </td><td>0.0                                  </td><td>0.0                                  </td><td>0.0                                  </td><td>0.0                                  </td><td>0.0                           </td><td>0.0                    </td></tr>\n",
              "<tr><td>6      </td><td>100009.0          </td><td>0.0                </td><td>1.0               </td><td>171000.0          </td><td>1560726.0        </td><td>0.035792000000000004        </td><td>-13778.0           </td><td>-3130.0           </td><td>-1213.0            </td><td>-619.0             </td><td>1.0                  </td><td>1.0                </td><td>0.0               </td><td>1.0                </td><td>1.0                </td><td>0.0               </td><td>2.0                   </td><td>2.0                          </td><td>16.0                     </td><td>0.0                         </td><td>0.0                         </td><td>0.0                          </td><td>0.0                     </td><td>0.0                     </td><td>0.0                      </td><td>0.0                   </td><td>0.0               </td><td>0.0                  </td><td>0.0                 </td><td>0.0               </td><td>0.0                   </td><td>1.0                </td><td>0.0                </td><td>0.0                  </td><td>0.0                 </td><td>0.0                  </td><td>0.0                 </td><td>1.0                  </td><td>0.0                  </td><td>0.0                 </td><td>0.0                  </td><td>0.0                 </td><td>0.0                  </td><td>0.0                  </td><td>0.0                  </td><td>1.0                            </td><td>0.0                                 </td><td>1.0               </td><td>0.0                </td><td>0.0                   </td><td>0.0               </td><td>1.0               </td><td>0.0                </td><td>1.0                </td><td>0.0                           </td><td>1.0                                    </td><td>0.0                               </td><td>0.0                         </td><td>0.0                             </td><td>0.0                       </td><td>0.0                          </td><td>0.0                       </td><td>0.0                                  </td><td>1.0                                   </td><td>0.0                                    </td><td>0.0                                  </td><td>0.0                                                </td><td>0.0                                </td><td>1.0                         </td><td>0.0                           </td><td>0.0                                      </td><td>0.0                         </td><td>0.0                       </td><td>0.0                                </td><td>1.0                                  </td><td>0.0                                    </td><td>0.0                                 </td><td>0.0                                 </td><td>0.0                             </td><td>0.0                                </td><td>0.0                                </td><td>0.0                                  </td><td>1.0                                </td><td>0.0                                  </td><td>0.0                                 </td><td>0.0                                   </td><td>0.0                            </td><td>0.0                            </td><td>0.0                     </td><td>0.0                                       </td><td>0.0                                       </td><td>1.0                                       </td><td>0.0                         </td><td>0.0                             </td><td>0.0                        </td><td>0.0                            </td><td>0.0                          </td><td>0.0                           </td><td>0.0                      </td><td>0.0                        </td><td>0.0                                 </td><td>0.0                                  </td><td>0.0                                  </td><td>0.0                                  </td><td>0.0                                  </td><td>0.0                                 </td><td>0.0                                 </td><td>0.0                                 </td><td>0.0                                 </td><td>0.0                                 </td><td>0.0                                 </td><td>0.0                                 </td><td>0.0                                 </td><td>0.0                          </td><td>0.0                             </td><td>0.0                               </td><td>0.0                         </td><td>0.0                         </td><td>0.0                       </td><td>0.0                      </td><td>0.0                       </td><td>0.0                       </td><td>0.0                        </td><td>0.0                         </td><td>0.0                           </td><td>0.0                       </td><td>0.0                         </td><td>0.0                                    </td><td>0.0                              </td><td>0.0                         </td><td>0.0                        </td><td>0.0                              </td><td>0.0                              </td><td>0.0                              </td><td>0.0                              </td><td>0.0                              </td><td>0.0                              </td><td>0.0                              </td><td>0.0                                  </td><td>0.0                                  </td><td>0.0                                  </td><td>0.0                                  </td><td>0.0                           </td><td>0.0                    </td></tr>\n",
              "<tr><td>7      </td><td>100010.0          </td><td>0.0                </td><td>0.0               </td><td>360000.0          </td><td>1530000.0        </td><td>0.003122                    </td><td>-18850.0           </td><td>-449.0            </td><td>-4597.0            </td><td>-2379.0            </td><td>1.0                  </td><td>1.0                </td><td>1.0               </td><td>1.0                </td><td>0.0                </td><td>0.0               </td><td>3.0                   </td><td>3.0                          </td><td>16.0                     </td><td>0.0                         </td><td>0.0                         </td><td>0.0                          </td><td>0.0                     </td><td>1.0                     </td><td>1.0                      </td><td>0.0                   </td><td>1.0               </td><td>0.0                  </td><td>0.0                 </td><td>0.0               </td><td>0.0                   </td><td>0.0                </td><td>0.0                </td><td>0.0                  </td><td>0.0                 </td><td>0.0                  </td><td>0.0                 </td><td>0.0                  </td><td>0.0                  </td><td>0.0                 </td><td>0.0                  </td><td>0.0                 </td><td>0.0                  </td><td>0.0                  </td><td>0.0                  </td><td>1.0                            </td><td>0.0                                 </td><td>0.0               </td><td>1.0                </td><td>0.0                   </td><td>0.0               </td><td>1.0               </td><td>0.0                </td><td>1.0                </td><td>0.0                           </td><td>0.0                                    </td><td>0.0                               </td><td>0.0                         </td><td>1.0                             </td><td>0.0                       </td><td>0.0                          </td><td>0.0                       </td><td>0.0                                  </td><td>1.0                                   </td><td>0.0                                    </td><td>0.0                                  </td><td>0.0                                                </td><td>0.0                                </td><td>1.0                         </td><td>0.0                           </td><td>0.0                                      </td><td>0.0                         </td><td>0.0                       </td><td>0.0                                </td><td>1.0                                  </td><td>0.0                                    </td><td>0.0                                 </td><td>0.0                                 </td><td>0.0                             </td><td>0.0                                </td><td>1.0                                </td><td>0.0                                  </td><td>0.0                                </td><td>0.0                                  </td><td>0.0                                 </td><td>0.0                                   </td><td>0.0                            </td><td>0.0                            </td><td>0.0                     </td><td>0.0                                       </td><td>0.0                                       </td><td>0.0                                       </td><td>0.0                         </td><td>0.0                             </td><td>0.0                        </td><td>0.0                            </td><td>0.0                          </td><td>0.0                           </td><td>0.0                      </td><td>0.0                        </td><td>0.0                                 </td><td>0.0                                  </td><td>0.0                                  </td><td>0.0                                  </td><td>0.0                                  </td><td>0.0                                 </td><td>0.0                                 </td><td>0.0                                 </td><td>0.0                                 </td><td>0.0                                 </td><td>0.0                                 </td><td>0.0                                 </td><td>0.0                                 </td><td>0.0                          </td><td>0.0                             </td><td>0.0                               </td><td>0.0                         </td><td>0.0                         </td><td>0.0                       </td><td>1.0                      </td><td>0.0                       </td><td>0.0                       </td><td>0.0                        </td><td>0.0                         </td><td>0.0                           </td><td>0.0                       </td><td>0.0                         </td><td>0.0                                    </td><td>0.0                              </td><td>0.0                         </td><td>0.0                        </td><td>0.0                              </td><td>0.0                              </td><td>0.0                              </td><td>0.0                              </td><td>0.0                              </td><td>0.0                              </td><td>0.0                              </td><td>0.0                                  </td><td>0.0                                  </td><td>0.0                                  </td><td>0.0                                  </td><td>0.0                           </td><td>0.0                    </td></tr>\n",
              "<tr><td>8      </td><td>100011.0          </td><td>0.0                </td><td>0.0               </td><td>112500.0          </td><td>1019610.0        </td><td>0.018634                    </td><td>-20099.0           </td><td>365243.0          </td><td>-7427.0            </td><td>-3514.0            </td><td>1.0                  </td><td>0.0                </td><td>0.0               </td><td>1.0                </td><td>0.0                </td><td>0.0               </td><td>2.0                   </td><td>2.0                          </td><td>14.0                     </td><td>0.0                         </td><td>0.0                         </td><td>0.0                          </td><td>0.0                     </td><td>0.0                     </td><td>0.0                      </td><td>0.0                   </td><td>1.0               </td><td>0.0                  </td><td>0.0                 </td><td>0.0               </td><td>0.0                   </td><td>0.0                </td><td>0.0                </td><td>0.0                  </td><td>0.0                 </td><td>0.0                  </td><td>0.0                 </td><td>0.0                  </td><td>0.0                  </td><td>0.0                 </td><td>0.0                  </td><td>0.0                 </td><td>0.0                  </td><td>0.0                  </td><td>0.0                  </td><td>1.0                            </td><td>0.0                                 </td><td>1.0               </td><td>0.0                </td><td>0.0                   </td><td>1.0               </td><td>0.0               </td><td>0.0                </td><td>1.0                </td><td>0.0                           </td><td>0.0                                    </td><td>0.0                               </td><td>1.0                         </td><td>0.0                             </td><td>0.0                       </td><td>0.0                          </td><td>0.0                       </td><td>0.0                                  </td><td>0.0                                   </td><td>0.0                                    </td><td>0.0                                  </td><td>1.0                                                </td><td>0.0                                </td><td>1.0                         </td><td>0.0                           </td><td>0.0                                      </td><td>0.0                         </td><td>0.0                       </td><td>0.0                                </td><td>1.0                                  </td><td>0.0                                    </td><td>0.0                                 </td><td>0.0                                 </td><td>0.0                             </td><td>0.0                                </td><td>0.0                                </td><td>0.0                                  </td><td>0.0                                </td><td>0.0                                  </td><td>0.0                                 </td><td>1.0                                   </td><td>0.0                            </td><td>0.0                            </td><td>0.0                     </td><td>0.0                                       </td><td>0.0                                       </td><td>0.0                                       </td><td>0.0                         </td><td>0.0                             </td><td>0.0                        </td><td>0.0                            </td><td>0.0                          </td><td>0.0                           </td><td>0.0                      </td><td>0.0                        </td><td>0.0                                 </td><td>0.0                                  </td><td>0.0                                  </td><td>0.0                                  </td><td>0.0                                  </td><td>0.0                                 </td><td>0.0                                 </td><td>0.0                                 </td><td>0.0                                 </td><td>0.0                                 </td><td>0.0                                 </td><td>0.0                                 </td><td>0.0                                 </td><td>0.0                          </td><td>0.0                             </td><td>0.0                               </td><td>0.0                         </td><td>0.0                         </td><td>0.0                       </td><td>0.0                      </td><td>0.0                       </td><td>0.0                       </td><td>0.0                        </td><td>0.0                         </td><td>0.0                           </td><td>0.0                       </td><td>0.0                         </td><td>0.0                                    </td><td>0.0                              </td><td>0.0                         </td><td>0.0                        </td><td>0.0                              </td><td>0.0                              </td><td>0.0                              </td><td>0.0                              </td><td>0.0                              </td><td>0.0                              </td><td>0.0                              </td><td>0.0                                  </td><td>0.0                                  </td><td>0.0                                  </td><td>0.0                                  </td><td>0.0                           </td><td>1.0                    </td></tr>\n",
              "<tr><td>9      </td><td>100012.0          </td><td>0.0                </td><td>0.0               </td><td>135000.0          </td><td>405000.0         </td><td>0.019689                    </td><td>-14469.0           </td><td>-2019.0           </td><td>-14437.0           </td><td>-3992.0            </td><td>1.0                  </td><td>1.0                </td><td>0.0               </td><td>1.0                </td><td>0.0                </td><td>0.0               </td><td>2.0                   </td><td>2.0                          </td><td>8.0                      </td><td>0.0                         </td><td>0.0                         </td><td>0.0                          </td><td>0.0                     </td><td>0.0                     </td><td>0.0                      </td><td>0.0                   </td><td>0.0               </td><td>0.0                  </td><td>0.0                 </td><td>0.0               </td><td>0.0                   </td><td>0.0                </td><td>0.0                </td><td>0.0                  </td><td>0.0                 </td><td>0.0                  </td><td>0.0                 </td><td>0.0                  </td><td>0.0                  </td><td>0.0                 </td><td>0.0                  </td><td>0.0                 </td><td>0.0                  </td><td>0.0                  </td><td>0.0                  </td><td>0.0                            </td><td>1.0                                 </td><td>0.0               </td><td>1.0                </td><td>0.0                   </td><td>1.0               </td><td>0.0               </td><td>0.0                </td><td>1.0                </td><td>0.0                           </td><td>0.0                                    </td><td>0.0                               </td><td>0.0                         </td><td>0.0                             </td><td>0.0                       </td><td>0.0                          </td><td>1.0                       </td><td>0.0                                  </td><td>0.0                                   </td><td>0.0                                    </td><td>0.0                                  </td><td>1.0                                                </td><td>0.0                                </td><td>0.0                         </td><td>0.0                           </td><td>1.0                                      </td><td>0.0                         </td><td>0.0                       </td><td>0.0                                </td><td>1.0                                  </td><td>0.0                                    </td><td>0.0                                 </td><td>0.0                                 </td><td>0.0                             </td><td>0.0                                </td><td>0.0                                </td><td>0.0                                  </td><td>0.0                                </td><td>1.0                                  </td><td>0.0                                 </td><td>0.0                                   </td><td>0.0                            </td><td>0.0                            </td><td>0.0                     </td><td>0.0                                       </td><td>0.0                                       </td><td>0.0                                       </td><td>0.0                         </td><td>0.0                             </td><td>0.0                        </td><td>1.0                            </td><td>0.0                          </td><td>0.0                           </td><td>0.0                      </td><td>0.0                        </td><td>0.0                                 </td><td>0.0                                  </td><td>0.0                                  </td><td>0.0                                  </td><td>0.0                                  </td><td>0.0                                 </td><td>0.0                                 </td><td>0.0                                 </td><td>0.0                                 </td><td>0.0                                 </td><td>0.0                                 </td><td>0.0                                 </td><td>0.0                                 </td><td>0.0                          </td><td>0.0                             </td><td>0.0                               </td><td>0.0                         </td><td>0.0                         </td><td>0.0                       </td><td>0.0                      </td><td>0.0                       </td><td>0.0                       </td><td>0.0                        </td><td>0.0                         </td><td>0.0                           </td><td>0.0                       </td><td>0.0                         </td><td>0.0                                    </td><td>0.0                              </td><td>0.0                         </td><td>0.0                        </td><td>0.0                              </td><td>0.0                              </td><td>0.0                              </td><td>0.0                              </td><td>0.0                              </td><td>0.0                              </td><td>0.0                              </td><td>0.0                                  </td><td>0.0                                  </td><td>0.0                                  </td><td>0.0                                  </td><td>0.0                           </td><td>0.0                    </td></tr>\n",
              "</tbody>\n",
              "</table>"
            ]
          },
          "metadata": {
            "tags": []
          }
        },
        {
          "output_type": "execute_result",
          "data": {
            "text/plain": [
              "['SK_ID_CURR',\n",
              " 'TARGET',\n",
              " 'CNT_CHILDREN',\n",
              " 'AMT_INCOME_TOTAL',\n",
              " 'AMT_CREDIT',\n",
              " 'REGION_POPULATION_RELATIVE',\n",
              " 'DAYS_BIRTH',\n",
              " 'DAYS_EMPLOYED',\n",
              " 'DAYS_REGISTRATION',\n",
              " 'DAYS_ID_PUBLISH',\n",
              " 'FLAG_MOBIL',\n",
              " 'FLAG_EMP_PHONE',\n",
              " 'FLAG_WORK_PHONE',\n",
              " 'FLAG_CONT_MOBILE',\n",
              " 'FLAG_PHONE',\n",
              " 'FLAG_EMAIL',\n",
              " 'REGION_RATING_CLIENT',\n",
              " 'REGION_RATING_CLIENT_W_CITY',\n",
              " 'HOUR_APPR_PROCESS_START',\n",
              " 'REG_REGION_NOT_LIVE_REGION',\n",
              " 'REG_REGION_NOT_WORK_REGION',\n",
              " 'LIVE_REGION_NOT_WORK_REGION',\n",
              " 'REG_CITY_NOT_LIVE_CITY',\n",
              " 'REG_CITY_NOT_WORK_CITY',\n",
              " 'LIVE_CITY_NOT_WORK_CITY',\n",
              " 'FLAG_DOCUMENT_2',\n",
              " 'FLAG_DOCUMENT_3',\n",
              " 'FLAG_DOCUMENT_4',\n",
              " 'FLAG_DOCUMENT_5',\n",
              " 'FLAG_DOCUMENT_6',\n",
              " 'FLAG_DOCUMENT_7',\n",
              " 'FLAG_DOCUMENT_8',\n",
              " 'FLAG_DOCUMENT_9',\n",
              " 'FLAG_DOCUMENT_10',\n",
              " 'FLAG_DOCUMENT_11',\n",
              " 'FLAG_DOCUMENT_12',\n",
              " 'FLAG_DOCUMENT_13',\n",
              " 'FLAG_DOCUMENT_14',\n",
              " 'FLAG_DOCUMENT_15',\n",
              " 'FLAG_DOCUMENT_16',\n",
              " 'FLAG_DOCUMENT_17',\n",
              " 'FLAG_DOCUMENT_18',\n",
              " 'FLAG_DOCUMENT_19',\n",
              " 'FLAG_DOCUMENT_20',\n",
              " 'FLAG_DOCUMENT_21',\n",
              " 'NAME_CONTRACT_TYPE_Cash loans',\n",
              " 'NAME_CONTRACT_TYPE_Revolving loans',\n",
              " 'CODE_GENDER_F',\n",
              " 'CODE_GENDER_M',\n",
              " 'CODE_GENDER_XNA',\n",
              " 'FLAG_OWN_CAR_N',\n",
              " 'FLAG_OWN_CAR_Y',\n",
              " 'FLAG_OWN_REALTY_N',\n",
              " 'FLAG_OWN_REALTY_Y',\n",
              " 'NAME_INCOME_TYPE_Businessman',\n",
              " 'NAME_INCOME_TYPE_Commercial associate',\n",
              " 'NAME_INCOME_TYPE_Maternity leave',\n",
              " 'NAME_INCOME_TYPE_Pensioner',\n",
              " 'NAME_INCOME_TYPE_State servant',\n",
              " 'NAME_INCOME_TYPE_Student',\n",
              " 'NAME_INCOME_TYPE_Unemployed',\n",
              " 'NAME_INCOME_TYPE_Working',\n",
              " 'NAME_EDUCATION_TYPE_Academic degree',\n",
              " 'NAME_EDUCATION_TYPE_Higher education',\n",
              " 'NAME_EDUCATION_TYPE_Incomplete higher',\n",
              " 'NAME_EDUCATION_TYPE_Lower secondary',\n",
              " 'NAME_EDUCATION_TYPE_Secondary / secondary special',\n",
              " 'NAME_FAMILY_STATUS_Civil marriage',\n",
              " 'NAME_FAMILY_STATUS_Married',\n",
              " 'NAME_FAMILY_STATUS_Separated',\n",
              " 'NAME_FAMILY_STATUS_Single / not married',\n",
              " 'NAME_FAMILY_STATUS_Unknown',\n",
              " 'NAME_FAMILY_STATUS_Widow',\n",
              " 'NAME_HOUSING_TYPE_Co-op apartment',\n",
              " 'NAME_HOUSING_TYPE_House / apartment',\n",
              " 'NAME_HOUSING_TYPE_Municipal apartment',\n",
              " 'NAME_HOUSING_TYPE_Office apartment',\n",
              " 'NAME_HOUSING_TYPE_Rented apartment',\n",
              " 'NAME_HOUSING_TYPE_With parents',\n",
              " 'WEEKDAY_APPR_PROCESS_START_FRIDAY',\n",
              " 'WEEKDAY_APPR_PROCESS_START_MONDAY',\n",
              " 'WEEKDAY_APPR_PROCESS_START_SATURDAY',\n",
              " 'WEEKDAY_APPR_PROCESS_START_SUNDAY',\n",
              " 'WEEKDAY_APPR_PROCESS_START_THURSDAY',\n",
              " 'WEEKDAY_APPR_PROCESS_START_TUESDAY',\n",
              " 'WEEKDAY_APPR_PROCESS_START_WEDNESDAY',\n",
              " 'ORGANIZATION_TYPE_Advertising',\n",
              " 'ORGANIZATION_TYPE_Agriculture',\n",
              " 'ORGANIZATION_TYPE_Bank',\n",
              " 'ORGANIZATION_TYPE_Business Entity Type 1',\n",
              " 'ORGANIZATION_TYPE_Business Entity Type 2',\n",
              " 'ORGANIZATION_TYPE_Business Entity Type 3',\n",
              " 'ORGANIZATION_TYPE_Cleaning',\n",
              " 'ORGANIZATION_TYPE_Construction',\n",
              " 'ORGANIZATION_TYPE_Culture',\n",
              " 'ORGANIZATION_TYPE_Electricity',\n",
              " 'ORGANIZATION_TYPE_Emergency',\n",
              " 'ORGANIZATION_TYPE_Government',\n",
              " 'ORGANIZATION_TYPE_Hotel',\n",
              " 'ORGANIZATION_TYPE_Housing',\n",
              " 'ORGANIZATION_TYPE_Industry: type 1',\n",
              " 'ORGANIZATION_TYPE_Industry: type 10',\n",
              " 'ORGANIZATION_TYPE_Industry: type 11',\n",
              " 'ORGANIZATION_TYPE_Industry: type 12',\n",
              " 'ORGANIZATION_TYPE_Industry: type 13',\n",
              " 'ORGANIZATION_TYPE_Industry: type 2',\n",
              " 'ORGANIZATION_TYPE_Industry: type 3',\n",
              " 'ORGANIZATION_TYPE_Industry: type 4',\n",
              " 'ORGANIZATION_TYPE_Industry: type 5',\n",
              " 'ORGANIZATION_TYPE_Industry: type 6',\n",
              " 'ORGANIZATION_TYPE_Industry: type 7',\n",
              " 'ORGANIZATION_TYPE_Industry: type 8',\n",
              " 'ORGANIZATION_TYPE_Industry: type 9',\n",
              " 'ORGANIZATION_TYPE_Insurance',\n",
              " 'ORGANIZATION_TYPE_Kindergarten',\n",
              " 'ORGANIZATION_TYPE_Legal Services',\n",
              " 'ORGANIZATION_TYPE_Medicine',\n",
              " 'ORGANIZATION_TYPE_Military',\n",
              " 'ORGANIZATION_TYPE_Mobile',\n",
              " 'ORGANIZATION_TYPE_Other',\n",
              " 'ORGANIZATION_TYPE_Police',\n",
              " 'ORGANIZATION_TYPE_Postal',\n",
              " 'ORGANIZATION_TYPE_Realtor',\n",
              " 'ORGANIZATION_TYPE_Religion',\n",
              " 'ORGANIZATION_TYPE_Restaurant',\n",
              " 'ORGANIZATION_TYPE_School',\n",
              " 'ORGANIZATION_TYPE_Security',\n",
              " 'ORGANIZATION_TYPE_Security Ministries',\n",
              " 'ORGANIZATION_TYPE_Self-employed',\n",
              " 'ORGANIZATION_TYPE_Services',\n",
              " 'ORGANIZATION_TYPE_Telecom',\n",
              " 'ORGANIZATION_TYPE_Trade: type 1',\n",
              " 'ORGANIZATION_TYPE_Trade: type 2',\n",
              " 'ORGANIZATION_TYPE_Trade: type 3',\n",
              " 'ORGANIZATION_TYPE_Trade: type 4',\n",
              " 'ORGANIZATION_TYPE_Trade: type 5',\n",
              " 'ORGANIZATION_TYPE_Trade: type 6',\n",
              " 'ORGANIZATION_TYPE_Trade: type 7',\n",
              " 'ORGANIZATION_TYPE_Transport: type 1',\n",
              " 'ORGANIZATION_TYPE_Transport: type 2',\n",
              " 'ORGANIZATION_TYPE_Transport: type 3',\n",
              " 'ORGANIZATION_TYPE_Transport: type 4',\n",
              " 'ORGANIZATION_TYPE_University',\n",
              " 'ORGANIZATION_TYPE_XNA']"
            ]
          },
          "metadata": {
            "tags": []
          },
          "execution_count": 36
        }
      ]
    },
    {
      "cell_type": "code",
      "metadata": {
        "id": "liDdQt5hHSxt",
        "colab_type": "code",
        "colab": {}
      },
      "source": [
        "y = \"TARGET\"\n",
        "x = df2.drop('TARGET')\n",
        "x=df2.col_names[0:144]"
      ],
      "execution_count": 0,
      "outputs": []
    },
    {
      "cell_type": "code",
      "metadata": {
        "id": "CDp_gG65XNOA",
        "colab_type": "code",
        "colab": {}
      },
      "source": [
        "df2[y] = df2[y].asfactor() "
      ],
      "execution_count": 0,
      "outputs": []
    },
    {
      "cell_type": "code",
      "metadata": {
        "id": "MpYDDRC5IHh-",
        "colab_type": "code",
        "colab": {
          "base_uri": "https://localhost:8080/",
          "height": 68
        },
        "outputId": "c2f85bd8-7c23-4708-a771-0e28606a89a1"
      },
      "source": [
        "train,  test = df2.split_frame(ratios=[.7])\n",
        "print(df2.shape)\n",
        "print(train.shape)\n",
        "#print(valid.shape)\n",
        "print(test.shape)"
      ],
      "execution_count": 85,
      "outputs": [
        {
          "output_type": "stream",
          "text": [
            "(307511, 144)\n",
            "(215024, 144)\n",
            "(92487, 144)\n"
          ],
          "name": "stdout"
        }
      ]
    },
    {
      "cell_type": "code",
      "metadata": {
        "id": "HzwGHEJ_IUC9",
        "colab_type": "code",
        "colab": {
          "base_uri": "https://localhost:8080/",
          "height": 34
        },
        "outputId": "85eabffa-be40-4b33-a950-f232684aaff2"
      },
      "source": [
        "from h2o.estimators import H2OGradientBoostingEstimator\n",
        "gbm=H2OGradientBoostingEstimator()\n",
        "gbm.train(x=x, y= y, training_frame=train)"
      ],
      "execution_count": 86,
      "outputs": [
        {
          "output_type": "stream",
          "text": [
            "gbm Model Build progress: |███████████████████████████████████████████████| 100%\n"
          ],
          "name": "stdout"
        }
      ]
    },
    {
      "cell_type": "code",
      "metadata": {
        "id": "4xYvawGXILuu",
        "colab_type": "code",
        "colab": {
          "base_uri": "https://localhost:8080/",
          "height": 34
        },
        "outputId": "83343b27-fe43-43ec-c8b8-20903b2f0abc"
      },
      "source": [
        "y_pred = gbm.predict(test_data=test)"
      ],
      "execution_count": 87,
      "outputs": [
        {
          "output_type": "stream",
          "text": [
            "gbm prediction progress: |████████████████████████████████████████████████| 100%\n"
          ],
          "name": "stdout"
        }
      ]
    },
    {
      "cell_type": "code",
      "metadata": {
        "id": "3AKTDk-fMClM",
        "colab_type": "code",
        "colab": {
          "base_uri": "https://localhost:8080/",
          "height": 1000
        },
        "outputId": "93ca2e95-0cae-4bef-d834-1703753ed4d7"
      },
      "source": [
        "print(gbm)"
      ],
      "execution_count": 88,
      "outputs": [
        {
          "output_type": "stream",
          "text": [
            "Model Details\n",
            "=============\n",
            "H2OGradientBoostingEstimator :  Gradient Boosting Machine\n",
            "Model Key:  GBM_model_python_1563446625009_3\n",
            "\n",
            "Model Summary: \n"
          ],
          "name": "stdout"
        },
        {
          "output_type": "display_data",
          "data": {
            "text/html": [
              "<div style=\"overflow:auto\"><table style=\"width:50%\"><tr><td><b></b></td>\n",
              "<td><b>number_of_trees</b></td>\n",
              "<td><b>number_of_internal_trees</b></td>\n",
              "<td><b>model_size_in_bytes</b></td>\n",
              "<td><b>min_depth</b></td>\n",
              "<td><b>max_depth</b></td>\n",
              "<td><b>mean_depth</b></td>\n",
              "<td><b>min_leaves</b></td>\n",
              "<td><b>max_leaves</b></td>\n",
              "<td><b>mean_leaves</b></td></tr>\n",
              "<tr><td></td>\n",
              "<td>50.0</td>\n",
              "<td>50.0</td>\n",
              "<td>21858.0</td>\n",
              "<td>5.0</td>\n",
              "<td>5.0</td>\n",
              "<td>5.0</td>\n",
              "<td>23.0</td>\n",
              "<td>32.0</td>\n",
              "<td>30.1</td></tr></table></div>"
            ],
            "text/plain": [
              "    number_of_trees    number_of_internal_trees    model_size_in_bytes    min_depth    max_depth    mean_depth    min_leaves    max_leaves    mean_leaves\n",
              "--  -----------------  --------------------------  ---------------------  -----------  -----------  ------------  ------------  ------------  -------------\n",
              "    50                 50                          21858                  5            5            5             23            32            30.1"
            ]
          },
          "metadata": {
            "tags": []
          }
        },
        {
          "output_type": "stream",
          "text": [
            "\n",
            "\n",
            "ModelMetricsBinomial: gbm\n",
            "** Reported on train data. **\n",
            "\n",
            "MSE: 0.07033400732183732\n",
            "RMSE: 0.2652055944391772\n",
            "LogLoss: 0.2600374653192905\n",
            "Mean Per-Class Error: 0.3532420453299675\n",
            "AUC: 0.6986463477196281\n",
            "pr_auc: 0.18123282844168298\n",
            "Gini: 0.39729269543925616\n",
            "Confusion Matrix (Act/Pred) for max f1 @ threshold = 0.11557232511922763: \n"
          ],
          "name": "stdout"
        },
        {
          "output_type": "display_data",
          "data": {
            "text/html": [
              "<div style=\"overflow:auto\"><table style=\"width:50%\"><tr><td><b></b></td>\n",
              "<td><b>0</b></td>\n",
              "<td><b>1</b></td>\n",
              "<td><b>Error</b></td>\n",
              "<td><b>Rate</b></td></tr>\n",
              "<tr><td>0</td>\n",
              "<td>167583.0</td>\n",
              "<td>30265.0</td>\n",
              "<td>0.153</td>\n",
              "<td> (30265.0/197848.0)</td></tr>\n",
              "<tr><td>1</td>\n",
              "<td>10506.0</td>\n",
              "<td>6670.0</td>\n",
              "<td>0.6117</td>\n",
              "<td> (10506.0/17176.0)</td></tr>\n",
              "<tr><td>Total</td>\n",
              "<td>178089.0</td>\n",
              "<td>36935.0</td>\n",
              "<td>0.1896</td>\n",
              "<td> (40771.0/215024.0)</td></tr></table></div>"
            ],
            "text/plain": [
              "       0       1      Error    Rate\n",
              "-----  ------  -----  -------  ------------------\n",
              "0      167583  30265  0.153    (30265.0/197848.0)\n",
              "1      10506   6670   0.6117   (10506.0/17176.0)\n",
              "Total  178089  36935  0.1896   (40771.0/215024.0)"
            ]
          },
          "metadata": {
            "tags": []
          }
        },
        {
          "output_type": "stream",
          "text": [
            "Maximum Metrics: Maximum metrics at their respective thresholds\n",
            "\n"
          ],
          "name": "stdout"
        },
        {
          "output_type": "display_data",
          "data": {
            "text/html": [
              "<div style=\"overflow:auto\"><table style=\"width:50%\"><tr><td><b>metric</b></td>\n",
              "<td><b>threshold</b></td>\n",
              "<td><b>value</b></td>\n",
              "<td><b>idx</b></td></tr>\n",
              "<tr><td>max f1</td>\n",
              "<td>0.1155723</td>\n",
              "<td>0.2465303</td>\n",
              "<td>188.0</td></tr>\n",
              "<tr><td>max f2</td>\n",
              "<td>0.0735342</td>\n",
              "<td>0.3714412</td>\n",
              "<td>271.0</td></tr>\n",
              "<tr><td>max f0point5</td>\n",
              "<td>0.1613487</td>\n",
              "<td>0.2279166</td>\n",
              "<td>120.0</td></tr>\n",
              "<tr><td>max accuracy</td>\n",
              "<td>0.3590791</td>\n",
              "<td>0.9202136</td>\n",
              "<td>10.0</td></tr>\n",
              "<tr><td>max precision</td>\n",
              "<td>0.5089417</td>\n",
              "<td>1.0</td>\n",
              "<td>0.0</td></tr>\n",
              "<tr><td>max recall</td>\n",
              "<td>0.0202229</td>\n",
              "<td>1.0</td>\n",
              "<td>395.0</td></tr>\n",
              "<tr><td>max specificity</td>\n",
              "<td>0.5089417</td>\n",
              "<td>1.0</td>\n",
              "<td>0.0</td></tr>\n",
              "<tr><td>max absolute_mcc</td>\n",
              "<td>0.1041431</td>\n",
              "<td>0.1712264</td>\n",
              "<td>208.0</td></tr>\n",
              "<tr><td>max min_per_class_accuracy</td>\n",
              "<td>0.0802808</td>\n",
              "<td>0.6449697</td>\n",
              "<td>255.0</td></tr>\n",
              "<tr><td>max mean_per_class_accuracy</td>\n",
              "<td>0.0793848</td>\n",
              "<td>0.6467580</td>\n",
              "<td>257.0</td></tr></table></div>"
            ],
            "text/plain": [
              "metric                       threshold    value     idx\n",
              "---------------------------  -----------  --------  -----\n",
              "max f1                       0.115572     0.24653   188\n",
              "max f2                       0.0735342    0.371441  271\n",
              "max f0point5                 0.161349     0.227917  120\n",
              "max accuracy                 0.359079     0.920214  10\n",
              "max precision                0.508942     1         0\n",
              "max recall                   0.0202229    1         395\n",
              "max specificity              0.508942     1         0\n",
              "max absolute_mcc             0.104143     0.171226  208\n",
              "max min_per_class_accuracy   0.0802808    0.64497   255\n",
              "max mean_per_class_accuracy  0.0793848    0.646758  257"
            ]
          },
          "metadata": {
            "tags": []
          }
        },
        {
          "output_type": "stream",
          "text": [
            "Gains/Lift Table: Avg response rate:  7.99 %, avg score:  7.99 %\n",
            "\n"
          ],
          "name": "stdout"
        },
        {
          "output_type": "display_data",
          "data": {
            "text/html": [
              "<div style=\"overflow:auto\"><table style=\"width:50%\"><tr><td><b></b></td>\n",
              "<td><b>group</b></td>\n",
              "<td><b>cumulative_data_fraction</b></td>\n",
              "<td><b>lower_threshold</b></td>\n",
              "<td><b>lift</b></td>\n",
              "<td><b>cumulative_lift</b></td>\n",
              "<td><b>response_rate</b></td>\n",
              "<td><b>score</b></td>\n",
              "<td><b>cumulative_response_rate</b></td>\n",
              "<td><b>cumulative_score</b></td>\n",
              "<td><b>capture_rate</b></td>\n",
              "<td><b>cumulative_capture_rate</b></td>\n",
              "<td><b>gain</b></td>\n",
              "<td><b>cumulative_gain</b></td></tr>\n",
              "<tr><td></td>\n",
              "<td>1</td>\n",
              "<td>0.0100035</td>\n",
              "<td>0.2298348</td>\n",
              "<td>4.3650152</td>\n",
              "<td>4.3650152</td>\n",
              "<td>0.3486750</td>\n",
              "<td>0.2662538</td>\n",
              "<td>0.3486750</td>\n",
              "<td>0.2662538</td>\n",
              "<td>0.0436656</td>\n",
              "<td>0.0436656</td>\n",
              "<td>336.5015178</td>\n",
              "<td>336.5015178</td></tr>\n",
              "<tr><td></td>\n",
              "<td>2</td>\n",
              "<td>0.0200024</td>\n",
              "<td>0.2037382</td>\n",
              "<td>3.4878136</td>\n",
              "<td>3.9265164</td>\n",
              "<td>0.2786047</td>\n",
              "<td>0.2150707</td>\n",
              "<td>0.3136480</td>\n",
              "<td>0.2406682</td>\n",
              "<td>0.0348742</td>\n",
              "<td>0.0785398</td>\n",
              "<td>248.7813607</td>\n",
              "<td>292.6516369</td></tr>\n",
              "<tr><td></td>\n",
              "<td>3</td>\n",
              "<td>0.0300013</td>\n",
              "<td>0.1876831</td>\n",
              "<td>2.8997182</td>\n",
              "<td>3.5843034</td>\n",
              "<td>0.2316279</td>\n",
              "<td>0.1952652</td>\n",
              "<td>0.2863122</td>\n",
              "<td>0.2255362</td>\n",
              "<td>0.0289939</td>\n",
              "<td>0.1075338</td>\n",
              "<td>189.9718157</td>\n",
              "<td>258.4303355</td></tr>\n",
              "<tr><td></td>\n",
              "<td>4</td>\n",
              "<td>0.0400002</td>\n",
              "<td>0.1758102</td>\n",
              "<td>2.6027591</td>\n",
              "<td>3.3389458</td>\n",
              "<td>0.2079070</td>\n",
              "<td>0.1813640</td>\n",
              "<td>0.2667132</td>\n",
              "<td>0.2144944</td>\n",
              "<td>0.0260247</td>\n",
              "<td>0.1335585</td>\n",
              "<td>160.2759069</td>\n",
              "<td>233.8945813</td></tr>\n",
              "<tr><td></td>\n",
              "<td>5</td>\n",
              "<td>0.0500037</td>\n",
              "<td>0.1670534</td>\n",
              "<td>2.4560485</td>\n",
              "<td>3.1623171</td>\n",
              "<td>0.1961878</td>\n",
              "<td>0.1713287</td>\n",
              "<td>0.2526042</td>\n",
              "<td>0.2058589</td>\n",
              "<td>0.0245692</td>\n",
              "<td>0.1581276</td>\n",
              "<td>145.6048540</td>\n",
              "<td>216.2317090</td></tr>\n",
              "<tr><td></td>\n",
              "<td>6</td>\n",
              "<td>0.1000028</td>\n",
              "<td>0.1390890</td>\n",
              "<td>2.1355777</td>\n",
              "<td>2.6489713</td>\n",
              "<td>0.1705888</td>\n",
              "<td>0.1515452</td>\n",
              "<td>0.2115984</td>\n",
              "<td>0.1787033</td>\n",
              "<td>0.1067769</td>\n",
              "<td>0.2649045</td>\n",
              "<td>113.5577687</td>\n",
              "<td>164.8971263</td></tr>\n",
              "<tr><td></td>\n",
              "<td>7</td>\n",
              "<td>0.1500019</td>\n",
              "<td>0.1212173</td>\n",
              "<td>1.7629578</td>\n",
              "<td>2.3536426</td>\n",
              "<td>0.1408241</td>\n",
              "<td>0.1296235</td>\n",
              "<td>0.1880077</td>\n",
              "<td>0.1623439</td>\n",
              "<td>0.0881463</td>\n",
              "<td>0.3530508</td>\n",
              "<td>76.2957807</td>\n",
              "<td>135.3642601</td></tr>\n",
              "<tr><td></td>\n",
              "<td>8</td>\n",
              "<td>0.2000009</td>\n",
              "<td>0.1085781</td>\n",
              "<td>1.5568524</td>\n",
              "<td>2.1544497</td>\n",
              "<td>0.1243605</td>\n",
              "<td>0.1146035</td>\n",
              "<td>0.1720963</td>\n",
              "<td>0.1504090</td>\n",
              "<td>0.0778412</td>\n",
              "<td>0.4308919</td>\n",
              "<td>55.6852436</td>\n",
              "<td>115.4449692</td></tr>\n",
              "<tr><td></td>\n",
              "<td>9</td>\n",
              "<td>0.2999991</td>\n",
              "<td>0.0902606</td>\n",
              "<td>1.3047518</td>\n",
              "<td>1.8712215</td>\n",
              "<td>0.1042229</td>\n",
              "<td>0.0988271</td>\n",
              "<td>0.1494722</td>\n",
              "<td>0.1332153</td>\n",
              "<td>0.1304728</td>\n",
              "<td>0.5613647</td>\n",
              "<td>30.4751799</td>\n",
              "<td>87.1221451</td></tr>\n",
              "<tr><td></td>\n",
              "<td>10</td>\n",
              "<td>0.4000019</td>\n",
              "<td>0.0772077</td>\n",
              "<td>1.0764721</td>\n",
              "<td>1.6725295</td>\n",
              "<td>0.0859880</td>\n",
              "<td>0.0833841</td>\n",
              "<td>0.1336007</td>\n",
              "<td>0.1207572</td>\n",
              "<td>0.1076502</td>\n",
              "<td>0.6690149</td>\n",
              "<td>7.6472058</td>\n",
              "<td>67.2529483</td></tr>\n",
              "<tr><td></td>\n",
              "<td>11</td>\n",
              "<td>0.5</td>\n",
              "<td>0.0674076</td>\n",
              "<td>0.8197637</td>\n",
              "<td>1.5019795</td>\n",
              "<td>0.0654823</td>\n",
              "<td>0.0721341</td>\n",
              "<td>0.1199773</td>\n",
              "<td>0.1110328</td>\n",
              "<td>0.0819748</td>\n",
              "<td>0.7509898</td>\n",
              "<td>-18.0236264</td>\n",
              "<td>50.1979506</td></tr>\n",
              "<tr><td></td>\n",
              "<td>12</td>\n",
              "<td>0.5999981</td>\n",
              "<td>0.0595412</td>\n",
              "<td>0.7079778</td>\n",
              "<td>1.3696479</td>\n",
              "<td>0.0565529</td>\n",
              "<td>0.0633288</td>\n",
              "<td>0.1094067</td>\n",
              "<td>0.1030823</td>\n",
              "<td>0.0707965</td>\n",
              "<td>0.8217862</td>\n",
              "<td>-29.2022228</td>\n",
              "<td>36.9647935</td></tr>\n",
              "<tr><td></td>\n",
              "<td>13</td>\n",
              "<td>0.7000056</td>\n",
              "<td>0.0525955</td>\n",
              "<td>0.6007937</td>\n",
              "<td>1.2598043</td>\n",
              "<td>0.0479911</td>\n",
              "<td>0.0560451</td>\n",
              "<td>0.1006325</td>\n",
              "<td>0.0963622</td>\n",
              "<td>0.0600838</td>\n",
              "<td>0.8818701</td>\n",
              "<td>-39.9206326</td>\n",
              "<td>25.9804315</td></tr>\n",
              "<tr><td></td>\n",
              "<td>14</td>\n",
              "<td>0.7999991</td>\n",
              "<td>0.0460663</td>\n",
              "<td>0.5519689</td>\n",
              "<td>1.1713305</td>\n",
              "<td>0.0440910</td>\n",
              "<td>0.0492660</td>\n",
              "<td>0.0935652</td>\n",
              "<td>0.0904756</td>\n",
              "<td>0.0551933</td>\n",
              "<td>0.9370633</td>\n",
              "<td>-44.8031132</td>\n",
              "<td>17.1330542</td></tr>\n",
              "<tr><td></td>\n",
              "<td>15</td>\n",
              "<td>0.8999972</td>\n",
              "<td>0.0389042</td>\n",
              "<td>0.3947442</td>\n",
              "<td>1.0850445</td>\n",
              "<td>0.0315320</td>\n",
              "<td>0.0426581</td>\n",
              "<td>0.0866728</td>\n",
              "<td>0.0851626</td>\n",
              "<td>0.0394737</td>\n",
              "<td>0.9765370</td>\n",
              "<td>-60.5255815</td>\n",
              "<td>8.5044507</td></tr>\n",
              "<tr><td></td>\n",
              "<td>16</td>\n",
              "<td>1.0</td>\n",
              "<td>0.0114868</td>\n",
              "<td>0.2346232</td>\n",
              "<td>1.0</td>\n",
              "<td>0.0187416</td>\n",
              "<td>0.0329239</td>\n",
              "<td>0.0798795</td>\n",
              "<td>0.0799386</td>\n",
              "<td>0.0234630</td>\n",
              "<td>1.0</td>\n",
              "<td>-76.5376831</td>\n",
              "<td>0.0</td></tr></table></div>"
            ],
            "text/plain": [
              "    group    cumulative_data_fraction    lower_threshold    lift      cumulative_lift    response_rate    score      cumulative_response_rate    cumulative_score    capture_rate    cumulative_capture_rate    gain      cumulative_gain\n",
              "--  -------  --------------------------  -----------------  --------  -----------------  ---------------  ---------  --------------------------  ------------------  --------------  -------------------------  --------  -----------------\n",
              "    1        0.0100035                   0.229835           4.36502   4.36502            0.348675         0.266254   0.348675                    0.266254            0.0436656       0.0436656                  336.502   336.502\n",
              "    2        0.0200024                   0.203738           3.48781   3.92652            0.278605         0.215071   0.313648                    0.240668            0.0348742       0.0785398                  248.781   292.652\n",
              "    3        0.0300013                   0.187683           2.89972   3.5843             0.231628         0.195265   0.286312                    0.225536            0.0289939       0.107534                   189.972   258.43\n",
              "    4        0.0400002                   0.17581            2.60276   3.33895            0.207907         0.181364   0.266713                    0.214494            0.0260247       0.133558                   160.276   233.895\n",
              "    5        0.0500037                   0.167053           2.45605   3.16232            0.196188         0.171329   0.252604                    0.205859            0.0245692       0.158128                   145.605   216.232\n",
              "    6        0.100003                    0.139089           2.13558   2.64897            0.170589         0.151545   0.211598                    0.178703            0.106777        0.264905                   113.558   164.897\n",
              "    7        0.150002                    0.121217           1.76296   2.35364            0.140824         0.129623   0.188008                    0.162344            0.0881463       0.353051                   76.2958   135.364\n",
              "    8        0.200001                    0.108578           1.55685   2.15445            0.124361         0.114603   0.172096                    0.150409            0.0778412       0.430892                   55.6852   115.445\n",
              "    9        0.299999                    0.0902606          1.30475   1.87122            0.104223         0.0988271  0.149472                    0.133215            0.130473        0.561365                   30.4752   87.1221\n",
              "    10       0.400002                    0.0772077          1.07647   1.67253            0.085988         0.0833841  0.133601                    0.120757            0.10765         0.669015                   7.64721   67.2529\n",
              "    11       0.5                         0.0674076          0.819764  1.50198            0.0654823        0.0721341  0.119977                    0.111033            0.0819748       0.75099                    -18.0236  50.198\n",
              "    12       0.599998                    0.0595412          0.707978  1.36965            0.0565529        0.0633288  0.109407                    0.103082            0.0707965       0.821786                   -29.2022  36.9648\n",
              "    13       0.700006                    0.0525955          0.600794  1.2598             0.0479911        0.0560451  0.100632                    0.0963622           0.0600838       0.88187                    -39.9206  25.9804\n",
              "    14       0.799999                    0.0460663          0.551969  1.17133            0.044091         0.049266   0.0935652                   0.0904756           0.0551933       0.937063                   -44.8031  17.1331\n",
              "    15       0.899997                    0.0389042          0.394744  1.08504            0.031532         0.0426581  0.0866728                   0.0851626           0.0394737       0.976537                   -60.5256  8.50445\n",
              "    16       1                           0.0114868          0.234623  1                  0.0187416        0.0329239  0.0798795                   0.0799386           0.023463        1                          -76.5377  0"
            ]
          },
          "metadata": {
            "tags": []
          }
        },
        {
          "output_type": "stream",
          "text": [
            "\n",
            "Scoring History: \n"
          ],
          "name": "stdout"
        },
        {
          "output_type": "display_data",
          "data": {
            "text/html": [
              "<div style=\"overflow:auto\"><table style=\"width:50%\"><tr><td><b></b></td>\n",
              "<td><b>timestamp</b></td>\n",
              "<td><b>duration</b></td>\n",
              "<td><b>number_of_trees</b></td>\n",
              "<td><b>training_rmse</b></td>\n",
              "<td><b>training_logloss</b></td>\n",
              "<td><b>training_auc</b></td>\n",
              "<td><b>training_pr_auc</b></td>\n",
              "<td><b>training_lift</b></td>\n",
              "<td><b>training_classification_error</b></td></tr>\n",
              "<tr><td></td>\n",
              "<td>2019-07-18 13:51:23</td>\n",
              "<td> 0.042 sec</td>\n",
              "<td>0.0</td>\n",
              "<td>0.2711065</td>\n",
              "<td>0.2784749</td>\n",
              "<td>0.5</td>\n",
              "<td>0.0</td>\n",
              "<td>1.0</td>\n",
              "<td>0.9201205</td></tr>\n",
              "<tr><td></td>\n",
              "<td>2019-07-18 13:51:25</td>\n",
              "<td> 2.306 sec</td>\n",
              "<td>1.0</td>\n",
              "<td>0.2705861</td>\n",
              "<td>0.2766093</td>\n",
              "<td>0.6373153</td>\n",
              "<td>0.1342203</td>\n",
              "<td>2.5769583</td>\n",
              "<td>0.2199940</td></tr>\n",
              "<tr><td></td>\n",
              "<td>2019-07-18 13:51:31</td>\n",
              "<td> 8.013 sec</td>\n",
              "<td>4.0</td>\n",
              "<td>0.2694620</td>\n",
              "<td>0.2728202</td>\n",
              "<td>0.6527098</td>\n",
              "<td>0.1421977</td>\n",
              "<td>2.9937423</td>\n",
              "<td>0.2800339</td></tr>\n",
              "<tr><td></td>\n",
              "<td>2019-07-18 13:51:36</td>\n",
              "<td>13.662 sec</td>\n",
              "<td>7.0</td>\n",
              "<td>0.2687244</td>\n",
              "<td>0.2704073</td>\n",
              "<td>0.6623465</td>\n",
              "<td>0.1475366</td>\n",
              "<td>3.2523117</td>\n",
              "<td>0.2486374</td></tr>\n",
              "<tr><td></td>\n",
              "<td>2019-07-18 13:51:42</td>\n",
              "<td>19.031 sec</td>\n",
              "<td>10.0</td>\n",
              "<td>0.2681277</td>\n",
              "<td>0.2685288</td>\n",
              "<td>0.6686828</td>\n",
              "<td>0.1516233</td>\n",
              "<td>3.3689021</td>\n",
              "<td>0.2284768</td></tr>\n",
              "<tr><td></td>\n",
              "<td>2019-07-18 13:51:47</td>\n",
              "<td>24.265 sec</td>\n",
              "<td>13.0</td>\n",
              "<td>0.2677070</td>\n",
              "<td>0.2672028</td>\n",
              "<td>0.6720109</td>\n",
              "<td>0.1539901</td>\n",
              "<td>3.4084290</td>\n",
              "<td>0.2224170</td></tr>\n",
              "<tr><td></td>\n",
              "<td>2019-07-18 13:51:52</td>\n",
              "<td>29.703 sec</td>\n",
              "<td>16.0</td>\n",
              "<td>0.2673254</td>\n",
              "<td>0.2660521</td>\n",
              "<td>0.6762652</td>\n",
              "<td>0.1576672</td>\n",
              "<td>3.5385723</td>\n",
              "<td>0.2168828</td></tr>\n",
              "<tr><td></td>\n",
              "<td>2019-07-18 13:51:57</td>\n",
              "<td>34.889 sec</td>\n",
              "<td>19.0</td>\n",
              "<td>0.2670070</td>\n",
              "<td>0.2650743</td>\n",
              "<td>0.6797799</td>\n",
              "<td>0.1601627</td>\n",
              "<td>3.6724328</td>\n",
              "<td>0.2238448</td></tr>\n",
              "<tr><td></td>\n",
              "<td>2019-07-18 13:52:03</td>\n",
              "<td>40.316 sec</td>\n",
              "<td>22.0</td>\n",
              "<td>0.2667707</td>\n",
              "<td>0.2643534</td>\n",
              "<td>0.6823374</td>\n",
              "<td>0.1618457</td>\n",
              "<td>3.6782528</td>\n",
              "<td>0.2163712</td></tr>\n",
              "<tr><td></td>\n",
              "<td>2019-07-18 13:52:08</td>\n",
              "<td>45.531 sec</td>\n",
              "<td>25.0</td>\n",
              "<td>0.2665492</td>\n",
              "<td>0.2636871</td>\n",
              "<td>0.6847517</td>\n",
              "<td>0.1637415</td>\n",
              "<td>3.7446113</td>\n",
              "<td>0.2083860</td></tr>\n",
              "<tr><td></td>\n",
              "<td>2019-07-18 13:52:13</td>\n",
              "<td>50.845 sec</td>\n",
              "<td>28.0</td>\n",
              "<td>0.2663291</td>\n",
              "<td>0.2630496</td>\n",
              "<td>0.6871057</td>\n",
              "<td>0.1660224</td>\n",
              "<td>3.7946532</td>\n",
              "<td>0.2085442</td></tr>\n",
              "<tr><td></td>\n",
              "<td>2019-07-18 13:52:19</td>\n",
              "<td>56.181 sec</td>\n",
              "<td>31.0</td>\n",
              "<td>0.2661268</td>\n",
              "<td>0.2624784</td>\n",
              "<td>0.6893412</td>\n",
              "<td>0.1683178</td>\n",
              "<td>3.9459737</td>\n",
              "<td>0.2139110</td></tr>\n",
              "<tr><td></td>\n",
              "<td>2019-07-18 13:52:24</td>\n",
              "<td> 1 min  1.523 sec</td>\n",
              "<td>34.0</td>\n",
              "<td>0.2659568</td>\n",
              "<td>0.2620284</td>\n",
              "<td>0.6909647</td>\n",
              "<td>0.1708197</td>\n",
              "<td>4.1031143</td>\n",
              "<td>0.1900439</td></tr>\n",
              "<tr><td></td>\n",
              "<td>2019-07-18 13:52:29</td>\n",
              "<td> 1 min  6.654 sec</td>\n",
              "<td>37.0</td>\n",
              "<td>0.2657867</td>\n",
              "<td>0.2615750</td>\n",
              "<td>0.6926723</td>\n",
              "<td>0.1731961</td>\n",
              "<td>4.1205743</td>\n",
              "<td>0.2083535</td></tr>\n",
              "<tr><td></td>\n",
              "<td>2019-07-18 13:52:34</td>\n",
              "<td> 1 min 11.944 sec</td>\n",
              "<td>40.0</td>\n",
              "<td>0.2656331</td>\n",
              "<td>0.2611641</td>\n",
              "<td>0.6943167</td>\n",
              "<td>0.1754343</td>\n",
              "<td>4.2388535</td>\n",
              "<td>0.1889603</td></tr>\n",
              "<tr><td></td>\n",
              "<td>2019-07-18 13:52:40</td>\n",
              "<td> 1 min 17.101 sec</td>\n",
              "<td>43.0</td>\n",
              "<td>0.2655154</td>\n",
              "<td>0.2608266</td>\n",
              "<td>0.6956375</td>\n",
              "<td>0.1768040</td>\n",
              "<td>4.2660748</td>\n",
              "<td>0.2154178</td></tr>\n",
              "<tr><td></td>\n",
              "<td>2019-07-18 13:52:45</td>\n",
              "<td> 1 min 22.445 sec</td>\n",
              "<td>46.0</td>\n",
              "<td>0.2653806</td>\n",
              "<td>0.2604701</td>\n",
              "<td>0.6969824</td>\n",
              "<td>0.1786054</td>\n",
              "<td>4.2486148</td>\n",
              "<td>0.2018844</td></tr>\n",
              "<tr><td></td>\n",
              "<td>2019-07-18 13:52:51</td>\n",
              "<td> 1 min 28.321 sec</td>\n",
              "<td>49.0</td>\n",
              "<td>0.2652481</td>\n",
              "<td>0.2601379</td>\n",
              "<td>0.6982720</td>\n",
              "<td>0.1805697</td>\n",
              "<td>4.3533751</td>\n",
              "<td>0.1907834</td></tr>\n",
              "<tr><td></td>\n",
              "<td>2019-07-18 13:52:53</td>\n",
              "<td> 1 min 30.214 sec</td>\n",
              "<td>50.0</td>\n",
              "<td>0.2652056</td>\n",
              "<td>0.2600375</td>\n",
              "<td>0.6986463</td>\n",
              "<td>0.1812328</td>\n",
              "<td>4.3650152</td>\n",
              "<td>0.1896114</td></tr></table></div>"
            ],
            "text/plain": [
              "    timestamp            duration          number_of_trees    training_rmse    training_logloss    training_auc    training_pr_auc    training_lift    training_classification_error\n",
              "--  -------------------  ----------------  -----------------  ---------------  ------------------  --------------  -----------------  ---------------  -------------------------------\n",
              "    2019-07-18 13:51:23  0.042 sec         0                  0.271106         0.278475            0.5             0                  1                0.920121\n",
              "    2019-07-18 13:51:25  2.306 sec         1                  0.270586         0.276609            0.637315        0.13422            2.57696          0.219994\n",
              "    2019-07-18 13:51:31  8.013 sec         4                  0.269462         0.27282             0.65271         0.142198           2.99374          0.280034\n",
              "    2019-07-18 13:51:36  13.662 sec        7                  0.268724         0.270407            0.662346        0.147537           3.25231          0.248637\n",
              "    2019-07-18 13:51:42  19.031 sec        10                 0.268128         0.268529            0.668683        0.151623           3.3689           0.228477\n",
              "    2019-07-18 13:51:47  24.265 sec        13                 0.267707         0.267203            0.672011        0.15399            3.40843          0.222417\n",
              "    2019-07-18 13:51:52  29.703 sec        16                 0.267325         0.266052            0.676265        0.157667           3.53857          0.216883\n",
              "    2019-07-18 13:51:57  34.889 sec        19                 0.267007         0.265074            0.67978         0.160163           3.67243          0.223845\n",
              "    2019-07-18 13:52:03  40.316 sec        22                 0.266771         0.264353            0.682337        0.161846           3.67825          0.216371\n",
              "    2019-07-18 13:52:08  45.531 sec        25                 0.266549         0.263687            0.684752        0.163742           3.74461          0.208386\n",
              "    2019-07-18 13:52:13  50.845 sec        28                 0.266329         0.26305             0.687106        0.166022           3.79465          0.208544\n",
              "    2019-07-18 13:52:19  56.181 sec        31                 0.266127         0.262478            0.689341        0.168318           3.94597          0.213911\n",
              "    2019-07-18 13:52:24  1 min  1.523 sec  34                 0.265957         0.262028            0.690965        0.17082            4.10311          0.190044\n",
              "    2019-07-18 13:52:29  1 min  6.654 sec  37                 0.265787         0.261575            0.692672        0.173196           4.12057          0.208353\n",
              "    2019-07-18 13:52:34  1 min 11.944 sec  40                 0.265633         0.261164            0.694317        0.175434           4.23885          0.18896\n",
              "    2019-07-18 13:52:40  1 min 17.101 sec  43                 0.265515         0.260827            0.695638        0.176804           4.26607          0.215418\n",
              "    2019-07-18 13:52:45  1 min 22.445 sec  46                 0.265381         0.26047             0.696982        0.178605           4.24861          0.201884\n",
              "    2019-07-18 13:52:51  1 min 28.321 sec  49                 0.265248         0.260138            0.698272        0.18057            4.35338          0.190783\n",
              "    2019-07-18 13:52:53  1 min 30.214 sec  50                 0.265206         0.260037            0.698646        0.181233           4.36502          0.189611"
            ]
          },
          "metadata": {
            "tags": []
          }
        },
        {
          "output_type": "stream",
          "text": [
            "Variable Importances: \n"
          ],
          "name": "stdout"
        },
        {
          "output_type": "display_data",
          "data": {
            "text/html": [
              "<div style=\"overflow:auto\"><table style=\"width:50%\"><tr><td><b>variable</b></td>\n",
              "<td><b>relative_importance</b></td>\n",
              "<td><b>scaled_importance</b></td>\n",
              "<td><b>percentage</b></td></tr>\n",
              "<tr><td>DAYS_BIRTH</td>\n",
              "<td>434.5479736</td>\n",
              "<td>1.0</td>\n",
              "<td>0.1325710</td></tr>\n",
              "<tr><td>AMT_CREDIT</td>\n",
              "<td>344.0754395</td>\n",
              "<td>0.7918008</td>\n",
              "<td>0.1049698</td></tr>\n",
              "<tr><td>DAYS_EMPLOYED</td>\n",
              "<td>333.8029480</td>\n",
              "<td>0.7681613</td>\n",
              "<td>0.1018359</td></tr>\n",
              "<tr><td>NAME_EDUCATION_TYPE_Higher education</td>\n",
              "<td>251.0831451</td>\n",
              "<td>0.5778031</td>\n",
              "<td>0.0765999</td></tr>\n",
              "<tr><td>DAYS_ID_PUBLISH</td>\n",
              "<td>222.8966064</td>\n",
              "<td>0.5129390</td>\n",
              "<td>0.0680008</td></tr>\n",
              "<tr><td>---</td>\n",
              "<td>---</td>\n",
              "<td>---</td>\n",
              "<td>---</td></tr>\n",
              "<tr><td>ORGANIZATION_TYPE_Trade: type 5</td>\n",
              "<td>0.0</td>\n",
              "<td>0.0</td>\n",
              "<td>0.0</td></tr>\n",
              "<tr><td>ORGANIZATION_TYPE_Trade: type 6</td>\n",
              "<td>0.0</td>\n",
              "<td>0.0</td>\n",
              "<td>0.0</td></tr>\n",
              "<tr><td>ORGANIZATION_TYPE_Trade: type 7</td>\n",
              "<td>0.0</td>\n",
              "<td>0.0</td>\n",
              "<td>0.0</td></tr>\n",
              "<tr><td>ORGANIZATION_TYPE_Transport: type 1</td>\n",
              "<td>0.0</td>\n",
              "<td>0.0</td>\n",
              "<td>0.0</td></tr>\n",
              "<tr><td>ORGANIZATION_TYPE_XNA</td>\n",
              "<td>0.0</td>\n",
              "<td>0.0</td>\n",
              "<td>0.0</td></tr></table></div>"
            ],
            "text/plain": [
              "variable                              relative_importance    scaled_importance    percentage\n",
              "------------------------------------  ---------------------  -------------------  -------------------\n",
              "DAYS_BIRTH                            434.5479736328125      1.0                  0.1325709628701626\n",
              "AMT_CREDIT                            344.075439453125       0.7918008144800702   0.10496979637700189\n",
              "DAYS_EMPLOYED                         333.8029479980469      0.7681613268322501   0.10183588673777307\n",
              "NAME_EDUCATION_TYPE_Higher education  251.08314514160156     0.5778030513928104   0.07659990687246292\n",
              "DAYS_ID_PUBLISH                       222.8966064453125      0.512939007819784    0.06800081816033463\n",
              "---                                   ---                    ---                  ---\n",
              "ORGANIZATION_TYPE_Trade: type 5       0.0                    0.0                  0.0\n",
              "ORGANIZATION_TYPE_Trade: type 6       0.0                    0.0                  0.0\n",
              "ORGANIZATION_TYPE_Trade: type 7       0.0                    0.0                  0.0\n",
              "ORGANIZATION_TYPE_Transport: type 1   0.0                    0.0                  0.0\n",
              "ORGANIZATION_TYPE_XNA                 0.0                    0.0                  0.0"
            ]
          },
          "metadata": {
            "tags": []
          }
        },
        {
          "output_type": "stream",
          "text": [
            "\n",
            "See the whole table with table.as_data_frame()\n",
            "\n"
          ],
          "name": "stdout"
        }
      ]
    },
    {
      "cell_type": "code",
      "metadata": {
        "id": "kBtJInJVObru",
        "colab_type": "code",
        "colab": {
          "base_uri": "https://localhost:8080/",
          "height": 1000
        },
        "outputId": "ae889d76-cc85-48ec-a7ba-93fceacb3cb0"
      },
      "source": [
        "p1=gbm.model_performance(test)\n",
        "p1"
      ],
      "execution_count": 89,
      "outputs": [
        {
          "output_type": "stream",
          "text": [
            "\n",
            "ModelMetricsBinomial: gbm\n",
            "** Reported on test data. **\n",
            "\n",
            "MSE: 0.07327860012130198\n",
            "RMSE: 0.27070020340092465\n",
            "LogLoss: 0.2700156319317764\n",
            "Mean Per-Class Error: 0.37113715156570537\n",
            "AUC: 0.678003699288533\n",
            "pr_auc: 0.16287926390050192\n",
            "Gini: 0.356007398577066\n",
            "Confusion Matrix (Act/Pred) for max f1 @ threshold = 0.10724686378216819: \n"
          ],
          "name": "stdout"
        },
        {
          "output_type": "display_data",
          "data": {
            "text/html": [
              "<div style=\"overflow:auto\"><table style=\"width:50%\"><tr><td><b></b></td>\n",
              "<td><b>0</b></td>\n",
              "<td><b>1</b></td>\n",
              "<td><b>Error</b></td>\n",
              "<td><b>Rate</b></td></tr>\n",
              "<tr><td>0</td>\n",
              "<td>68861.0</td>\n",
              "<td>15977.0</td>\n",
              "<td>0.1883</td>\n",
              "<td> (15977.0/84838.0)</td></tr>\n",
              "<tr><td>1</td>\n",
              "<td>4463.0</td>\n",
              "<td>3186.0</td>\n",
              "<td>0.5835</td>\n",
              "<td> (4463.0/7649.0)</td></tr>\n",
              "<tr><td>Total</td>\n",
              "<td>73324.0</td>\n",
              "<td>19163.0</td>\n",
              "<td>0.221</td>\n",
              "<td> (20440.0/92487.0)</td></tr></table></div>"
            ],
            "text/plain": [
              "       0      1      Error    Rate\n",
              "-----  -----  -----  -------  -----------------\n",
              "0      68861  15977  0.1883   (15977.0/84838.0)\n",
              "1      4463   3186   0.5835   (4463.0/7649.0)\n",
              "Total  73324  19163  0.221    (20440.0/92487.0)"
            ]
          },
          "metadata": {
            "tags": []
          }
        },
        {
          "output_type": "stream",
          "text": [
            "Maximum Metrics: Maximum metrics at their respective thresholds\n",
            "\n"
          ],
          "name": "stdout"
        },
        {
          "output_type": "display_data",
          "data": {
            "text/html": [
              "<div style=\"overflow:auto\"><table style=\"width:50%\"><tr><td><b>metric</b></td>\n",
              "<td><b>threshold</b></td>\n",
              "<td><b>value</b></td>\n",
              "<td><b>idx</b></td></tr>\n",
              "<tr><td>max f1</td>\n",
              "<td>0.1072469</td>\n",
              "<td>0.2376548</td>\n",
              "<td>193.0</td></tr>\n",
              "<tr><td>max f2</td>\n",
              "<td>0.0696906</td>\n",
              "<td>0.3635183</td>\n",
              "<td>277.0</td></tr>\n",
              "<tr><td>max f0point5</td>\n",
              "<td>0.1522325</td>\n",
              "<td>0.2110385</td>\n",
              "<td>123.0</td></tr>\n",
              "<tr><td>max accuracy</td>\n",
              "<td>0.4907860</td>\n",
              "<td>0.9172857</td>\n",
              "<td>0.0</td></tr>\n",
              "<tr><td>max precision</td>\n",
              "<td>0.3516770</td>\n",
              "<td>0.45</td>\n",
              "<td>7.0</td></tr>\n",
              "<tr><td>max recall</td>\n",
              "<td>0.0181652</td>\n",
              "<td>1.0</td>\n",
              "<td>396.0</td></tr>\n",
              "<tr><td>max specificity</td>\n",
              "<td>0.4907860</td>\n",
              "<td>0.9999882</td>\n",
              "<td>0.0</td></tr>\n",
              "<tr><td>max absolute_mcc</td>\n",
              "<td>0.1072469</td>\n",
              "<td>0.1550819</td>\n",
              "<td>193.0</td></tr>\n",
              "<tr><td>max min_per_class_accuracy</td>\n",
              "<td>0.0782189</td>\n",
              "<td>0.6280205</td>\n",
              "<td>257.0</td></tr>\n",
              "<tr><td>max mean_per_class_accuracy</td>\n",
              "<td>0.0809574</td>\n",
              "<td>0.6288628</td>\n",
              "<td>251.0</td></tr></table></div>"
            ],
            "text/plain": [
              "metric                       threshold    value     idx\n",
              "---------------------------  -----------  --------  -----\n",
              "max f1                       0.107247     0.237655  193\n",
              "max f2                       0.0696906    0.363518  277\n",
              "max f0point5                 0.152232     0.211038  123\n",
              "max accuracy                 0.490786     0.917286  0\n",
              "max precision                0.351677     0.45      7\n",
              "max recall                   0.0181652    1         396\n",
              "max specificity              0.490786     0.999988  0\n",
              "max absolute_mcc             0.107247     0.155082  193\n",
              "max min_per_class_accuracy   0.0782189    0.62802   257\n",
              "max mean_per_class_accuracy  0.0809574    0.628863  251"
            ]
          },
          "metadata": {
            "tags": []
          }
        },
        {
          "output_type": "stream",
          "text": [
            "Gains/Lift Table: Avg response rate:  8.27 %, avg score:  8.00 %\n",
            "\n"
          ],
          "name": "stdout"
        },
        {
          "output_type": "display_data",
          "data": {
            "text/html": [
              "<div style=\"overflow:auto\"><table style=\"width:50%\"><tr><td><b></b></td>\n",
              "<td><b>group</b></td>\n",
              "<td><b>cumulative_data_fraction</b></td>\n",
              "<td><b>lower_threshold</b></td>\n",
              "<td><b>lift</b></td>\n",
              "<td><b>cumulative_lift</b></td>\n",
              "<td><b>response_rate</b></td>\n",
              "<td><b>score</b></td>\n",
              "<td><b>cumulative_response_rate</b></td>\n",
              "<td><b>cumulative_score</b></td>\n",
              "<td><b>capture_rate</b></td>\n",
              "<td><b>cumulative_capture_rate</b></td>\n",
              "<td><b>gain</b></td>\n",
              "<td><b>cumulative_gain</b></td></tr>\n",
              "<tr><td></td>\n",
              "<td>1</td>\n",
              "<td>0.0100014</td>\n",
              "<td>0.2305154</td>\n",
              "<td>3.4509465</td>\n",
              "<td>3.4509465</td>\n",
              "<td>0.2854054</td>\n",
              "<td>0.2652775</td>\n",
              "<td>0.2854054</td>\n",
              "<td>0.2652775</td>\n",
              "<td>0.0345143</td>\n",
              "<td>0.0345143</td>\n",
              "<td>245.0946494</td>\n",
              "<td>245.0946494</td></tr>\n",
              "<tr><td></td>\n",
              "<td>2</td>\n",
              "<td>0.0200028</td>\n",
              "<td>0.2035746</td>\n",
              "<td>2.9019323</td>\n",
              "<td>3.1764394</td>\n",
              "<td>0.24</td>\n",
              "<td>0.2155600</td>\n",
              "<td>0.2627027</td>\n",
              "<td>0.2404187</td>\n",
              "<td>0.0290234</td>\n",
              "<td>0.0635377</td>\n",
              "<td>190.1932279</td>\n",
              "<td>217.6439386</td></tr>\n",
              "<tr><td></td>\n",
              "<td>3</td>\n",
              "<td>0.0300042</td>\n",
              "<td>0.1874505</td>\n",
              "<td>2.7319993</td>\n",
              "<td>3.0282927</td>\n",
              "<td>0.2259459</td>\n",
              "<td>0.1948230</td>\n",
              "<td>0.2504505</td>\n",
              "<td>0.2252202</td>\n",
              "<td>0.0273238</td>\n",
              "<td>0.0908616</td>\n",
              "<td>173.1999307</td>\n",
              "<td>202.8292693</td></tr>\n",
              "<tr><td></td>\n",
              "<td>4</td>\n",
              "<td>0.0400056</td>\n",
              "<td>0.1758318</td>\n",
              "<td>2.5620663</td>\n",
              "<td>2.9117361</td>\n",
              "<td>0.2118919</td>\n",
              "<td>0.1813456</td>\n",
              "<td>0.2408108</td>\n",
              "<td>0.2142515</td>\n",
              "<td>0.0256243</td>\n",
              "<td>0.1164858</td>\n",
              "<td>156.2066336</td>\n",
              "<td>191.1736104</td></tr>\n",
              "<tr><td></td>\n",
              "<td>5</td>\n",
              "<td>0.0500070</td>\n",
              "<td>0.1673899</td>\n",
              "<td>2.2352722</td>\n",
              "<td>2.7764433</td>\n",
              "<td>0.1848649</td>\n",
              "<td>0.1713743</td>\n",
              "<td>0.2296216</td>\n",
              "<td>0.2056761</td>\n",
              "<td>0.0223559</td>\n",
              "<td>0.1388417</td>\n",
              "<td>123.5272161</td>\n",
              "<td>177.6443315</td></tr>\n",
              "<tr><td></td>\n",
              "<td>6</td>\n",
              "<td>0.1000032</td>\n",
              "<td>0.1391304</td>\n",
              "<td>2.0187173</td>\n",
              "<td>2.3976213</td>\n",
              "<td>0.1669550</td>\n",
              "<td>0.1518376</td>\n",
              "<td>0.1982917</td>\n",
              "<td>0.1787598</td>\n",
              "<td>0.1009282</td>\n",
              "<td>0.2397699</td>\n",
              "<td>101.8717308</td>\n",
              "<td>139.7621274</td></tr>\n",
              "<tr><td></td>\n",
              "<td>7</td>\n",
              "<td>0.1499995</td>\n",
              "<td>0.1217901</td>\n",
              "<td>1.6970823</td>\n",
              "<td>2.1641251</td>\n",
              "<td>0.1403547</td>\n",
              "<td>0.1299468</td>\n",
              "<td>0.1789808</td>\n",
              "<td>0.1624899</td>\n",
              "<td>0.0848477</td>\n",
              "<td>0.3246176</td>\n",
              "<td>69.7082296</td>\n",
              "<td>116.4125114</td></tr>\n",
              "<tr><td></td>\n",
              "<td>8</td>\n",
              "<td>0.2000065</td>\n",
              "<td>0.1087254</td>\n",
              "<td>1.5999843</td>\n",
              "<td>2.0230747</td>\n",
              "<td>0.1323243</td>\n",
              "<td>0.1150426</td>\n",
              "<td>0.1673154</td>\n",
              "<td>0.1506268</td>\n",
              "<td>0.0800105</td>\n",
              "<td>0.4046281</td>\n",
              "<td>59.9984283</td>\n",
              "<td>102.3074657</td></tr>\n",
              "<tr><td></td>\n",
              "<td>9</td>\n",
              "<td>0.2999989</td>\n",
              "<td>0.0902634</td>\n",
              "<td>1.2525461</td>\n",
              "<td>1.7662503</td>\n",
              "<td>0.1035900</td>\n",
              "<td>0.0989127</td>\n",
              "<td>0.1460751</td>\n",
              "<td>0.1333900</td>\n",
              "<td>0.1252451</td>\n",
              "<td>0.5298732</td>\n",
              "<td>25.2546101</td>\n",
              "<td>76.6250319</td></tr>\n",
              "<tr><td></td>\n",
              "<td>10</td>\n",
              "<td>0.4000022</td>\n",
              "<td>0.0772447</td>\n",
              "<td>1.0536983</td>\n",
              "<td>1.5881075</td>\n",
              "<td>0.0871446</td>\n",
              "<td>0.0834136</td>\n",
              "<td>0.1313421</td>\n",
              "<td>0.1208956</td>\n",
              "<td>0.1053733</td>\n",
              "<td>0.6352464</td>\n",
              "<td>5.3698335</td>\n",
              "<td>58.8107508</td></tr>\n",
              "<tr><td></td>\n",
              "<td>11</td>\n",
              "<td>0.5000054</td>\n",
              "<td>0.0674804</td>\n",
              "<td>0.9399617</td>\n",
              "<td>1.4584755</td>\n",
              "<td>0.0777381</td>\n",
              "<td>0.0721210</td>\n",
              "<td>0.1206211</td>\n",
              "<td>0.1111404</td>\n",
              "<td>0.0939992</td>\n",
              "<td>0.7292457</td>\n",
              "<td>-6.0038334</td>\n",
              "<td>45.8475537</td></tr>\n",
              "<tr><td></td>\n",
              "<td>12</td>\n",
              "<td>0.5999978</td>\n",
              "<td>0.0596585</td>\n",
              "<td>0.7674787</td>\n",
              "<td>1.3433177</td>\n",
              "<td>0.0634732</td>\n",
              "<td>0.0633872</td>\n",
              "<td>0.1110971</td>\n",
              "<td>0.1031821</td>\n",
              "<td>0.0767421</td>\n",
              "<td>0.8059877</td>\n",
              "<td>-23.2521335</td>\n",
              "<td>34.3317693</td></tr>\n",
              "<tr><td></td>\n",
              "<td>13</td>\n",
              "<td>0.7000011</td>\n",
              "<td>0.0526240</td>\n",
              "<td>0.6157468</td>\n",
              "<td>1.2393758</td>\n",
              "<td>0.0509244</td>\n",
              "<td>0.0561280</td>\n",
              "<td>0.1025007</td>\n",
              "<td>0.0964599</td>\n",
              "<td>0.0615767</td>\n",
              "<td>0.8675644</td>\n",
              "<td>-38.4253206</td>\n",
              "<td>23.9375782</td></tr>\n",
              "<tr><td></td>\n",
              "<td>14</td>\n",
              "<td>0.7999935</td>\n",
              "<td>0.0461583</td>\n",
              "<td>0.5635150</td>\n",
              "<td>1.1548989</td>\n",
              "<td>0.0466047</td>\n",
              "<td>0.0493590</td>\n",
              "<td>0.0955142</td>\n",
              "<td>0.0905727</td>\n",
              "<td>0.0563472</td>\n",
              "<td>0.9239116</td>\n",
              "<td>-43.6485000</td>\n",
              "<td>15.4898893</td></tr>\n",
              "<tr><td></td>\n",
              "<td>15</td>\n",
              "<td>0.8999968</td>\n",
              "<td>0.0389751</td>\n",
              "<td>0.4536394</td>\n",
              "<td>1.0769784</td>\n",
              "<td>0.0375176</td>\n",
              "<td>0.0427249</td>\n",
              "<td>0.0890699</td>\n",
              "<td>0.0852561</td>\n",
              "<td>0.0453654</td>\n",
              "<td>0.9692770</td>\n",
              "<td>-54.6360642</td>\n",
              "<td>7.6978359</td></tr>\n",
              "<tr><td></td>\n",
              "<td>16</td>\n",
              "<td>1.0</td>\n",
              "<td>0.0120790</td>\n",
              "<td>0.3072197</td>\n",
              "<td>1.0</td>\n",
              "<td>0.0254082</td>\n",
              "<td>0.0330545</td>\n",
              "<td>0.0827035</td>\n",
              "<td>0.0800358</td>\n",
              "<td>0.0307230</td>\n",
              "<td>1.0</td>\n",
              "<td>-69.2780262</td>\n",
              "<td>0.0</td></tr></table></div>"
            ],
            "text/plain": [
              "    group    cumulative_data_fraction    lower_threshold    lift      cumulative_lift    response_rate    score      cumulative_response_rate    cumulative_score    capture_rate    cumulative_capture_rate    gain      cumulative_gain\n",
              "--  -------  --------------------------  -----------------  --------  -----------------  ---------------  ---------  --------------------------  ------------------  --------------  -------------------------  --------  -----------------\n",
              "    1        0.0100014                   0.230515           3.45095   3.45095            0.285405         0.265277   0.285405                    0.265277            0.0345143       0.0345143                  245.095   245.095\n",
              "    2        0.0200028                   0.203575           2.90193   3.17644            0.24             0.21556    0.262703                    0.240419            0.0290234       0.0635377                  190.193   217.644\n",
              "    3        0.0300042                   0.187451           2.732     3.02829            0.225946         0.194823   0.25045                     0.22522             0.0273238       0.0908616                  173.2     202.829\n",
              "    4        0.0400056                   0.175832           2.56207   2.91174            0.211892         0.181346   0.240811                    0.214252            0.0256243       0.116486                   156.207   191.174\n",
              "    5        0.050007                    0.16739            2.23527   2.77644            0.184865         0.171374   0.229622                    0.205676            0.0223559       0.138842                   123.527   177.644\n",
              "    6        0.100003                    0.13913            2.01872   2.39762            0.166955         0.151838   0.198292                    0.17876             0.100928        0.23977                    101.872   139.762\n",
              "    7        0.149999                    0.12179            1.69708   2.16413            0.140355         0.129947   0.178981                    0.16249             0.0848477       0.324618                   69.7082   116.413\n",
              "    8        0.200006                    0.108725           1.59998   2.02307            0.132324         0.115043   0.167315                    0.150627            0.0800105       0.404628                   59.9984   102.307\n",
              "    9        0.299999                    0.0902634          1.25255   1.76625            0.10359          0.0989127  0.146075                    0.13339             0.125245        0.529873                   25.2546   76.625\n",
              "    10       0.400002                    0.0772447          1.0537    1.58811            0.0871446        0.0834136  0.131342                    0.120896            0.105373        0.635246                   5.36983   58.8108\n",
              "    11       0.500005                    0.0674804          0.939962  1.45848            0.0777381        0.072121   0.120621                    0.11114             0.0939992       0.729246                   -6.00383  45.8476\n",
              "    12       0.599998                    0.0596585          0.767479  1.34332            0.0634732        0.0633872  0.111097                    0.103182            0.0767421       0.805988                   -23.2521  34.3318\n",
              "    13       0.700001                    0.052624           0.615747  1.23938            0.0509244        0.056128   0.102501                    0.0964599           0.0615767       0.867564                   -38.4253  23.9376\n",
              "    14       0.799994                    0.0461583          0.563515  1.1549             0.0466047        0.049359   0.0955142                   0.0905727           0.0563472       0.923912                   -43.6485  15.4899\n",
              "    15       0.899997                    0.0389751          0.453639  1.07698            0.0375176        0.0427249  0.0890699                   0.0852561           0.0453654       0.969277                   -54.6361  7.69784\n",
              "    16       1                           0.012079           0.30722   1                  0.0254082        0.0330545  0.0827035                   0.0800358           0.030723        1                          -69.278   0"
            ]
          },
          "metadata": {
            "tags": []
          }
        },
        {
          "output_type": "stream",
          "text": [
            "\n"
          ],
          "name": "stdout"
        },
        {
          "output_type": "execute_result",
          "data": {
            "text/plain": [
              ""
            ]
          },
          "metadata": {
            "tags": []
          },
          "execution_count": 89
        }
      ]
    },
    {
      "cell_type": "code",
      "metadata": {
        "id": "ALEizRo2SXen",
        "colab_type": "code",
        "colab": {
          "base_uri": "https://localhost:8080/",
          "height": 137
        },
        "outputId": "20e46039-79a5-4b43-90e7-4896a84404f6"
      },
      "source": [
        "print(gbm.confusion_matrix())"
      ],
      "execution_count": 90,
      "outputs": [
        {
          "output_type": "stream",
          "text": [
            "Confusion Matrix (Act/Pred) for max f1 @ threshold = 0.11557232511922763: \n"
          ],
          "name": "stdout"
        },
        {
          "output_type": "display_data",
          "data": {
            "text/html": [
              "<div style=\"overflow:auto\"><table style=\"width:50%\"><tr><td><b></b></td>\n",
              "<td><b>0</b></td>\n",
              "<td><b>1</b></td>\n",
              "<td><b>Error</b></td>\n",
              "<td><b>Rate</b></td></tr>\n",
              "<tr><td>0</td>\n",
              "<td>167583.0</td>\n",
              "<td>30265.0</td>\n",
              "<td>0.153</td>\n",
              "<td> (30265.0/197848.0)</td></tr>\n",
              "<tr><td>1</td>\n",
              "<td>10506.0</td>\n",
              "<td>6670.0</td>\n",
              "<td>0.6117</td>\n",
              "<td> (10506.0/17176.0)</td></tr>\n",
              "<tr><td>Total</td>\n",
              "<td>178089.0</td>\n",
              "<td>36935.0</td>\n",
              "<td>0.1896</td>\n",
              "<td> (40771.0/215024.0)</td></tr></table></div>"
            ],
            "text/plain": [
              "       0       1      Error    Rate\n",
              "-----  ------  -----  -------  ------------------\n",
              "0      167583  30265  0.153    (30265.0/197848.0)\n",
              "1      10506   6670   0.6117   (10506.0/17176.0)\n",
              "Total  178089  36935  0.1896   (40771.0/215024.0)"
            ]
          },
          "metadata": {
            "tags": []
          }
        },
        {
          "output_type": "stream",
          "text": [
            "\n"
          ],
          "name": "stdout"
        }
      ]
    },
    {
      "cell_type": "code",
      "metadata": {
        "id": "TwNTfwx3YKpX",
        "colab_type": "code",
        "colab": {
          "base_uri": "https://localhost:8080/",
          "height": 34
        },
        "outputId": "91122a46-7201-4090-aac5-d3066d74cb30"
      },
      "source": [
        "p1.auc()"
      ],
      "execution_count": 91,
      "outputs": [
        {
          "output_type": "execute_result",
          "data": {
            "text/plain": [
              "0.678003699288533"
            ]
          },
          "metadata": {
            "tags": []
          },
          "execution_count": 91
        }
      ]
    }
  ]
}