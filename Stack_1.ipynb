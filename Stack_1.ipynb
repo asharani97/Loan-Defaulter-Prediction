{
 "cells": [
  {
   "cell_type": "code",
   "execution_count": 1,
   "metadata": {},
   "outputs": [
    {
     "name": "stdout",
     "output_type": "stream",
     "text": [
      "Ran\n"
     ]
    }
   ],
   "source": [
    "import pandas as pd\n",
    "from sklearn.datasets import load_iris\n",
    "from sklearn.model_selection import train_test_split\n",
    "from sklearn.metrics import accuracy_score\n",
    "from sklearn.tree import DecisionTreeClassifier\n",
    "from sklearn.ensemble import RandomForestClassifier\n",
    "from xgboost import XGBClassifier\n",
    "print ('Ran')"
   ]
  },
  {
   "cell_type": "code",
   "execution_count": 2,
   "metadata": {},
   "outputs": [],
   "source": [
    "imputed_train =pd.read_csv('C:/Users/dbda/Desktop/Work/Imputed Train/imputed_train.csv')"
   ]
  },
  {
   "cell_type": "code",
   "execution_count": 3,
   "metadata": {},
   "outputs": [
    {
     "data": {
      "text/html": [
       "<div>\n",
       "<style scoped>\n",
       "    .dataframe tbody tr th:only-of-type {\n",
       "        vertical-align: middle;\n",
       "    }\n",
       "\n",
       "    .dataframe tbody tr th {\n",
       "        vertical-align: top;\n",
       "    }\n",
       "\n",
       "    .dataframe thead th {\n",
       "        text-align: right;\n",
       "    }\n",
       "</style>\n",
       "<table border=\"1\" class=\"dataframe\">\n",
       "  <thead>\n",
       "    <tr style=\"text-align: right;\">\n",
       "      <th></th>\n",
       "      <th>AMT_ANNUITY</th>\n",
       "      <th>AMT_ANNUITY_x</th>\n",
       "      <th>AMT_ANNUITY_y</th>\n",
       "      <th>AMT_APPLICATION</th>\n",
       "      <th>AMT_BALANCE</th>\n",
       "      <th>AMT_CREDIT_LIMIT_ACTUAL</th>\n",
       "      <th>AMT_CREDIT_MAX_OVERDUE</th>\n",
       "      <th>AMT_CREDIT_SUM</th>\n",
       "      <th>AMT_CREDIT_SUM_DEBT</th>\n",
       "      <th>AMT_CREDIT_SUM_LIMIT</th>\n",
       "      <th>...</th>\n",
       "      <th>WEEKDAY_APPR_PROCESS_START_WEDNESDAY</th>\n",
       "      <th>WEEKDAY_APPR_PROCESS_START_WEDNESDAY.1</th>\n",
       "      <th>YEARS_BEGINEXPLUATATION_AVG</th>\n",
       "      <th>YEARS_BEGINEXPLUATATION_MEDI</th>\n",
       "      <th>YEARS_BEGINEXPLUATATION_MODE</th>\n",
       "      <th>YEARS_BUILD_AVG</th>\n",
       "      <th>YEARS_BUILD_MEDI</th>\n",
       "      <th>YEARS_BUILD_MODE</th>\n",
       "      <th>TARGET</th>\n",
       "      <th>SK_ID_CURR</th>\n",
       "    </tr>\n",
       "  </thead>\n",
       "  <tbody>\n",
       "    <tr>\n",
       "      <th>0</th>\n",
       "      <td>0.000000</td>\n",
       "      <td>24700.5</td>\n",
       "      <td>9251.775</td>\n",
       "      <td>179055.00</td>\n",
       "      <td>26793.606316</td>\n",
       "      <td>149727.272727</td>\n",
       "      <td>1312.010357</td>\n",
       "      <td>111388.838727</td>\n",
       "      <td>70223.142857</td>\n",
       "      <td>3198.8565</td>\n",
       "      <td>...</td>\n",
       "      <td>0.0</td>\n",
       "      <td>1</td>\n",
       "      <td>0.9722</td>\n",
       "      <td>0.9722</td>\n",
       "      <td>0.9722</td>\n",
       "      <td>0.6192</td>\n",
       "      <td>0.6243</td>\n",
       "      <td>0.6341</td>\n",
       "      <td>1</td>\n",
       "      <td>100002</td>\n",
       "    </tr>\n",
       "    <tr>\n",
       "      <th>1</th>\n",
       "      <td>5273.497207</td>\n",
       "      <td>35698.5</td>\n",
       "      <td>56553.990</td>\n",
       "      <td>435436.50</td>\n",
       "      <td>26793.606316</td>\n",
       "      <td>149727.272727</td>\n",
       "      <td>0.000000</td>\n",
       "      <td>254350.125000</td>\n",
       "      <td>0.000000</td>\n",
       "      <td>202500.0000</td>\n",
       "      <td>...</td>\n",
       "      <td>0.0</td>\n",
       "      <td>0</td>\n",
       "      <td>0.9851</td>\n",
       "      <td>0.9851</td>\n",
       "      <td>0.9851</td>\n",
       "      <td>0.7960</td>\n",
       "      <td>0.7987</td>\n",
       "      <td>0.8040</td>\n",
       "      <td>0</td>\n",
       "      <td>100003</td>\n",
       "    </tr>\n",
       "    <tr>\n",
       "      <th>2</th>\n",
       "      <td>5273.497207</td>\n",
       "      <td>6750.0</td>\n",
       "      <td>5357.250</td>\n",
       "      <td>24282.00</td>\n",
       "      <td>26793.606316</td>\n",
       "      <td>149727.272727</td>\n",
       "      <td>0.000000</td>\n",
       "      <td>94518.900000</td>\n",
       "      <td>0.000000</td>\n",
       "      <td>0.0000</td>\n",
       "      <td>...</td>\n",
       "      <td>0.0</td>\n",
       "      <td>0</td>\n",
       "      <td>0.9816</td>\n",
       "      <td>0.9816</td>\n",
       "      <td>0.9816</td>\n",
       "      <td>0.7552</td>\n",
       "      <td>0.7585</td>\n",
       "      <td>0.7648</td>\n",
       "      <td>0</td>\n",
       "      <td>100004</td>\n",
       "    </tr>\n",
       "    <tr>\n",
       "      <th>3</th>\n",
       "      <td>5273.497207</td>\n",
       "      <td>29686.5</td>\n",
       "      <td>23651.175</td>\n",
       "      <td>272203.26</td>\n",
       "      <td>0.000000</td>\n",
       "      <td>270000.000000</td>\n",
       "      <td>0.000000</td>\n",
       "      <td>188810.835268</td>\n",
       "      <td>36886.500000</td>\n",
       "      <td>0.0000</td>\n",
       "      <td>...</td>\n",
       "      <td>0.0</td>\n",
       "      <td>1</td>\n",
       "      <td>0.9816</td>\n",
       "      <td>0.9816</td>\n",
       "      <td>0.9816</td>\n",
       "      <td>0.7552</td>\n",
       "      <td>0.7585</td>\n",
       "      <td>0.7648</td>\n",
       "      <td>0</td>\n",
       "      <td>100006</td>\n",
       "    </tr>\n",
       "    <tr>\n",
       "      <th>4</th>\n",
       "      <td>5273.497207</td>\n",
       "      <td>21865.5</td>\n",
       "      <td>12278.805</td>\n",
       "      <td>150530.25</td>\n",
       "      <td>26793.606316</td>\n",
       "      <td>149727.272727</td>\n",
       "      <td>0.000000</td>\n",
       "      <td>146250.000000</td>\n",
       "      <td>0.000000</td>\n",
       "      <td>0.0000</td>\n",
       "      <td>...</td>\n",
       "      <td>0.0</td>\n",
       "      <td>0</td>\n",
       "      <td>0.9816</td>\n",
       "      <td>0.9816</td>\n",
       "      <td>0.9816</td>\n",
       "      <td>0.7552</td>\n",
       "      <td>0.7585</td>\n",
       "      <td>0.7648</td>\n",
       "      <td>0</td>\n",
       "      <td>100007</td>\n",
       "    </tr>\n",
       "  </tbody>\n",
       "</table>\n",
       "<p>5 rows × 466 columns</p>\n",
       "</div>"
      ],
      "text/plain": [
       "   AMT_ANNUITY  AMT_ANNUITY_x  AMT_ANNUITY_y  AMT_APPLICATION   AMT_BALANCE  \\\n",
       "0     0.000000        24700.5       9251.775        179055.00  26793.606316   \n",
       "1  5273.497207        35698.5      56553.990        435436.50  26793.606316   \n",
       "2  5273.497207         6750.0       5357.250         24282.00  26793.606316   \n",
       "3  5273.497207        29686.5      23651.175        272203.26      0.000000   \n",
       "4  5273.497207        21865.5      12278.805        150530.25  26793.606316   \n",
       "\n",
       "   AMT_CREDIT_LIMIT_ACTUAL  AMT_CREDIT_MAX_OVERDUE  AMT_CREDIT_SUM  \\\n",
       "0            149727.272727             1312.010357   111388.838727   \n",
       "1            149727.272727                0.000000   254350.125000   \n",
       "2            149727.272727                0.000000    94518.900000   \n",
       "3            270000.000000                0.000000   188810.835268   \n",
       "4            149727.272727                0.000000   146250.000000   \n",
       "\n",
       "   AMT_CREDIT_SUM_DEBT  AMT_CREDIT_SUM_LIMIT  ...  \\\n",
       "0         70223.142857             3198.8565  ...   \n",
       "1             0.000000           202500.0000  ...   \n",
       "2             0.000000                0.0000  ...   \n",
       "3         36886.500000                0.0000  ...   \n",
       "4             0.000000                0.0000  ...   \n",
       "\n",
       "   WEEKDAY_APPR_PROCESS_START_WEDNESDAY  \\\n",
       "0                                   0.0   \n",
       "1                                   0.0   \n",
       "2                                   0.0   \n",
       "3                                   0.0   \n",
       "4                                   0.0   \n",
       "\n",
       "   WEEKDAY_APPR_PROCESS_START_WEDNESDAY.1  YEARS_BEGINEXPLUATATION_AVG  \\\n",
       "0                                       1                       0.9722   \n",
       "1                                       0                       0.9851   \n",
       "2                                       0                       0.9816   \n",
       "3                                       1                       0.9816   \n",
       "4                                       0                       0.9816   \n",
       "\n",
       "   YEARS_BEGINEXPLUATATION_MEDI  YEARS_BEGINEXPLUATATION_MODE  \\\n",
       "0                        0.9722                        0.9722   \n",
       "1                        0.9851                        0.9851   \n",
       "2                        0.9816                        0.9816   \n",
       "3                        0.9816                        0.9816   \n",
       "4                        0.9816                        0.9816   \n",
       "\n",
       "   YEARS_BUILD_AVG  YEARS_BUILD_MEDI  YEARS_BUILD_MODE  TARGET  SK_ID_CURR  \n",
       "0           0.6192            0.6243            0.6341       1      100002  \n",
       "1           0.7960            0.7987            0.8040       0      100003  \n",
       "2           0.7552            0.7585            0.7648       0      100004  \n",
       "3           0.7552            0.7585            0.7648       0      100006  \n",
       "4           0.7552            0.7585            0.7648       0      100007  \n",
       "\n",
       "[5 rows x 466 columns]"
      ]
     },
     "execution_count": 3,
     "metadata": {},
     "output_type": "execute_result"
    }
   ],
   "source": [
    "imputed_train.head()"
   ]
  },
  {
   "cell_type": "code",
   "execution_count": 4,
   "metadata": {},
   "outputs": [
    {
     "data": {
      "text/plain": [
       "(307511, 466)"
      ]
     },
     "execution_count": 4,
     "metadata": {},
     "output_type": "execute_result"
    }
   ],
   "source": [
    "imputed_train.shape"
   ]
  },
  {
   "cell_type": "code",
   "execution_count": 5,
   "metadata": {},
   "outputs": [],
   "source": [
    "imputed_test = pd.read_csv('C:/Users/dbda/Desktop/Work/Imputed Train/imputed_test.csv')"
   ]
  },
  {
   "cell_type": "code",
   "execution_count": 6,
   "metadata": {},
   "outputs": [
    {
     "data": {
      "text/html": [
       "<div>\n",
       "<style scoped>\n",
       "    .dataframe tbody tr th:only-of-type {\n",
       "        vertical-align: middle;\n",
       "    }\n",
       "\n",
       "    .dataframe tbody tr th {\n",
       "        vertical-align: top;\n",
       "    }\n",
       "\n",
       "    .dataframe thead th {\n",
       "        text-align: right;\n",
       "    }\n",
       "</style>\n",
       "<table border=\"1\" class=\"dataframe\">\n",
       "  <thead>\n",
       "    <tr style=\"text-align: right;\">\n",
       "      <th></th>\n",
       "      <th>AMT_ANNUITY</th>\n",
       "      <th>AMT_ANNUITY_x</th>\n",
       "      <th>AMT_ANNUITY_y</th>\n",
       "      <th>AMT_APPLICATION</th>\n",
       "      <th>AMT_BALANCE</th>\n",
       "      <th>AMT_CREDIT_LIMIT_ACTUAL</th>\n",
       "      <th>AMT_CREDIT_MAX_OVERDUE</th>\n",
       "      <th>AMT_CREDIT_SUM</th>\n",
       "      <th>AMT_CREDIT_SUM_DEBT</th>\n",
       "      <th>AMT_CREDIT_SUM_LIMIT</th>\n",
       "      <th>...</th>\n",
       "      <th>WEEKDAY_APPR_PROCESS_START_TUESDAY.1</th>\n",
       "      <th>WEEKDAY_APPR_PROCESS_START_WEDNESDAY</th>\n",
       "      <th>WEEKDAY_APPR_PROCESS_START_WEDNESDAY.1</th>\n",
       "      <th>YEARS_BEGINEXPLUATATION_AVG</th>\n",
       "      <th>YEARS_BEGINEXPLUATATION_MEDI</th>\n",
       "      <th>YEARS_BEGINEXPLUATATION_MODE</th>\n",
       "      <th>YEARS_BUILD_AVG</th>\n",
       "      <th>YEARS_BUILD_MEDI</th>\n",
       "      <th>YEARS_BUILD_MODE</th>\n",
       "      <th>SK_ID_CURR</th>\n",
       "    </tr>\n",
       "  </thead>\n",
       "  <tbody>\n",
       "    <tr>\n",
       "      <th>0</th>\n",
       "      <td>1236.244186</td>\n",
       "      <td>20560.5</td>\n",
       "      <td>3951.000</td>\n",
       "      <td>24835.50</td>\n",
       "      <td>16381.567500</td>\n",
       "      <td>145843.373494</td>\n",
       "      <td>0.0</td>\n",
       "      <td>161516.250000</td>\n",
       "      <td>23893.770349</td>\n",
       "      <td>0.000000</td>\n",
       "      <td>...</td>\n",
       "      <td>0.0</td>\n",
       "      <td>0.0</td>\n",
       "      <td>0.0</td>\n",
       "      <td>0.9732</td>\n",
       "      <td>0.9732</td>\n",
       "      <td>0.9732</td>\n",
       "      <td>0.7552</td>\n",
       "      <td>0.7585</td>\n",
       "      <td>0.7583</td>\n",
       "      <td>100001</td>\n",
       "    </tr>\n",
       "    <tr>\n",
       "      <th>1</th>\n",
       "      <td>608.785714</td>\n",
       "      <td>17370.0</td>\n",
       "      <td>4813.200</td>\n",
       "      <td>22308.75</td>\n",
       "      <td>16381.567500</td>\n",
       "      <td>145843.373494</td>\n",
       "      <td>0.0</td>\n",
       "      <td>175903.714286</td>\n",
       "      <td>132923.785714</td>\n",
       "      <td>0.000000</td>\n",
       "      <td>...</td>\n",
       "      <td>0.0</td>\n",
       "      <td>0.0</td>\n",
       "      <td>0.0</td>\n",
       "      <td>0.9816</td>\n",
       "      <td>0.9816</td>\n",
       "      <td>0.9816</td>\n",
       "      <td>0.7552</td>\n",
       "      <td>0.7585</td>\n",
       "      <td>0.7583</td>\n",
       "      <td>100005</td>\n",
       "    </tr>\n",
       "    <tr>\n",
       "      <th>2</th>\n",
       "      <td>0.000000</td>\n",
       "      <td>69777.0</td>\n",
       "      <td>11478.195</td>\n",
       "      <td>130871.25</td>\n",
       "      <td>18159.919219</td>\n",
       "      <td>131718.750000</td>\n",
       "      <td>19305.0</td>\n",
       "      <td>532530.923478</td>\n",
       "      <td>0.000000</td>\n",
       "      <td>0.000000</td>\n",
       "      <td>...</td>\n",
       "      <td>0.0</td>\n",
       "      <td>1.0</td>\n",
       "      <td>1.0</td>\n",
       "      <td>0.9816</td>\n",
       "      <td>0.9816</td>\n",
       "      <td>0.9816</td>\n",
       "      <td>0.7552</td>\n",
       "      <td>0.7585</td>\n",
       "      <td>0.7583</td>\n",
       "      <td>100013</td>\n",
       "    </tr>\n",
       "    <tr>\n",
       "      <th>3</th>\n",
       "      <td>1191.480605</td>\n",
       "      <td>49018.5</td>\n",
       "      <td>8091.585</td>\n",
       "      <td>49207.50</td>\n",
       "      <td>8085.058163</td>\n",
       "      <td>225000.000000</td>\n",
       "      <td>0.0</td>\n",
       "      <td>110187.861107</td>\n",
       "      <td>4962.624477</td>\n",
       "      <td>2934.137749</td>\n",
       "      <td>...</td>\n",
       "      <td>0.0</td>\n",
       "      <td>0.0</td>\n",
       "      <td>0.0</td>\n",
       "      <td>0.9970</td>\n",
       "      <td>0.9970</td>\n",
       "      <td>0.9970</td>\n",
       "      <td>0.9592</td>\n",
       "      <td>0.9597</td>\n",
       "      <td>0.9608</td>\n",
       "      <td>100028</td>\n",
       "    </tr>\n",
       "    <tr>\n",
       "      <th>4</th>\n",
       "      <td>4189.362245</td>\n",
       "      <td>32067.0</td>\n",
       "      <td>17782.155</td>\n",
       "      <td>267727.50</td>\n",
       "      <td>16381.567500</td>\n",
       "      <td>145843.373494</td>\n",
       "      <td>0.0</td>\n",
       "      <td>183811.058824</td>\n",
       "      <td>25415.566390</td>\n",
       "      <td>0.000000</td>\n",
       "      <td>...</td>\n",
       "      <td>1.0</td>\n",
       "      <td>0.0</td>\n",
       "      <td>0.0</td>\n",
       "      <td>0.9816</td>\n",
       "      <td>0.9816</td>\n",
       "      <td>0.9816</td>\n",
       "      <td>0.7552</td>\n",
       "      <td>0.7585</td>\n",
       "      <td>0.7583</td>\n",
       "      <td>100038</td>\n",
       "    </tr>\n",
       "  </tbody>\n",
       "</table>\n",
       "<p>5 rows × 465 columns</p>\n",
       "</div>"
      ],
      "text/plain": [
       "   AMT_ANNUITY  AMT_ANNUITY_x  AMT_ANNUITY_y  AMT_APPLICATION   AMT_BALANCE  \\\n",
       "0  1236.244186        20560.5       3951.000         24835.50  16381.567500   \n",
       "1   608.785714        17370.0       4813.200         22308.75  16381.567500   \n",
       "2     0.000000        69777.0      11478.195        130871.25  18159.919219   \n",
       "3  1191.480605        49018.5       8091.585         49207.50   8085.058163   \n",
       "4  4189.362245        32067.0      17782.155        267727.50  16381.567500   \n",
       "\n",
       "   AMT_CREDIT_LIMIT_ACTUAL  AMT_CREDIT_MAX_OVERDUE  AMT_CREDIT_SUM  \\\n",
       "0            145843.373494                     0.0   161516.250000   \n",
       "1            145843.373494                     0.0   175903.714286   \n",
       "2            131718.750000                 19305.0   532530.923478   \n",
       "3            225000.000000                     0.0   110187.861107   \n",
       "4            145843.373494                     0.0   183811.058824   \n",
       "\n",
       "   AMT_CREDIT_SUM_DEBT  AMT_CREDIT_SUM_LIMIT  ...  \\\n",
       "0         23893.770349              0.000000  ...   \n",
       "1        132923.785714              0.000000  ...   \n",
       "2             0.000000              0.000000  ...   \n",
       "3          4962.624477           2934.137749  ...   \n",
       "4         25415.566390              0.000000  ...   \n",
       "\n",
       "   WEEKDAY_APPR_PROCESS_START_TUESDAY.1  WEEKDAY_APPR_PROCESS_START_WEDNESDAY  \\\n",
       "0                                   0.0                                   0.0   \n",
       "1                                   0.0                                   0.0   \n",
       "2                                   0.0                                   1.0   \n",
       "3                                   0.0                                   0.0   \n",
       "4                                   1.0                                   0.0   \n",
       "\n",
       "   WEEKDAY_APPR_PROCESS_START_WEDNESDAY.1  YEARS_BEGINEXPLUATATION_AVG  \\\n",
       "0                                     0.0                       0.9732   \n",
       "1                                     0.0                       0.9816   \n",
       "2                                     1.0                       0.9816   \n",
       "3                                     0.0                       0.9970   \n",
       "4                                     0.0                       0.9816   \n",
       "\n",
       "   YEARS_BEGINEXPLUATATION_MEDI  YEARS_BEGINEXPLUATATION_MODE  \\\n",
       "0                        0.9732                        0.9732   \n",
       "1                        0.9816                        0.9816   \n",
       "2                        0.9816                        0.9816   \n",
       "3                        0.9970                        0.9970   \n",
       "4                        0.9816                        0.9816   \n",
       "\n",
       "   YEARS_BUILD_AVG  YEARS_BUILD_MEDI  YEARS_BUILD_MODE  SK_ID_CURR  \n",
       "0           0.7552            0.7585            0.7583      100001  \n",
       "1           0.7552            0.7585            0.7583      100005  \n",
       "2           0.7552            0.7585            0.7583      100013  \n",
       "3           0.9592            0.9597            0.9608      100028  \n",
       "4           0.7552            0.7585            0.7583      100038  \n",
       "\n",
       "[5 rows x 465 columns]"
      ]
     },
     "execution_count": 6,
     "metadata": {},
     "output_type": "execute_result"
    }
   ],
   "source": [
    "imputed_test.head()"
   ]
  },
  {
   "cell_type": "code",
   "execution_count": 7,
   "metadata": {},
   "outputs": [],
   "source": [
    "train_sk_id_curr = imputed_train['SK_ID_CURR']\n",
    "test_sk_id_curr = imputed_test['SK_ID_CURR']"
   ]
  },
  {
   "cell_type": "code",
   "execution_count": 8,
   "metadata": {},
   "outputs": [],
   "source": [
    "imputed_test=imputed_test.drop('SK_ID_CURR', axis=1)"
   ]
  },
  {
   "cell_type": "code",
   "execution_count": 9,
   "metadata": {},
   "outputs": [
    {
     "data": {
      "text/plain": [
       "(48744, 464)"
      ]
     },
     "execution_count": 9,
     "metadata": {},
     "output_type": "execute_result"
    }
   ],
   "source": [
    "imputed_test.shape"
   ]
  },
  {
   "cell_type": "code",
   "execution_count": 10,
   "metadata": {},
   "outputs": [],
   "source": [
    "X = imputed_train.drop(['TARGET','SK_ID_CURR'],axis=1)\n",
    "y = imputed_train['TARGET']"
   ]
  },
  {
   "cell_type": "code",
   "execution_count": 11,
   "metadata": {},
   "outputs": [],
   "source": [
    "# ###### Now level 1 model-1 XGB ############################################################\n",
    "\n",
    "from xgboost import XGBClassifier \n",
    "model_xgb=XGBClassifier(random_state=2019,learningrate =0.01, nestimators=10000,\n",
    "maxdepth=4, minchildweight=4, subsample=0.8, colsamplebytree=0.8,\n",
    "objective= 'binary:logistic', \n",
    "nthread=4,\n",
    "scaleposweight=2)"
   ]
  },
  {
   "cell_type": "code",
   "execution_count": 12,
   "metadata": {},
   "outputs": [],
   "source": [
    "model_xgb.fit(X,y)\n",
    "pred_xgb=model_xgb.predict_proba(X)[:,1]"
   ]
  },
  {
   "cell_type": "code",
   "execution_count": 13,
   "metadata": {},
   "outputs": [
    {
     "data": {
      "text/plain": [
       "(307511,)"
      ]
     },
     "execution_count": 13,
     "metadata": {},
     "output_type": "execute_result"
    }
   ],
   "source": [
    "pred_xgb.shape"
   ]
  },
  {
   "cell_type": "code",
   "execution_count": 14,
   "metadata": {},
   "outputs": [],
   "source": [
    "####  Now level 1 model-2 CatBoost ######\n",
    "\n",
    "from catboost import CatBoostClassifier\n",
    "model_cat = CatBoostClassifier(iterations=500,\n",
    "                              learning_rate=0.1,\n",
    "                              depth=8,\n",
    "                              loss_function='Logloss',\n",
    "                              bootstrap_type='Bernoulli',\n",
    "                              eval_metric='AUC',\n",
    "                              class_weights=[1, 2],\n",
    "                              random_seed=9, \n",
    "                              verbose=False)"
   ]
  },
  {
   "cell_type": "code",
   "execution_count": 15,
   "metadata": {},
   "outputs": [],
   "source": [
    "model_cat.fit(X,y)\n",
    "pred_cat=model_cat.predict_proba(X)[:,1]"
   ]
  },
  {
   "cell_type": "code",
   "execution_count": 16,
   "metadata": {},
   "outputs": [],
   "source": [
    "###### Combining all the predictions #####\n",
    "\n",
    "pred_xgb=pd.Series(pred_xgb)\n",
    "pred_cat=pd.Series(pred_cat)\n",
    "\n",
    "comb_pred=pd.concat([pred_xgb,pred_cat],axis=1)\n",
    "comb_pred.columns=['pred_xgb','pred_cat']"
   ]
  },
  {
   "cell_type": "code",
   "execution_count": 17,
   "metadata": {},
   "outputs": [],
   "source": [
    "# ###### Now level 2 model LGBM ############################################################\n",
    "\n",
    "from lightgbm import LGBMClassifier\n",
    "model_lgbm = LGBMClassifier(\n",
    "       nthread=4,\n",
    "        objective='binary',\n",
    "       n_estimators=10000,\n",
    "       learning_rate=0.02,\n",
    "       num_leaves=32,\n",
    "       colsample_bytree=0.9497036,\n",
    "       subsample=0.8715623,\n",
    "       max_depth=8,\n",
    "       reg_alpha=0.04,\n",
    "       reg_lambda=0.073,\n",
    "       min_split_gain=0.0222415,\n",
    "       min_child_weight=40,\n",
    "       random_state=2019,\n",
    "       silent=-1,\n",
    "       verbose=-1)"
   ]
  },
  {
   "cell_type": "code",
   "execution_count": 18,
   "metadata": {},
   "outputs": [
    {
     "data": {
      "text/plain": [
       "LGBMClassifier(boosting_type='gbdt', class_weight=None,\n",
       "        colsample_bytree=0.9497036, importance_type='split',\n",
       "        learning_rate=0.02, max_depth=8, min_child_samples=20,\n",
       "        min_child_weight=40, min_split_gain=0.0222415, n_estimators=10000,\n",
       "        n_jobs=-1, nthread=4, num_leaves=32, objective='binary',\n",
       "        random_state=2019, reg_alpha=0.04, reg_lambda=0.073, silent=-1,\n",
       "        subsample=0.8715623, subsample_for_bin=200000, subsample_freq=0,\n",
       "        verbose=-1)"
      ]
     },
     "execution_count": 18,
     "metadata": {},
     "output_type": "execute_result"
    }
   ],
   "source": [
    "model_lgbm.fit(comb_pred,y)"
   ]
  },
  {
   "cell_type": "code",
   "execution_count": 19,
   "metadata": {},
   "outputs": [],
   "source": [
    "pred_xgb = model_xgb.predict_proba(imputed_test)[:,1]"
   ]
  },
  {
   "cell_type": "code",
   "execution_count": 20,
   "metadata": {},
   "outputs": [],
   "source": [
    "pred_cat=model_cat.predict_proba(imputed_test)[:,1]"
   ]
  },
  {
   "cell_type": "code",
   "execution_count": 21,
   "metadata": {},
   "outputs": [],
   "source": [
    "###### Combining all the predictions for test set #####\n",
    "pred_xgb=pd.Series(pred_xgb)\n",
    "pred_cat=pd.Series(pred_cat)\n",
    "comb_pred_test=pd.concat([pred_xgb,pred_cat],axis=1)"
   ]
  },
  {
   "cell_type": "code",
   "execution_count": 22,
   "metadata": {},
   "outputs": [],
   "source": [
    "comb_pred_test.columns=['pred_xgb','pred_cat']"
   ]
  },
  {
   "cell_type": "code",
   "execution_count": 23,
   "metadata": {},
   "outputs": [],
   "source": [
    "pred_test_data=model_lgbm.predict_proba(comb_pred_test)[:,1]"
   ]
  },
  {
   "cell_type": "code",
   "execution_count": 24,
   "metadata": {},
   "outputs": [],
   "source": [
    "submission = pd.DataFrame({'SK_ID_CURR': test_sk_id_curr, 'TARGET': pred_test_data})"
   ]
  },
  {
   "cell_type": "code",
   "execution_count": 26,
   "metadata": {},
   "outputs": [],
   "source": [
    "submission.to_csv('C:/Users/dbda/Desktop/Work/Stack_Ensemble/Stack_1.csv', index = False)"
   ]
  }
 ],
 "metadata": {
  "kernelspec": {
   "display_name": "Python 3",
   "language": "python",
   "name": "python3"
  },
  "language_info": {
   "codemirror_mode": {
    "name": "ipython",
    "version": 3
   },
   "file_extension": ".py",
   "mimetype": "text/x-python",
   "name": "python",
   "nbconvert_exporter": "python",
   "pygments_lexer": "ipython3",
   "version": "3.7.3"
  }
 },
 "nbformat": 4,
 "nbformat_minor": 2
}
