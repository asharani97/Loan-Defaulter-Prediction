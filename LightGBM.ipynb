{
 "cells": [
  {
   "cell_type": "code",
   "execution_count": 2,
   "metadata": {},
   "outputs": [],
   "source": [
    "# import warnings filter\n",
    "from warnings import simplefilter\n",
    "# ignore all future warnings\n",
    "simplefilter(action='ignore', category=FutureWarning)\n",
    "#ignore all Depricated Warning\n",
    "simplefilter(action='ignore', category=DeprecationWarning)\n",
    "simplefilter(action='ignore', category=UserWarning)\n",
    "simplefilter(action='ignore', category=RuntimeWarning)\n",
    "import pandas as pd\n",
    "import io\n",
    "import numpy as np\n",
    "import os\n",
    "import matplotlib.pyplot as plt\n",
    "import seaborn as sns\n",
    "import pickle\n"
   ]
  },
  {
   "cell_type": "code",
   "execution_count": 3,
   "metadata": {},
   "outputs": [],
   "source": [
    "train_data = pd.read_csv(\"F:/Project/application_train.csv\")"
   ]
  },
  {
   "cell_type": "code",
   "execution_count": 4,
   "metadata": {},
   "outputs": [
    {
     "name": "stdout",
     "output_type": "stream",
     "text": [
      "Training data shape:  (307511, 122)\n"
     ]
    }
   ],
   "source": [
    "print('Training data shape: ', train_data.shape)"
   ]
  },
  {
   "cell_type": "code",
   "execution_count": 22,
   "metadata": {},
   "outputs": [],
   "source": [
    "dum_train = pd.get_dummies(train_data, drop_first=True)\n",
    "dum1=dum_train.dropna(axis=1)\n",
    "X = dum1.drop('TARGET',axis=1)\n",
    "y = dum_train['TARGET']"
   ]
  },
  {
   "cell_type": "code",
   "execution_count": 23,
   "metadata": {},
   "outputs": [
    {
     "name": "stdout",
     "output_type": "stream",
     "text": [
      "0         1\n",
      "1         0\n",
      "2         0\n",
      "3         0\n",
      "4         0\n",
      "5         0\n",
      "6         0\n",
      "7         0\n",
      "8         0\n",
      "9         0\n",
      "10        0\n",
      "11        0\n",
      "12        0\n",
      "13        0\n",
      "14        0\n",
      "15        0\n",
      "16        0\n",
      "17        0\n",
      "18        0\n",
      "19        0\n",
      "20        0\n",
      "21        0\n",
      "22        0\n",
      "23        0\n",
      "24        0\n",
      "25        0\n",
      "26        1\n",
      "27        0\n",
      "28        0\n",
      "29        0\n",
      "         ..\n",
      "307481    1\n",
      "307482    0\n",
      "307483    0\n",
      "307484    0\n",
      "307485    0\n",
      "307486    0\n",
      "307487    0\n",
      "307488    0\n",
      "307489    1\n",
      "307490    0\n",
      "307491    0\n",
      "307492    0\n",
      "307493    0\n",
      "307494    0\n",
      "307495    0\n",
      "307496    0\n",
      "307497    0\n",
      "307498    0\n",
      "307499    0\n",
      "307500    0\n",
      "307501    0\n",
      "307502    0\n",
      "307503    0\n",
      "307504    0\n",
      "307505    0\n",
      "307506    0\n",
      "307507    0\n",
      "307508    0\n",
      "307509    1\n",
      "307510    0\n",
      "Name: TARGET, Length: 307511, dtype: int64\n"
     ]
    }
   ],
   "source": [
    "print(y)"
   ]
  },
  {
   "cell_type": "code",
   "execution_count": 24,
   "metadata": {},
   "outputs": [],
   "source": [
    "from sklearn.metrics import accuracy_score\n",
    "import lightgbm as lgb"
   ]
  },
  {
   "cell_type": "code",
   "execution_count": 25,
   "metadata": {},
   "outputs": [],
   "source": [
    "from sklearn.cross_validation import train_test_split\n",
    "x_train, x_test, y_train, y_test = train_test_split(X, y, test_size = 0.30, random_state = 2019)"
   ]
  },
  {
   "cell_type": "code",
   "execution_count": 26,
   "metadata": {},
   "outputs": [],
   "source": [
    "from sklearn.preprocessing import StandardScaler\n",
    "sc = StandardScaler()\n",
    "x_train = sc.fit_transform(x_train)\n",
    "x_test = sc.transform(x_test)"
   ]
  },
  {
   "cell_type": "code",
   "execution_count": 27,
   "metadata": {},
   "outputs": [],
   "source": [
    "d_train = lgb.Dataset(x_train, label=y_train)\n",
    "params = {}\n",
    "params['learning_rate'] = 0.003\n",
    "params['boosting_type'] = 'gbdt'\n",
    "params['objective'] = 'binary'\n",
    "params['metric'] = 'binary_logloss'\n",
    "params['sub_feature'] = 0.5\n",
    "params['num_leaves'] = 10\n",
    "params['min_data'] = 50\n",
    "params['max_depth'] = 50\n"
   ]
  },
  {
   "cell_type": "code",
   "execution_count": 28,
   "metadata": {},
   "outputs": [
    {
     "name": "stdout",
     "output_type": "stream",
     "text": [
      "Completed\n"
     ]
    }
   ],
   "source": [
    "clf = lgb.train(params, d_train, 100)\n",
    "print(\"Completed\")"
   ]
  },
  {
   "cell_type": "code",
   "execution_count": 29,
   "metadata": {},
   "outputs": [],
   "source": [
    "y_pred=clf.predict(x_test)"
   ]
  },
  {
   "cell_type": "code",
   "execution_count": 30,
   "metadata": {},
   "outputs": [],
   "source": [
    "for i in range(0,99):\n",
    "    if y_pred[i]>=.5:\n",
    "        y_pred[i]=1\n",
    "    else:\n",
    "        y_pred[i]=0"
   ]
  },
  {
   "cell_type": "code",
   "execution_count": 34,
   "metadata": {},
   "outputs": [],
   "source": [
    "from sklearn.metrics import confusion_matrix\n",
    "cm = confusion_matrix(y_test, y_pred.round())"
   ]
  },
  {
   "cell_type": "code",
   "execution_count": 32,
   "metadata": {},
   "outputs": [
    {
     "data": {
      "text/plain": [
       "array([0.        , 0.        , 0.        , ..., 0.08259675, 0.09746013,\n",
       "       0.0748256 ])"
      ]
     },
     "execution_count": 32,
     "metadata": {},
     "output_type": "execute_result"
    }
   ],
   "source": [
    "y_pred"
   ]
  },
  {
   "cell_type": "code",
   "execution_count": 37,
   "metadata": {},
   "outputs": [],
   "source": [
    "from sklearn.metrics import accuracy_score\n",
    "accuracy=accuracy_score(y_pred.round(),y_test)"
   ]
  },
  {
   "cell_type": "code",
   "execution_count": 38,
   "metadata": {},
   "outputs": [
    {
     "data": {
      "text/plain": [
       "0.9186159949704078"
      ]
     },
     "execution_count": 38,
     "metadata": {},
     "output_type": "execute_result"
    }
   ],
   "source": [
    "accuracy"
   ]
  },
  {
   "cell_type": "code",
   "execution_count": 39,
   "metadata": {},
   "outputs": [
    {
     "name": "stdout",
     "output_type": "stream",
     "text": [
      " Volume in drive C has no label.\n",
      " Volume Serial Number is 0E99-3D4B\n",
      "\n",
      " Directory of C:\\Users\\dbda\n",
      "\n",
      "07/17/2019  07:27 PM    <DIR>          .\n",
      "07/17/2019  07:27 PM    <DIR>          ..\n",
      "05/29/2019  06:29 PM    <DIR>          .anaconda\n",
      "05/15/2019  06:10 PM               122 .bash_history\n",
      "07/17/2019  11:17 AM    <DIR>          .conda\n",
      "05/31/2019  09:44 AM                44 .condarc\n",
      "03/25/2019  12:34 PM    <DIR>          .continuum\n",
      "03/23/2019  01:07 PM            17,954 .dbshell\n",
      "03/07/2019  06:56 PM    <DIR>          .eclipse\n",
      "03/15/2019  04:42 PM    <DIR>          .idlerc\n",
      "07/17/2019  02:44 PM    <DIR>          .ipynb_checkpoints\n",
      "03/23/2019  12:33 PM    <DIR>          .ipython\n",
      "03/26/2019  04:19 PM    <DIR>          .jupyter\n",
      "03/14/2019  04:10 PM    <DIR>          .m2\n",
      "06/28/2019  08:03 PM    <DIR>          .matplotlib\n",
      "03/08/2019  07:30 PM                 0 .mongorc.js\n",
      "04/03/2019  02:52 PM    <DIR>          .p2\n",
      "03/07/2019  06:56 PM    <DIR>          .scalaide\n",
      "07/17/2019  06:38 PM    <DIR>          .spyder-py3\n",
      "04/04/2019  03:35 PM    <DIR>          .ssh\n",
      "02/22/2019  02:22 PM    <DIR>          .tooling\n",
      "05/28/2019  09:03 AM    <DIR>          .vscode\n",
      "03/07/2019  06:56 PM    <DIR>          .webclipse\n",
      "03/07/2019  06:56 PM               137 .webclipse.properties\n",
      "07/17/2019  06:17 PM            26,834 Bagging.ipynb\n",
      "02/13/2019  11:27 AM    <DIR>          Contacts\n",
      "03/07/2019  06:49 PM    <DIR>          dbms\n",
      "07/03/2019  04:57 PM    <DIR>          Desktop\n",
      "07/03/2019  04:57 PM    <DIR>          Documents\n",
      "07/17/2019  01:05 PM    <DIR>          Downloads\n",
      "02/13/2019  11:27 AM    <DIR>          Favorites\n",
      "06/21/2019  06:11 PM    <DIR>          hsperfdata_dbda\n",
      "07/17/2019  07:27 PM             6,848 LightGBM.ipynb\n",
      "02/13/2019  11:27 AM    <DIR>          Links\n",
      "07/17/2019  11:29 AM    <DIR>          Music\n",
      "07/17/2019  07:30 PM         3,932,160 NTUSER.DAT\n",
      "02/22/2019  06:03 PM    <DIR>          Oracle\n",
      "05/22/2019  11:45 AM    <DIR>          Pictures\n",
      "02/13/2019  11:27 AM    <DIR>          Saved Games\n",
      "02/13/2019  11:27 AM    <DIR>          Searches\n",
      "06/22/2019  04:52 PM               710 Untitled.ipynb\n",
      "07/01/2019  06:44 PM             2,871 untitled0.py\n",
      "06/27/2019  07:47 PM               555 Untitled1.ipynb\n",
      "06/27/2019  08:41 PM    <DIR>          Videos\n",
      "03/26/2019  04:40 PM            14,560 Web_scraping.ipynb\n",
      "              12 File(s)      4,002,795 bytes\n",
      "              33 Dir(s)  73,567,502,336 bytes free\n"
     ]
    }
   ],
   "source": [
    "ls \n"
   ]
  }
 ],
 "metadata": {
  "kernelspec": {
   "display_name": "Python 3",
   "language": "python",
   "name": "python3"
  },
  "language_info": {
   "codemirror_mode": {
    "name": "ipython",
    "version": 3
   },
   "file_extension": ".py",
   "mimetype": "text/x-python",
   "name": "python",
   "nbconvert_exporter": "python",
   "pygments_lexer": "ipython3",
   "version": "3.6.5"
  }
 },
 "nbformat": 4,
 "nbformat_minor": 2
}
